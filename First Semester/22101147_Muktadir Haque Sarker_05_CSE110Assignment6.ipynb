{
 "cells": [
  {
   "cell_type": "markdown",
   "id": "dd7e6899",
   "metadata": {},
   "source": [
    "# Task 1\n",
    "\n",
    "### Write a function called even_checker that takes a number as an argument and prints whether the number is even or odd inside the function.\n",
    "\n",
    "===================================================================\n",
    "\n",
    "\n",
    "Example 1:\\\n",
    "Function Call:\\\n",
    "even_checker(5)\\\n",
    "Output:\\\n",
    "Odd!!\n",
    "\n",
    "Example2:\\\n",
    "Function Call:\\\n",
    "even_checker(2)\\\n",
    "Output:\n",
    "Even!!\n"
   ]
  },
  {
   "cell_type": "code",
   "execution_count": 16,
   "id": "6ba1c007",
   "metadata": {
    "scrolled": true
   },
   "outputs": [
    {
     "name": "stdout",
     "output_type": "stream",
     "text": [
      "Even!!\n"
     ]
    }
   ],
   "source": [
    "def even_checker(n):\n",
    "    if n % 2 == 0:\n",
    "        print(\"Even!!\")\n",
    "    else:\n",
    "        print(\"Odd!!\")\n",
    "even_checker(6)"
   ]
  },
  {
   "cell_type": "markdown",
   "id": "66356e3b",
   "metadata": {},
   "source": [
    "# Task 2\n",
    "### Write a python function that takes the limit as an argument of the Fibonacci series and prints till that limit.\n",
    "===================================================================\\\n",
    "Function Call:\\\n",
    "fibonacci(10)\\\n",
    "Output:\\\n",
    "0 1 1 2 3 5 8 \\\n",
    "===================================================================\\\n",
    "Function Call:\\\n",
    "fibonacci(5)\\\n",
    "Output:\\\n",
    "0 1 1 2 3 5 "
   ]
  },
  {
   "cell_type": "code",
   "execution_count": 17,
   "id": "8241f9c5",
   "metadata": {},
   "outputs": [
    {
     "name": "stdout",
     "output_type": "stream",
     "text": [
      "0 1 1 2 3 5 8 "
     ]
    }
   ],
   "source": [
    "def fibonacci(n):\n",
    "    fib_i = -1\n",
    "    fib_next = 1\n",
    "    answer = 0\n",
    "    while answer < n:\n",
    "        answer = fib_i + fib_next\n",
    "        fib_i = fib_next\n",
    "        fib_next = answer\n",
    "        if answer <= n:\n",
    "            print(answer, end=\" \")\n",
    "\n",
    "\n",
    "fibonacci(10)"
   ]
  },
  {
   "cell_type": "markdown",
   "id": "0a516fe5",
   "metadata": {},
   "source": [
    "# Task 3\n",
    "### Write a function called foo_moo that takes a number as an argument and returns the following statements according to the below mentioned conditions. Then, finally prints the statement in the function call.\n",
    "If the number is divisible by 2, it should return \"Foo\".\\\n",
    "If the number is divisible by 3, it should return \"Moo\".\\\n",
    "If the number is divisible by both 2 and 3, it should return \"FooMoo\".\\\n",
    "Otherwise, it returns \"Boo\". \n",
    "\n",
    "\n",
    "Example1: \\\n",
    "Function Call: \\\n",
    "foo_moo(5) \\\n",
    "Output: \\\n",
    "Boo \\\n",
    "===================================================================\n",
    "\n",
    "Example2:\\\n",
    "Function Call: \\\n",
    "foo_moo(4) \\\n",
    "Output: \\\n",
    "Foo\\\n",
    "===================================================================\n",
    "\n",
    "Example3:\\\n",
    "Function Call:\\\n",
    "foo_moo(6)\\\n",
    "Output:\\\n",
    "FooMoo"
   ]
  },
  {
   "cell_type": "code",
   "execution_count": null,
   "id": "e46d1e9b",
   "metadata": {},
   "outputs": [],
   "source": [
    "def foo_moo(n):\n",
    "    if n % 2 == 0 and n % 3 == 0:\n",
    "        print(\"FooMoo\")\n",
    "    elif n % 2 == 0:\n",
    "        print(\"Foo\")\n",
    "    elif n % 3 == 0:\n",
    "        print(\"Moo\")\n",
    "    else:\n",
    "        print(\"Boo\")\n",
    "\n",
    "\n",
    "foo_moo(5)"
   ]
  },
  {
   "cell_type": "markdown",
   "id": "31ffd95e",
   "metadata": {},
   "source": [
    "# Task 4\n",
    "### Write a python function that takes a string as an argument. Your task is to calculate the number of uppercase letters and lowercase letters and print them in the function. \n",
    "=================================================================== \\\n",
    "Function Call:\\\n",
    "function_name('The quick Sand Man')\\\n",
    "Output:\\\n",
    "No. of Uppercase characters : 3\\\n",
    "No. of Lowercase Characters: 12\\\n",
    "===================================================================\\\n",
    "Function Call:\\\n",
    "function_name('HaRRy PotteR')\\\n",
    "Output:\\\n",
    "No. of Uppercase characters : 5\\\n",
    "No. of Lowercase Characters: 6"
   ]
  },
  {
   "cell_type": "code",
   "execution_count": 6,
   "id": "1600b7a7",
   "metadata": {},
   "outputs": [
    {
     "name": "stdout",
     "output_type": "stream",
     "text": [
      "No. of Uppercase characters : 3\n",
      "No. of Lowercase Characters : 15\n"
     ]
    }
   ],
   "source": [
    "def upperLowerCount(n):\n",
    "    Lcount = 0\n",
    "    Ucount = 0\n",
    "    for i in n:\n",
    "        if i == i.lower():\n",
    "            Lcount += 1\n",
    "        elif i == i.upper():\n",
    "            Ucount += 1\n",
    "    print(\"No. of Uppercase characters :\", Ucount)\n",
    "    print(\"No. of Lowercase Characters :\", Lcount)\n",
    "\n",
    "\n",
    "upperLowerCount('The quick Sand Man')"
   ]
  },
  {
   "cell_type": "markdown",
   "id": "374d597b",
   "metadata": {},
   "source": [
    "# Task 5\n",
    "### Write a function called calculate_tax that takes 3 arguments: your age, salary, and current job designation.\n",
    "#### Your first task is to take these arguments as user input and pass these values to the function.Your second task is to implement the function and calculate the tax as the following conditions:\n",
    "**NO TAX IF YOU ARE LESS THAN 18 YEARS OLD.\\\n",
    "NO TAX IF YOU ARE THE PRESIDENT OF THE COMPANY**\\\n",
    "No tax if you get paid less than 10,000\\\n",
    "5% tax if you get paid between 10K and 20K\\\n",
    "10% tax if you get paid more than 20K\n",
    "##### Finally return this tax value. Then print the returned value in the function call.\n",
    "#### Hints: Here the job designation is a string, so it can be written in both uppercase and lower cases. So, you need to check the value ignoring the case.\n",
    "===================================================================\\\n",
    "**Example1:\\\n",
    "Input:**\\\n",
    "16\\\n",
    "20000\\\n",
    "Student\\\n",
    "**Function Call:**\\\n",
    "calculate_tax(16, 20000, 'Student')\\\n",
    "**Output:**\\\n",
    "0\\\n",
    "===================================================================\\\n",
    "**Example2:\\\n",
    "Input:**\\\n",
    "20\\\n",
    "18000\\\n",
    "assistant manager\\\n",
    "**Function Call:\\ \n",
    "calculate_tax(20, 18000, 'assistant manager')**\\\n",
    "**Output:**\\\n",
    "900.0\\\n",
    "===================================================================\\\n",
    "**Example3:\\\n",
    "Input:**\\\n",
    "20\\\n",
    "22000\\\n",
    "assistant manager\\\n",
    "**Function Call:**\\\n",
    "calculate_tax(20, 22000, 'Assistant manager')\\\n",
    "**Output:**\\\n",
    "2200.0\\\n",
    "===================================================================\\\n",
    "**Example4:\\\n",
    "Input:**\\\n",
    "20\\\n",
    "122000\\\n",
    "president\\\n",
    "**Function Call:**\\\n",
    "calculate_tax(20, 122000, 'president')\\\n",
    "**Output:**\\\n",
    "0"
   ]
  },
  {
   "cell_type": "code",
   "execution_count": 9,
   "id": "129d559e",
   "metadata": {},
   "outputs": [
    {
     "name": "stdout",
     "output_type": "stream",
     "text": [
      "100000\n",
      "52\n",
      "asfd\n",
      "0\n"
     ]
    }
   ],
   "source": [
    "age = int(input())\n",
    "salary = int(input())\n",
    "desig = str(input())\n",
    "def calculate_tax(age, salary, desig):\n",
    "    if age >= 18 and salary >= 10000  and desig != \"president\":\n",
    "        if salary >= 10000 and salary < 20000:\n",
    "            result = salary * (5 / 100 )\n",
    "        elif salary >= 20000:\n",
    "            result = salary * (10 / 100)\n",
    "    else:\n",
    "        result = 0\n",
    "    return result\n",
    "\n",
    "print(calculate_tax(age, salary, desig))"
   ]
  },
  {
   "cell_type": "markdown",
   "id": "51daef04",
   "metadata": {},
   "source": [
    "# Task 6\n",
    "### Write a function which will take 1 argument, number of days.\n",
    "##### Your first task is to take the number of days as user input and pass the value to the function. Your second task is to implement the function and calculate the total number of years, number of months, and the remaining number of days as output. No need to return any value, print inside the function.\n",
    "**Note: Assume, each year to be 365 days and month to be 30 days.\\\n",
    "Hint(1): Divide and mod the main input to get the desired output.\\\n",
    "Hint(2): This task’s calculation is similar to Assignment-1’s seconds to hours, minutes\n",
    "conversion.**\\\n",
    "\n",
    "**Example 01\\\n",
    "Input:**\\\n",
    "4330\\\n",
    "**Function Call:**\\\n",
    "function_name(4330)\\\n",
    "**Output:** \\\n",
    "11 years, 10 months and 15 days\\\n",
    "===================================================================\\\n",
    "**Example02\\\n",
    "Input:**\\\n",
    "2250\\\n",
    "**Function Call:**\\\n",
    "function_name(2250)\\\n",
    "**Output:**\\\n",
    "6 years, 2 months and 0 days"
   ]
  },
  {
   "cell_type": "code",
   "execution_count": 1,
   "id": "043f79b2",
   "metadata": {},
   "outputs": [
    {
     "name": "stdout",
     "output_type": "stream",
     "text": [
      "2250\n",
      "6 years, 2 months and 0 days\n"
     ]
    }
   ],
   "source": [
    "day = int(input())\n",
    "def dayCounter(day):\n",
    "    year = day // 365\n",
    "    rem_day = day % 365\n",
    "    month = rem_day // 30\n",
    "    day = rem_day % 30\n",
    "    print(year, \"years,\", month, \"months and\", day, \"days\")\n",
    "\n",
    "\n",
    "dayCounter(day)"
   ]
  },
  {
   "cell_type": "markdown",
   "id": "8270826b",
   "metadata": {},
   "source": [
    "# Task 7\n",
    "### Write a function called show_palindrome that takes a number as an argument and then returns a palindrome string. Finally, prints the returned value in the function call.\n",
    "**Example1:\\\n",
    "Function Call:**\\\n",
    "show_palindrome(5)\\\n",
    "**Output:**\\\n",
    "123454321\\\n",
    "===================================================================\\\n",
    "**Example2:\n",
    "Function Call:**\\\n",
    "show_palindrome(3)\\\n",
    "**Output:**\\\n",
    "12321"
   ]
  },
  {
   "cell_type": "code",
   "execution_count": 5,
   "id": "f3246c2a",
   "metadata": {},
   "outputs": [
    {
     "name": "stdout",
     "output_type": "stream",
     "text": [
      "123454321\n"
     ]
    }
   ],
   "source": [
    "def show_palindrome(n):\n",
    "    temp = \"\"\n",
    "    for i in range(1, n+1):\n",
    "        temp += str(i)\n",
    "    result = temp + temp[-2::-1]\n",
    "    print(result)\n",
    "\n",
    "\n",
    "show_palindrome(5)"
   ]
  },
  {
   "cell_type": "markdown",
   "id": "dcbd6046",
   "metadata": {},
   "source": [
    "# Task 8\n",
    "### Write a function called show_palindromic_triangle that takes a number as an argument and prints a Palindromic Triangle in the function.\n",
    "**[Must reuse the show_palindrome() function of the previous task]**\\\n",
    "===================================================================\\\n",
    "**Hints(1):\n",
    "Need to use both print() and print( , end = \" \") functions**\\\n",
    "===================================================================\\\n",
    "**Example1:\\\n",
    "Function Call:**\\\n",
    "show_palindromic_triangle(5)\\\n",
    "**Output:**\\\n",
    "          1\\\n",
    "        1 2 1\\\n",
    "      1 2 3 2 1\\\n",
    "    1 2 3 4 3 2 1\\\n",
    "  1 2 3 4 5 4 3 2 1\\\n",
    "===================================================================\\\n",
    "**Example2:\\\n",
    "Function Call:**\\\n",
    "show_palindromic_triangle(3)\\\n",
    "**Output:**\\\n",
    "     1\\\n",
    "   1 2 1\\\n",
    " 1 2 3 2 1\n"
   ]
  },
  {
   "cell_type": "code",
   "execution_count": 18,
   "id": "f8461fab",
   "metadata": {},
   "outputs": [
    {
     "name": "stdout",
     "output_type": "stream",
     "text": [
      "                  1 \n",
      "                1 2 1 \n",
      "              1 2 3 2 1 \n",
      "            1 2 3 4 3 2 1 \n",
      "          1 2 3 4 5 4 3 2 1 \n",
      "        1 2 3 4 5 6 5 4 3 2 1 \n",
      "      1 2 3 4 5 6 7 6 5 4 3 2 1 \n",
      "    1 2 3 4 5 6 7 8 7 6 5 4 3 2 1 \n",
      "  1 2 3 4 5 6 7 8 9 8 7 6 5 4 3 2 1 \n",
      "1 2 3 4 5 6 7 8 9 10 9 8 7 6 5 4 3 2 1 \n"
     ]
    }
   ],
   "source": [
    "def show_palindrome(n):\n",
    "    temp = \"\"\n",
    "    rev_temp = \"\"\n",
    "    for i in range(1, n+1):\n",
    "        temp += str(i) + \" \"\n",
    "    for j in range(n-1, 0, -1):\n",
    "        rev_temp += str(j) + \" \"\n",
    "    result = temp + rev_temp\n",
    "    return result\n",
    "\n",
    "\n",
    "def show_palindromic_triangle(n):\n",
    "    for i in range(1, n+1):\n",
    "        result = (\"  \"*(n-i)) + show_palindrome(i)\n",
    "        print(result)\n",
    "\n",
    "\n",
    "show_palindromic_triangle(10)"
   ]
  },
  {
   "cell_type": "markdown",
   "id": "8a1a86f3",
   "metadata": {},
   "source": [
    "# Task 9\n",
    "### Write a function called area_circumference_generator that takes a radius of a circle as a function parameter and calculates its circumference and area. Then returns these two results as a tuple and prints the results using tuple unpacking in the function call according to the given format.\n",
    "**[Must use tuple packing & unpacking]**\\\n",
    "\n",
    "===================================================================\\\n",
    "**Example1:\\\n",
    "Function Call:**\\\n",
    "area_circumference_generator(1)\\\n",
    "**Output:**\\\n",
    "(3.141592653589793, 6.283185307179586)\\\n",
    "Area of the circle is 3.141592653589793 and circumference is 6.283185307179586\\\n",
    "\n",
    "===================================================================\\\n",
    "**Example2:\\\n",
    "Function Call:**\\\n",
    "area_circumference_generator(1.5)\\\n",
    "**Output:**\\\n",
    "(7.0685834705770345, 9.42477796076938)\\\n",
    "Area of the circle is 7.0685834705770345 and circumference is 9.42477796076938\\\n",
    "\n",
    "===================================================================\\\n",
    "**Example3:\\\n",
    "Function Call:**\\\n",
    "area_circumference_generator(2.5)\\\n",
    "**Output:**\\\n",
    "(19.634954084936208, 15.707963267948966)\\\n",
    "Area of the circle is 19.634954084936208 and circumference is 15.707963267948966"
   ]
  },
  {
   "cell_type": "code",
   "execution_count": 4,
   "id": "6c2a5a9c",
   "metadata": {},
   "outputs": [
    {
     "name": "stdout",
     "output_type": "stream",
     "text": [
      "(19.634954084936208, 15.707963267948966)\n",
      "Area of the circle is 19.634954084936208 and circumference is 15.707963267948966\n"
     ]
    }
   ],
   "source": [
    "import math\n",
    "def area_circumference_generator(n):\n",
    "    area = math.pi * (n ** 2)\n",
    "    circum = 2 * math.pi * n\n",
    "    result = (area, circum)\n",
    "    A, B = result\n",
    "    return result, \"Area of the circle is\", A, \"and circumference is\", B\n",
    "\n",
    "\n",
    "a, b, c, d, e = area_circumference_generator(2.5)\n",
    "print(a, f'{b} {c} {d} {e}', sep=\"\\n\")\n"
   ]
  },
  {
   "cell_type": "markdown",
   "id": "8d5ab751",
   "metadata": {},
   "source": [
    "# Task 10\n",
    "### Write a function called make_square that takes a tuple in the parameter as a range of numbers (starting point and ending point (included)). The function should return a dictionary with the numbers as keys and its squares as values.\n",
    "===================================================================\\\n",
    "**Hints:\n",
    "You need to declare a dictionary to store the result. You should use the range function to run the “for loop”.**\\\n",
    "===================================================================\\\n",
    "**Example1:\\\n",
    "Function Call:**\\\n",
    "make_square((1,3))\\\n",
    "**Output:**\\\n",
    "{1: 1, 2: 4, 3: 9}\\\n",
    "===================================================================\\\n",
    "**Example2:\\\n",
    "Function Call:**\\\n",
    "make_square((5,9))\\\n",
    "**Output:**\\\n",
    "{5: 25, 6: 36, 7: 49, 8: 64, 9: 81}"
   ]
  },
  {
   "cell_type": "code",
   "execution_count": 5,
   "id": "7cd67196",
   "metadata": {},
   "outputs": [
    {
     "name": "stdout",
     "output_type": "stream",
     "text": [
      "{5: 25, 6: 36, 7: 49, 8: 64, 9: 81}\n"
     ]
    }
   ],
   "source": [
    "def make_square(n):\n",
    "    a, b = n\n",
    "    temp = {}\n",
    "    for i in range(a, b+1):\n",
    "        temp[i] = i ** 2\n",
    "    return temp\n",
    "\n",
    "\n",
    "print(make_square((1, 3)))"
   ]
  },
  {
   "cell_type": "markdown",
   "id": "66043331",
   "metadata": {},
   "source": [
    "# Task 11\n",
    "### Write a function called rem_duplicate that takes a tuple in the parameter and return a tuple removing all the duplicate values. Then print the returned tuple in the function call.\n",
    "**[Cannot use remove() or removed() for this task]**\\\n",
    "===================================================================\\\n",
    "**Hints:\n",
    "Unlike lists, tuples are immutable, so the tuple taken as an argument cannot be modified. But\n",
    "the list can be modified and lastly for returning the result use type conversion. You need to use membership operators (in, not in) for preventing adding any duplicates values.**\\\n",
    "===================================================================\\\n",
    "**Example1:\\\n",
    "Function Call:**\\\n",
    "rem_duplicate((1,1,1,2,3,4,5,6,6,6,6,4,0,0,0))\\\n",
    "**Output:**\\\n",
    "(1, 2, 3, 4, 5, 6, 0)\\\n",
    "===================================================================\\\n",
    "**Example2:\\\n",
    "Function Call:**\\\n",
    "rem_duplicate((\"Hi\", 1, 2, 3, 3, \"Hi\",'a', 'a', [1,2]))\\\n",
    "**Output:**\\\n",
    "('Hi', 1, 2, 3, 'a', [1, 2])"
   ]
  },
  {
   "cell_type": "code",
   "execution_count": 7,
   "id": "bb566780",
   "metadata": {},
   "outputs": [
    {
     "name": "stdout",
     "output_type": "stream",
     "text": [
      "('Hi', 1, 2, 3, 'a', [1, 2])\n"
     ]
    }
   ],
   "source": [
    "def rem_duplicate(n):\n",
    "    fresh = []\n",
    "    for i in range(len(n)):\n",
    "        if n[i] not in fresh:\n",
    "            fresh.append(n[i])\n",
    "    return tuple(fresh)\n",
    "\n",
    "\n",
    "print(rem_duplicate((\"Hi\", 1, 2, 3, 3, \"Hi\",'a', 'a', [1,2])))"
   ]
  },
  {
   "cell_type": "markdown",
   "id": "999490ac",
   "metadata": {},
   "source": [
    "# Task 12\n",
    "### Write a python function that takes a list as an argument. Your task is to create a new list where each element can be present at max 2 times. Inside the function, print the number of elements removed from the given list. Finally, return the new list and print the result.\n",
    "=====================================================\\\n",
    "**Hint: You may use list_name.count(element) to count the total number of times an element is in a list. list_name is your new list for this problem.**\\\n",
    "=====================================================\\\n",
    "**Function Call:**\\\n",
    "function_name([1, 2, 3, 3, 3, 3, 4, 5, 8, 8])\\\n",
    "**Output:**\\\n",
    "Removed: 2\\\n",
    "[1, 2, 3, 3, 4, 5, 8, 8]\\\n",
    "================================\\\n",
    "**Function Call:**\\\n",
    "function_name([10, 10, 15, 15, 20])\\\n",
    "**Output:**\\\n",
    "Removed: 0\\\n",
    "[10, 10, 15, 15, 20]\\"
   ]
  },
  {
   "cell_type": "code",
   "execution_count": 8,
   "id": "677792be",
   "metadata": {},
   "outputs": [
    {
     "name": "stdout",
     "output_type": "stream",
     "text": [
      "Removed: 2\n",
      "[1, 2, 3, 3, 4, 5, 8, 8]\n"
     ]
    }
   ],
   "source": [
    "def maxTwoList(n):\n",
    "    list_name = []\n",
    "    j = 0\n",
    "    for i in range(len(n)):\n",
    "        if list_name.count(n[i]) < 2:\n",
    "            list_name.append(n[i])\n",
    "        else:\n",
    "            j += 1\n",
    "    return j, list_name\n",
    "\n",
    "\n",
    "count, result = maxTwoList([1, 2, 3, 3, 3, 3, 4, 5, 8, 8])\n",
    "print(f'Removed: {count}', result, sep=\"\\n\")"
   ]
  },
  {
   "cell_type": "markdown",
   "id": "0b9b0bc8",
   "metadata": {},
   "source": [
    "# Task 13\n",
    "### Write a python function that will perform the basic calculation (addition, subtraction, multiplication and division) based on 3 arguments. They are: Operator ('+', '-', '/', '*')\n",
    "**First Operand (any number)\\\n",
    "Second Operand (any number)**\n",
    "### Your first task is to take these arguments as user input and pass the values to the function parameters. Your second task is to write a function and perform the calculation based on the given operator. Then, finally return the result in the function call and print the result.\n",
    "=====================================================\\\n",
    "**Input:**\\\n",
    "\"+\"\\\n",
    "10\\\n",
    "20\\\n",
    "**Function Call:**\\\n",
    "function_name(\"+\", 10, 20)\\\n",
    "**Output:**\\\n",
    "30.0\\\n",
    "================================\\\n",
    "**Input:**\\\n",
    "\"*\"\\\n",
    "5.5\\\n",
    "2.5\\\n",
    "**Function Call:**\\\n",
    "function_name(\"*\", 5.5, 2.5)\\\n",
    "**Output:**\\\n",
    "13.75\n"
   ]
  },
  {
   "cell_type": "code",
   "execution_count": 9,
   "id": "e5a3b97d",
   "metadata": {},
   "outputs": [
    {
     "name": "stdout",
     "output_type": "stream",
     "text": [
      "+\n",
      "20\n",
      "10\n",
      "30.0\n"
     ]
    }
   ],
   "source": [
    "def calculation(oper, f1, f2):\n",
    "    if oper == \"+\":\n",
    "        result = f1 + f2\n",
    "    elif oper == \"*\":\n",
    "        result = f1 * f2\n",
    "    elif oper == \"-\":\n",
    "        result = f1 - f2\n",
    "    else:\n",
    "        result = f1 / f2\n",
    "    return result\n",
    "\n",
    "\n",
    "oper = input()\n",
    "f1 = float(input())\n",
    "f2 = float(input())\n",
    "print(calculation(oper, f1, f2))"
   ]
  },
  {
   "cell_type": "markdown",
   "id": "6e71f40d",
   "metadata": {},
   "source": [
    "# Task 14\n",
    "### Write a function which will take 2 arguments. They are:\n",
    "**• Sentence\\\n",
    "• Position**\n",
    "### Your first task is to take these arguments as user input and pass these values to the function parameters.Your second task is to implement the function and remove the characters at the index number which is divisible by the position (Avoid the index number 0 as it will always be divisible by the position, so no need to remove the index 0 character). Finally, add the removed characters at the end of the new string. Return the value and then finally, print the new string at the function call.\n",
    "**[Cannot use remove() or removed() for this task]**\\\n",
    "**Input:**\\\n",
    "\"I love programming.\"\\\n",
    "3\\\n",
    "**Function call:**\\\n",
    "function_name(\"I love programming.\", 3)\\\n",
    "**Output:**\\\n",
    "I lveprgrmmngo oai.\\\n",
    "===================================================================\\\n",
    "**Input:**\\\n",
    "\"Python is easy to learn. I love python.\"\\\n",
    "6\\\n",
    "**Function call:**\\\n",
    "function_name(\"Python is easy to learn. I love python.\", 6)\\\n",
    "**Output:**\\\n",
    "Pythonis eay to earn.I lov pythn. sl eo"
   ]
  },
  {
   "cell_type": "code",
   "execution_count": null,
   "id": "33458115",
   "metadata": {},
   "outputs": [],
   "source": [
    "sample = input()[1:-1:]\n",
    "num = int(input())\n",
    "def remover(a, b):\n",
    "    result = str()\n",
    "    remvd = str()\n",
    "    for i in range(len(a)):\n",
    "        if i == 0:\n",
    "            result += a[i]\n",
    "        elif i % b != 0:\n",
    "            result += a[i]\n",
    "        else:\n",
    "            remvd += a[i]\n",
    "    return result + remvd\n",
    "\n",
    "\n",
    "print(remover(sample, num))"
   ]
  },
  {
   "cell_type": "markdown",
   "id": "e8f0602e",
   "metadata": {},
   "source": [
    "# Task 15\n",
    "**You have been hired as an app developer for the company. The company plans to make an app**\\\n",
    "**for a grocery store where the user can order groceries and see the total amount to be paid in\n",
    "the cart section.**\\\n",
    "**To build this feature, you have to write a function that takes 2 arguments. They are:**\\\n",
    "**• order_items (must be a list)**\\\n",
    "**• location (default value should be set to \"Dhanmondi\")**\n",
    "###### Your first task is to take a list of items from the user. Pass the list into the function parameter along with the optional location (Use default argument technique).\n",
    "**(Also, no need to take location as input, pass this any value you want.)**\n",
    "###### Your second task is to implement the function. In the function, create a dictionary for the items shown in the table. Calculate the total price of the items passed as a list to the function.\n",
    "**Additionally, add a delivery fee of 30 taka if the location is Dhanmondi. Otherwise, add a delivery fee of 70 taka. Finally, return the value and print it.**\n",
    "\n",
    "**Item Price(Tk)\\\n",
    "Rice 105\\\n",
    "Potato 20\\\n",
    "Chicken\\\n",
    "250\\\n",
    "Beef 510\\\n",
    "Oil 85**\n",
    "##### Hint: The keys are the items and values are the corresponding price. Iterate the items in the list and check if the items in the list are available in the dictionary keys or not. If it is available, add the price.\n",
    "===================================================================\\\n",
    "**Example1:**\\\n",
    "function_name([\"Rice\", \"Beef\", \"Rice\"], \"Mohakhali\")\\\n",
    "total = 105 + 510 + 105 = 720 (Take the price of each item and add them.)\\\n",
    "total = 720 + 70 = 790 (Finally, add the delivery fee based on the location.)\\\n",
    "**Input:**\\\n",
    "[\"Rice\", \"Beef\", \"Rice\"]\\\n",
    "**Function Call:**\\\n",
    "function_name([\"Rice\", \"Beef\", \"Rice\"], \"Mohakhali\")\\\n",
    "**Output:**\\\n",
    "790\\\n",
    "\n",
    "===================================================================\\\n",
    "**Example2:**\\\n",
    "function_name([\"Rice\", \"Beef\", \"Rice\"])\\\n",
    "total = 105 + 510 + 105 = 720 (Take the price of each item and add them.)\\\n",
    "total = 720 + 30 = 750 (Since no location is passed in the parameter, it will use the default\\\n",
    "location-\"Dhanmondi\". For Dhanmondi, delivery fee of 30 taka)\\\n",
    "**Input:**\\\n",
    "[\"Rice\", \"Beef\", \"Rice\"]\\\n",
    "Function Call:\\\n",
    "function_name()\\\n",
    "**Output:**\\\n",
    "750"
   ]
  },
  {
   "cell_type": "code",
   "execution_count": 14,
   "id": "b89876c7",
   "metadata": {},
   "outputs": [
    {
     "name": "stdout",
     "output_type": "stream",
     "text": [
      "[\"Rice\", \"Beef\", \"Rice\"]\n",
      "750\n"
     ]
    }
   ],
   "source": [
    "def grocery(products, loc=\"Dhanmondi\"):\n",
    "    shop = {\"Rice\": 105, \"Potato\": 20, \"Chicken\": 250, \"Beef\": 510, \"Oil\": 85}\n",
    "    price = 0\n",
    "    for i in products:\n",
    "        a = i[1:-1]\n",
    "        price += shop[a]\n",
    "    if loc != \"Dhanmondi\":\n",
    "        price += 70\n",
    "    else:\n",
    "        price += 30\n",
    "    return price\n",
    "\n",
    "\n",
    "products = input()[1:-1].split(\", \")\n",
    "print(grocery(products, \"Dhanmondi\"))"
   ]
  }
 ],
 "metadata": {
  "kernelspec": {
   "display_name": "Python 3 (ipykernel)",
   "language": "python",
   "name": "python3"
  },
  "language_info": {
   "codemirror_mode": {
    "name": "ipython",
    "version": 3
   },
   "file_extension": ".py",
   "mimetype": "text/x-python",
   "name": "python",
   "nbconvert_exporter": "python",
   "pygments_lexer": "ipython3",
   "version": "3.9.7"
  }
 },
 "nbformat": 4,
 "nbformat_minor": 5
}
