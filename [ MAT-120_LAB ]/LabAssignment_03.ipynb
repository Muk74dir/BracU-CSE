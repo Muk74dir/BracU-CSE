{
 "cells": [
  {
   "cell_type": "markdown",
   "metadata": {
    "id": "bxRjJeqjdsWq"
   },
   "source": [
    "First order differential equations\n",
    "\n",
    "\n",
    "Reference model\n",
    "\\begin{cases} y' = f(x,y) \\\\ y(0)= y_0\\end{cases}\n",
    "\n",
    "Example\n",
    "Differential equation:\n",
    "\n",
    "\\begin{cases} y' = -{y^2\\over x^2} \\\\ y(1)= {1\\over 2}\\end{cases}\n",
    "\n",
    "\n",
    "\n",
    "​Analytical solution in Python (SymPy):\n"
   ]
  },
  {
   "cell_type": "markdown",
   "metadata": {
    "id": "ifHUPcNofObo"
   },
   "source": [
    "\n",
    "**Initialization and symbolic variables**"
   ]
  },
  {
   "cell_type": "code",
   "execution_count": null,
   "metadata": {
    "id": "CEm5TRvqfN25"
   },
   "outputs": [],
   "source": [
    "# Symbolic library and its initialization\n",
    "import sympy as sy\n",
    "\n",
    "sy.init_printing()\n",
    "\n",
    "# For function plot\n",
    "from sympy.plotting import plot\n",
    "\n",
    "# Some common variables\n",
    "x = sy.symbols('x')\n",
    "\n",
    "y = sy.Function('y')\n",
    "\n",
    "y1 = sy.Derivative(y(x), x)\n",
    "\n",
    "#print(y1)"
   ]
  },
  {
   "cell_type": "markdown",
   "metadata": {
    "id": "Ek1Qw59LfbSH"
   },
   "source": [
    "**General solution**"
   ]
  },
  {
   "cell_type": "code",
   "execution_count": null,
   "metadata": {
    "colab": {
     "base_uri": "https://localhost:8080/"
    },
    "id": "vbuGIb9YfbCv",
    "outputId": "6b7f11fb-143e-478e-c425-abce883c6b68"
   },
   "outputs": [
    {
     "name": "stdout",
     "output_type": "stream",
     "text": [
      "         -x    \n",
      "y(x) = ────────\n",
      "       C₁⋅x + 1\n"
     ]
    }
   ],
   "source": [
    "# General solution\n",
    "\n",
    "# Definition\n",
    "eqdiff = y1 + (y(x)**2)/x**2\n",
    "\n",
    "# Solution\n",
    "sol = sy.dsolve(eqdiff, y(x))\n",
    "\n",
    "# Print\n",
    "sy.pprint(sol)"
   ]
  },
  {
   "cell_type": "markdown",
   "metadata": {
    "id": "08H7hFpBP7as"
   },
   "source": [
    "**Task 1**\n",
    "Solve the differential equation \n",
    "$y\n",
    "′\n",
    "=\n",
    "2\n",
    "t\n",
    "(\n",
    "25\n",
    "−\n",
    "y\n",
    ")$\n",
    "."
   ]
  },
  {
   "cell_type": "code",
   "execution_count": null,
   "metadata": {
    "id": "FPNqDqq0ZERL"
   },
   "outputs": [],
   "source": []
  },
  {
   "cell_type": "markdown",
   "metadata": {
    "id": "eidjtkvjf3bY"
   },
   "source": [
    "**Solution with the initial condition**"
   ]
  },
  {
   "cell_type": "code",
   "execution_count": null,
   "metadata": {
    "colab": {
     "base_uri": "https://localhost:8080/"
    },
    "id": "JUDpZY9Ff3Mq",
    "outputId": "802b7661-c871-4f27-d970-a289830cebaf"
   },
   "outputs": [
    {
     "name": "stdout",
     "output_type": "stream",
     "text": [
      "         -x   \n",
      "y(x) = ───────\n",
      "       1 - 3⋅x\n"
     ]
    }
   ],
   "source": [
    "# Solution with the given initial conditions\n",
    "sol = sy.dsolve(eqdiff, y(x),ics={y(1): '1/2'})\n",
    "sy.pprint(sol)\n"
   ]
  },
  {
   "cell_type": "markdown",
   "metadata": {
    "id": "5Z76SmLkQIi7"
   },
   "source": [
    "**Task 2:** Solve the initial value problem:\n",
    "$d\n",
    "y/\n",
    "d\n",
    "x\n",
    "=\n",
    "2\n",
    "x\n",
    ",\n",
    "y\n",
    "(\n",
    "0\n",
    ")\n",
    "=\n",
    "2$\n",
    "."
   ]
  },
  {
   "cell_type": "code",
   "execution_count": null,
   "metadata": {
    "id": "NGHt9iAocyK-"
   },
   "outputs": [],
   "source": []
  },
  {
   "cell_type": "markdown",
   "metadata": {
    "id": "84E-_QmBgF5B"
   },
   "source": [
    "**Plot and svg**"
   ]
  },
  {
   "cell_type": "code",
   "execution_count": null,
   "metadata": {
    "colab": {
     "base_uri": "https://localhost:8080/",
     "height": 297
    },
    "id": "7f_E8Nc-gFQg",
    "outputId": "92c7713a-5d0f-450f-8f35-52205593980f"
   },
   "outputs": [
    {
     "data": {
      "image/png": "[encoded data removed]",
      "text/plain": [
       "<Figure size 432x288 with 1 Axes>"
      ]
     },
     "metadata": {
      "needs_background": "light"
     },
     "output_type": "display_data"
    }
   ],
   "source": [
    "# Plotting\n",
    "\n",
    "title = sy.latex(sol.rhs)\n",
    "xtol = 1e-3\n",
    "p1 = plot(sol.rhs, (x,-1,1/3-xtol), show=False, ylim=[-10,10],)\n",
    "p2 = plot(sol.rhs, (x,1/3+xtol,1), show=False, ylim=[-10,10])\n",
    "p1.extend(p2)\n",
    "p1.show()\n",
    "\n",
    "# Save in svg format\n",
    "#p1.save(\"ode-1.svg\")"
   ]
  },
  {
   "cell_type": "markdown",
   "metadata": {
    "id": "HVEMy2bWglRM"
   },
   "source": [
    "**Plot using matplotlib**"
   ]
  },
  {
   "cell_type": "code",
   "execution_count": null,
   "metadata": {
    "colab": {
     "base_uri": "https://localhost:8080/",
     "height": 269
    },
    "id": "iv6pgZFcgk_w",
    "outputId": "5ede5618-9275-417b-e36a-cd73a20a6bdb"
   },
   "outputs": [
    {
     "data": {
      "image/png": "[encoded data removed]",
      "text/plain": [
       "<Figure size 432x288 with 1 Axes>"
      ]
     },
     "metadata": {
      "needs_background": "light"
     },
     "output_type": "display_data"
    }
   ],
   "source": [
    "# plot using matplotlib\n",
    "f = sy.lambdify(x, sol.rhs, 'numpy')\n",
    "\n",
    "import numpy as np\n",
    "import matplotlib.pyplot as plt\n",
    "\n",
    "x1 = np.linspace(-1, 1/3-xtol, num=100)\n",
    "x2 = np.linspace(1/3+xtol, 2, num=100)\n",
    "\n",
    "plt.plot(x1, f(x1), '-', c='C0')\n",
    "plt.plot(x2, f(x2), '-', c='C0')\n",
    "plt.ylim(-10,10)\n",
    "plt.savefig(\"ode-1-mpl.svg\")\n",
    "plt.show()"
   ]
  },
  {
   "cell_type": "markdown",
   "metadata": {
    "id": "pqvcJTwPhxIQ"
   },
   "source": [
    "**Numerical solution in Python (SciPy)**\n",
    "\n",
    "Initialization and equation in the standard solver format"
   ]
  },
  {
   "cell_type": "code",
   "execution_count": null,
   "metadata": {
    "id": "Epg6HlEwddDD"
   },
   "outputs": [],
   "source": [
    "# Libraries\n",
    "import numpy as np\n",
    "import matplotlib.pyplot as plt\n",
    "from scipy.integrate import odeint\n",
    "\n",
    "# Model\n",
    "def model(y, t):\n",
    "    dydt = -y**2/t**2\n",
    "    return dydt"
   ]
  },
  {
   "cell_type": "markdown",
   "metadata": {
    "id": "3dvLJ-0wiUH9"
   },
   "source": [
    "**Numerical solution in a given interval**"
   ]
  },
  {
   "cell_type": "code",
   "execution_count": null,
   "metadata": {
    "id": "H26DKJSna-74"
   },
   "outputs": [],
   "source": [
    "# Solution\n",
    "# t = np.linspace(1, 10, 100)\n",
    "# y0 = 1/2\n",
    "# sol = odeint(model, y0, t)\n",
    "\n",
    "# print(t,sol)"
   ]
  },
  {
   "cell_type": "markdown",
   "metadata": {
    "id": "kd51sdbXimZG"
   },
   "source": [
    "**Plot and svg export**"
   ]
  },
  {
   "cell_type": "code",
   "execution_count": null,
   "metadata": {
    "id": "S5sC_ktMbB_A"
   },
   "outputs": [],
   "source": [
    "# # plot\n",
    "# #plt.figure(figsize=(11,9))\n",
    "# plt.plot(t,sol, label=\"y\")\n",
    "# plt.legend()\n",
    "\n",
    "# # Save in svg format\n",
    "# plt.savefig(\"ode_num-1.svg\")\n",
    "# plt.show()"
   ]
  },
  {
   "cell_type": "markdown",
   "metadata": {
    "id": "BG0vyngKpzwT"
   },
   "source": [
    "***ASSIGNMENT***"
   ]
  },
  {
   "cell_type": "markdown",
   "metadata": {
    "id": "ouFDGPtvqbNy"
   },
   "source": [
    "**QUESTION1:**\n",
    "Solve the differential equation \n",
    "$y\n",
    "′\n",
    "=\n",
    "2\n",
    "t\n",
    "(\n",
    "25\n",
    "−\n",
    "y\n",
    ")$\n",
    "."
   ]
  },
  {
   "cell_type": "markdown",
   "metadata": {
    "id": "nXKJiu-RrCtp"
   },
   "source": [
    "**QUESTION2:** Solve the initial value problem:\n",
    "$d\n",
    "y/\n",
    "d\n",
    "x\n",
    "=\n",
    "2\n",
    "x\n",
    ",\n",
    "y\n",
    "(\n",
    "0\n",
    ")\n",
    "=\n",
    "2$\n",
    "."
   ]
  },
  {
   "cell_type": "markdown",
   "metadata": {
    "id": "prcd1kiurmAx"
   },
   "source": [
    "**QUESTION3:**\n",
    "Consider the equation of a freely falling object\n",
    "$dv/\n",
    "dt\n",
    "= g – bv^2$\n",
    "1. Solve the differential equation where Take $b = 1$ and $g = 10$\n",
    "2. Plot $v$ vs $t$\n",
    "3. Plot $b$ vs $t$ in different values of $b$, i.e $b = 1,$ $b = 2,$ $b = 3$, $b = -4$, and $b = -2$."
   ]
  },
  {
   "cell_type": "markdown",
   "metadata": {
    "id": "pNHySlIezOsc"
   },
   "source": [
    "## Solution 1"
   ]
  },
  {
   "cell_type": "code",
   "execution_count": 1,
   "metadata": {
    "colab": {
     "base_uri": "https://localhost:8080/"
    },
    "id": "TtV2pliDi_hQ",
    "outputId": "0835846a-3ba7-46fc-f0a7-ea3506990c23"
   },
   "outputs": [
    {
     "name": "stdout",
     "output_type": "stream",
     "text": [
      "             2     \n",
      "           -t      \n",
      "y(t) = C₁⋅ℯ    + 25\n"
     ]
    }
   ],
   "source": [
    "# Symbolic library and its initialization\n",
    "import sympy as sy\n",
    "\n",
    "sy.init_printing()\n",
    "\n",
    "# For function plot\n",
    "from sympy.plotting import plot\n",
    "\n",
    "# Some common variables\n",
    "t = sy.symbols('t')\n",
    "\n",
    "y = sy.Function('y')\n",
    "\n",
    "y1 = sy.Derivative(y(t), t)\n",
    "\n",
    "#print(y1)\n",
    "\n",
    "# General solution\n",
    "\n",
    "# Definition\n",
    "eqdiff = y1 - 2*t*(25 - y(t))\n",
    "\n",
    "# Solution\n",
    "sol = sy.dsolve(eqdiff, y(t))\n",
    "\n",
    "# Print\n",
    "sy.pprint(sol)\n"
   ]
  },
  {
   "cell_type": "markdown",
   "metadata": {
    "id": "D8DSNa_1zc7H"
   },
   "source": [
    "## Solution 2"
   ]
  },
  {
   "cell_type": "code",
   "execution_count": 2,
   "metadata": {
    "colab": {
     "base_uri": "https://localhost:8080/"
    },
    "id": "kFQELypDkWDQ",
    "outputId": "a8f57f01-a8c9-4403-adfd-986d0e89b0d4"
   },
   "outputs": [
    {
     "name": "stdout",
     "output_type": "stream",
     "text": [
      "        2    \n",
      "y(x) = x  + 2\n"
     ]
    }
   ],
   "source": [
    "x = sy.symbols('x')\n",
    "\n",
    "y1 = sy.Derivative(y(x), x)\n",
    "\n",
    "#print(y1)\n",
    "\n",
    "# General solution\n",
    "\n",
    "# Definition\n",
    "eqdiff = y1 - 2*x\n",
    "\n",
    "# Solution\n",
    "sol = sy.dsolve(eqdiff, y(x))\n",
    "\n",
    "sol = sy.dsolve(eqdiff, y(x),ics={y(0): '2'})\n",
    "sy.pprint(sol)\n",
    "\n"
   ]
  },
  {
   "cell_type": "markdown",
   "metadata": {
    "id": "0kk63rGgziYE"
   },
   "source": [
    "## Solution 3.1"
   ]
  },
  {
   "cell_type": "code",
   "execution_count": 3,
   "metadata": {
    "colab": {
     "base_uri": "https://localhost:8080/"
    },
    "id": "lGxuyYWDkwz7",
    "outputId": "f433223d-0215-45ee-b20c-aaf989295559"
   },
   "outputs": [
    {
     "name": "stdout",
     "output_type": "stream",
     "text": [
      "            -√10       \n",
      "v(t) = ────────────────\n",
      "       tanh(C₁ - √10⋅t)\n"
     ]
    }
   ],
   "source": [
    "t = sy.symbols('t')\n",
    "\n",
    "v = sy.Function('v')\n",
    "\n",
    "v1 = sy.Derivative(v(t), t)\n",
    "\n",
    "#print(y1)\n",
    "\n",
    "# General solution\n",
    "\n",
    "# Definition\n",
    "eqdiff = v1 - (10 - 1*(v(t)**2))\n",
    "\n",
    "# Solution\n",
    "sol = sy.dsolve(eqdiff, v(t))\n",
    "\n",
    "# Print\n",
    "sy.pprint(sol)\n"
   ]
  },
  {
   "cell_type": "markdown",
   "metadata": {
    "id": "ZSWcYFuLzqim"
   },
   "source": [
    "## Solution 3.2"
   ]
  },
  {
   "cell_type": "code",
   "execution_count": 26,
   "metadata": {
    "colab": {
     "base_uri": "https://localhost:8080/",
     "height": 295
    },
    "id": "vBUZ8lFlohHr",
    "outputId": "d7800ca9-4566-46c4-c5d9-746db728ff33"
   },
   "outputs": [
    {
     "data": {
      "image/png": "[encoded data removed]",
      "text/plain": [
       "<Figure size 432x288 with 1 Axes>"
      ]
     },
     "metadata": {
      "needs_background": "light"
     },
     "output_type": "display_data"
    }
   ],
   "source": [
    "# Libraries\n",
    "import numpy as np\n",
    "import matplotlib.pyplot as plt\n",
    "from scipy.integrate import odeint\n",
    "\n",
    "# Model\n",
    "def dvdt(t, v):\n",
    "    return 10 - 1*v**2\n",
    "v0 = 0\n",
    "\n",
    "t = np.linspace(0, 1, 100)\n",
    "sol = odeint(dvdt, y0=v0, t=t, tfirst=True)\n",
    "\n",
    "plt.plot(t, sol)\n",
    "plt.title('v vs t graph')\n",
    "plt.ylabel('v')\n",
    "plt.xlabel('t')\n",
    "plt.show()\n"
   ]
  },
  {
   "cell_type": "markdown",
   "metadata": {
    "id": "KnOPNzuSz0J3"
   },
   "source": [
    "## Solution 3.3"
   ]
  },
  {
   "cell_type": "code",
   "execution_count": 27,
   "metadata": {
    "colab": {
     "base_uri": "https://localhost:8080/",
     "height": 295
    },
    "id": "-vgQSy18ohrR",
    "outputId": "40b4ccd0-93ef-4de9-9a1d-8f59eef7ad6f"
   },
   "outputs": [
    {
     "data": {
      "image/png": "[encoded data removed]",
      "text/plain": [
       "<Figure size 432x288 with 1 Axes>"
      ]
     },
     "metadata": {
      "needs_background": "light"
     },
     "output_type": "display_data"
    }
   ],
   "source": [
    "sol_1 = odeint(lambda t, v: 10 - 1*v**2, y0=v0, t=t, tfirst=True)\n",
    "plt.plot(t, sol_1)\n",
    "\n",
    "plt.title('v vs t graph (b = 1)')\n",
    "plt.ylabel('v')\n",
    "plt.xlabel('t')\n",
    "plt.show()\n"
   ]
  },
  {
   "cell_type": "code",
   "execution_count": 28,
   "metadata": {
    "colab": {
     "base_uri": "https://localhost:8080/",
     "height": 295
    },
    "id": "2HZWw8pNx6VX",
    "outputId": "1dfd6f5d-8d84-4350-c64d-8170358b58bd"
   },
   "outputs": [
    {
     "data": {
      "image/png": "[encoded data removed]",
      "text/plain": [
       "<Figure size 432x288 with 1 Axes>"
      ]
     },
     "metadata": {
      "needs_background": "light"
     },
     "output_type": "display_data"
    }
   ],
   "source": [
    "sol_2 = odeint(lambda t, v: 10 - 2*v**2, y0=v0, t=t, tfirst=True)\n",
    "plt.plot(t, sol_2)\n",
    "\n",
    "plt.title('v vs t graph (b = 2)')\n",
    "plt.ylabel('v')\n",
    "plt.xlabel('t')\n",
    "plt.show()\n"
   ]
  },
  {
   "cell_type": "code",
   "execution_count": 29,
   "metadata": {
    "colab": {
     "base_uri": "https://localhost:8080/",
     "height": 295
    },
    "id": "iDUb4Fgxx8Rz",
    "outputId": "51cc8ea8-6166-4603-c3f7-4496aa1bc805"
   },
   "outputs": [
    {
     "data": {
      "image/png": "[encoded data removed]",
      "text/plain": [
       "<Figure size 432x288 with 1 Axes>"
      ]
     },
     "metadata": {
      "needs_background": "light"
     },
     "output_type": "display_data"
    }
   ],
   "source": [
    "sol_3 = odeint(lambda t, v: 10 - 3*v**2, y0=v0, t=t, tfirst=True)\n",
    "plt.plot(t, sol_3)\n",
    "\n",
    "plt.title('v vs t graph (b = 3)')\n",
    "plt.ylabel('v')\n",
    "plt.xlabel('t')\n",
    "plt.show()\n"
   ]
  },
  {
   "cell_type": "code",
   "execution_count": 30,
   "metadata": {
    "colab": {
     "base_uri": "https://localhost:8080/",
     "height": 350
    },
    "id": "skuZtrgxx9e7",
    "outputId": "b92d9224-d93a-41c6-eedb-7bc200dfd5c4"
   },
   "outputs": [
    {
     "name": "stderr",
     "output_type": "stream",
     "text": [
      "/usr/local/lib/python3.7/dist-packages/scipy/integrate/odepack.py:247: ODEintWarning: Excess work done on this call (perhaps wrong Dfun type). Run with full_output = 1 to get quantitative information.\n",
      "  warnings.warn(warning_msg, ODEintWarning)\n"
     ]
    },
    {
     "data": {
      "image/png": "[encoded data removed]",
      "text/plain": [
       "<Figure size 432x288 with 1 Axes>"
      ]
     },
     "metadata": {
      "needs_background": "light"
     },
     "output_type": "display_data"
    }
   ],
   "source": [
    "sol_4 = odeint(lambda t, v: 10 + 2*v**2, y0=v0, t=t, tfirst=True)\n",
    "plt.plot(t, sol_4)\n",
    "\n",
    "plt.title('v vs t graph (b = -2)')\n",
    "plt.ylabel('v')\n",
    "plt.xlabel('t')\n",
    "plt.show()\n"
   ]
  },
  {
   "cell_type": "code",
   "execution_count": 31,
   "metadata": {
    "colab": {
     "base_uri": "https://localhost:8080/",
     "height": 350
    },
    "id": "zrrH2Gi-x-g1",
    "outputId": "6e627821-c120-447f-e6b4-15c1c71903f8"
   },
   "outputs": [
    {
     "name": "stderr",
     "output_type": "stream",
     "text": [
      "/usr/local/lib/python3.7/dist-packages/scipy/integrate/odepack.py:247: ODEintWarning: Excess work done on this call (perhaps wrong Dfun type). Run with full_output = 1 to get quantitative information.\n",
      "  warnings.warn(warning_msg, ODEintWarning)\n"
     ]
    },
    {
     "data": {
      "image/png": "[encoded data removed]",
      "text/plain": [
       "<Figure size 432x288 with 1 Axes>"
      ]
     },
     "metadata": {
      "needs_background": "light"
     },
     "output_type": "display_data"
    }
   ],
   "source": [
    "sol_5 = odeint(lambda t, v: 10 + 4*v**2, y0=v0, t=t, tfirst=True)\n",
    "plt.plot(t, sol_5)\n",
    "\n",
    "plt.title('v vs t graph (b = -4)')\n",
    "plt.ylabel('v')\n",
    "plt.xlabel('t')\n",
    "plt.show()\n"
   ]
  }
 ],
 "metadata": {
  "colab": {
   "collapsed_sections": [],
   "name": "Copy of First Order Differential Equations_Lab4.ipynb",
   "provenance": []
  },
  "kernelspec": {
   "display_name": "Python 3 (ipykernel)",
   "language": "python",
   "name": "python3"
  },
  "language_info": {
   "codemirror_mode": {
    "name": "ipython",
    "version": 3
   },
   "file_extension": ".py",
   "mimetype": "text/x-python",
   "name": "python",
   "nbconvert_exporter": "python",
   "pygments_lexer": "ipython3",
   "version": "3.9.7"
  }
 },
 "nbformat": 4,
 "nbformat_minor": 1
}
