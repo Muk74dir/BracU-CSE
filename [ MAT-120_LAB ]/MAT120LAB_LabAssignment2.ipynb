{
 "cells": [
  {
   "cell_type": "code",
   "execution_count": 17,
   "id": "dcbfee2f",
   "metadata": {},
   "outputs": [
    {
     "data": {
      "text/latex": [
       "$\\displaystyle \\begin{cases} 0 & \\text{for}\\: a = 0 \\wedge b = 0 \\\\- \\frac{i \\left(b x \\sinh{\\left(b x \\right)} + b x \\cosh{\\left(b x \\right)} + \\cosh{\\left(b x \\right)}\\right) e^{- b x}}{2 b} & \\text{for}\\: a = - i b \\\\\\frac{i \\left(b x e^{b x} + \\cosh{\\left(b x \\right)}\\right) e^{- b x}}{2 b} & \\text{for}\\: a = i b \\\\- \\frac{\\left(a \\cos{\\left(a x \\right)} + b \\sin{\\left(a x \\right)}\\right) e^{- b x}}{a^{2} + b^{2}} & \\text{otherwise} \\end{cases}$"
      ],
      "text/plain": [
       "Piecewise((0, Eq(a, 0) & Eq(b, 0)), (-I*(b*x*sinh(b*x) + b*x*cosh(b*x) + cosh(b*x))*exp(-b*x)/(2*b), Eq(a, -I*b)), (I*(b*x*exp(b*x) + cosh(b*x))*exp(-b*x)/(2*b), Eq(a, I*b)), (-(a*cos(a*x) + b*sin(a*x))*exp(-b*x)/(a**2 + b**2), True))"
      ]
     },
     "execution_count": 17,
     "metadata": {},
     "output_type": "execute_result"
    }
   ],
   "source": [
    "# TASK - 1\n",
    "\n",
    "import sympy as smp\n",
    "import numpy as np\n",
    "import scipy as sp\n",
    "from scipy.integrate import quad\n",
    "\n",
    "x = smp.symbols(\"x\")\n",
    "a  = smp.symbols(\"a\")\n",
    "b  = smp.symbols(\"b\")\n",
    "\n",
    "y = smp.sin(a * x)*smp.exp(-b * x)\n",
    "smp.integrate(y, x).simplify()"
   ]
  },
  {
   "cell_type": "code",
   "execution_count": 45,
   "id": "78d76708",
   "metadata": {},
   "outputs": [
    {
     "data": {
      "text/plain": [
       "(0.25317615858738113, 6.830597198970167e-11)"
      ]
     },
     "execution_count": 45,
     "metadata": {},
     "output_type": "execute_result"
    }
   ],
   "source": [
    "# TASK - 2\n",
    "\n",
    "\n",
    "f = lambda x: np.arcsin(2 * x) / (1 + x ** 2)\n",
    "quad(f, 0, 0.5)"
   ]
  },
  {
   "cell_type": "code",
   "execution_count": 58,
   "id": "1540683e",
   "metadata": {},
   "outputs": [
    {
     "data": {
      "text/plain": [
       "(5.559991805902082, 8.222451869696069e-14)"
      ]
     },
     "execution_count": 58,
     "metadata": {},
     "output_type": "execute_result"
    }
   ],
   "source": [
    "# TASK - 3\n",
    "\n",
    "f = lambda x: (a - (np.cos(x) ** 2)) + ((b - np.sin(x)) ** 2) ** -1\n",
    "a,b = 1,2\n",
    "quad(f, 0, 2 * np.pi)"
   ]
  },
  {
   "cell_type": "code",
   "execution_count": 53,
   "id": "cf8fe204",
   "metadata": {},
   "outputs": [
    {
     "data": {
      "text/plain": [
       "(0.5416666666666666, 1.4739542919528503e-11)"
      ]
     },
     "execution_count": 53,
     "metadata": {},
     "output_type": "execute_result"
    }
   ],
   "source": [
    "# TASK - 4\n",
    "\n",
    "\n",
    "f = lambda x: np.arccos(2*x)/ 1 + x ** 2\n",
    "quad(f, 0, 0.5)"
   ]
  },
  {
   "cell_type": "code",
   "execution_count": 54,
   "id": "72870410",
   "metadata": {
    "scrolled": true
   },
   "outputs": [
    {
     "data": {
      "text/latex": [
       "$\\displaystyle \\frac{7 + 11 e^{18}}{36 e^{6}}$"
      ],
      "text/plain": [
       "(7 + 11*exp(18))*exp(-6)/36"
      ]
     },
     "execution_count": 54,
     "metadata": {},
     "output_type": "execute_result"
    }
   ],
   "source": [
    "# Task - 5\n",
    "\n",
    "y = x * smp.exp(6*x)\n",
    "smp.integrate(y, (x, -1, 2)).simplify()"
   ]
  }
 ],
 "metadata": {
  "kernelspec": {
   "display_name": "Python 3 (ipykernel)",
   "language": "python",
   "name": "python3"
  },
  "language_info": {
   "codemirror_mode": {
    "name": "ipython",
    "version": 3
   },
   "file_extension": ".py",
   "mimetype": "text/x-python",
   "name": "python",
   "nbconvert_exporter": "python",
   "pygments_lexer": "ipython3",
   "version": "3.9.7"
  }
 },
 "nbformat": 4,
 "nbformat_minor": 5
}
