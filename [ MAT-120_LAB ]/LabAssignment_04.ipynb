{
 "cells": [
  {
   "cell_type": "markdown",
   "metadata": {
    "id": "c9yhEAufcJAB"
   },
   "source": [
    "**Reference model**\n",
    "\n",
    "\\begin{cases} y'' + a y' + b y= f(x) \\\\ y(0)= y_0 \\\\ y'(0)= y_0'\\end{cases}\n",
    "\n",
    "*Example*\n",
    "\n",
    "**Differential equation:**\n",
    "\n",
    "\\begin{cases} y'' + 9y = 0\\,, \\\\ y\\left({\\pi\\over 4}\\right)= 0\\,, \\\\ y'\\left({\\pi\\over 4}\\right)= 3\\sqrt{2}\\,.\\end{cases}\n",
    "\n",
    "\n",
    "**General solution:**\n",
    "\n",
    "y =\n",
    "​\n",
    " C1 cos(3x)+C2 sin(3x)\n",
    "  \n",
    "\n",
    "**​Solution (with initial condition):**\n",
    "\n",
    "y= − cos(3x) − sin(3x)\n",
    " \n",
    "\n",
    "\n",
    "\n",
    "​\n",
    " \n",
    "\n"
   ]
  },
  {
   "cell_type": "markdown",
   "metadata": {
    "id": "i0hvZhgOd35h"
   },
   "source": [
    "**Initialization and symbolic variables**"
   ]
  },
  {
   "cell_type": "code",
   "execution_count": null,
   "metadata": {
    "id": "zcY_qDkIbXk3"
   },
   "outputs": [],
   "source": [
    "#Importing Symbolic library and its initialization\n",
    "\n",
    "import sympy as sy\n",
    "sy.init_printing()\n",
    "from sympy.plotting import plot\n",
    "\n",
    "#Some common variables declaration\n",
    "\n",
    "x = sy.symbols('x')\n",
    "\n",
    "y = sy.Function('y')\n",
    "\n",
    "y1 = sy.Derivative(y(x), x)\n",
    "\n",
    "y2 = sy.Derivative(y(x), x, x)\n"
   ]
  },
  {
   "cell_type": "markdown",
   "metadata": {
    "id": "xx1t1C-id71v"
   },
   "source": [
    "**General solution**"
   ]
  },
  {
   "cell_type": "code",
   "execution_count": null,
   "metadata": {
    "colab": {
     "base_uri": "https://localhost:8080/"
    },
    "id": "c5b-Mkbad-8S",
    "outputId": "34657b97-611b-4a4f-f92e-2fcc02887531"
   },
   "outputs": [
    {
     "name": "stdout",
     "output_type": "stream",
     "text": [
      "y(x) = C₁⋅sin(3⋅x) + C₂⋅cos(3⋅x)\n"
     ]
    }
   ],
   "source": [
    "#General solution without the initial value\n",
    "\n",
    "#Definiting the expression\n",
    "\n",
    "eqdiff = y2 + 9*y(x)\n",
    "\n",
    "#Solution\n",
    "\n",
    "eq=sy.dsolve(eqdiff, y(x))\n",
    "\n",
    "sy.pprint(eq)"
   ]
  },
  {
   "cell_type": "markdown",
   "metadata": {
    "id": "EWMVnAY87nHV"
   },
   "source": [
    "***Task 1***: Solve the second order differential equation $y''+ 16y = 0$\n"
   ]
  },
  {
   "cell_type": "markdown",
   "metadata": {
    "id": "Ru9IfFWheBNP"
   },
   "source": [
    "**Solution with the initial condition**"
   ]
  },
  {
   "cell_type": "code",
   "execution_count": null,
   "metadata": {
    "colab": {
     "base_uri": "https://localhost:8080/"
    },
    "id": "8Y7v_ZwieDln",
    "outputId": "24895caf-209e-47b6-8154-17de92651e8a"
   },
   "outputs": [
    {
     "name": "stdout",
     "output_type": "stream",
     "text": [
      "y(x) = -sin(3⋅x) - cos(3⋅x)\n"
     ]
    }
   ],
   "source": [
    "#Solution with the given initial condition\n",
    "\n",
    "x0 = sy.pi/4\n",
    "\n",
    "sol = sy.dsolve(eqdiff, y(x), ics={y(x0): 0, y(x).diff(x).subs(x, x0): 3*sy.sqrt(2)})\n",
    "\n",
    "sy.pprint(sol)\n"
   ]
  },
  {
   "cell_type": "markdown",
   "metadata": {
    "id": "TY8iqxBY7ulk"
   },
   "source": [
    "Task 2: Solve the initial-value problem\n",
    "\n",
    "y′′−y′+6y=0 \n",
    "\n",
    "y(0)=1  and  y′(0)=0"
   ]
  },
  {
   "cell_type": "markdown",
   "metadata": {
    "id": "MvNdAwskhGdF"
   },
   "source": [
    "**Assignment 4**"
   ]
  },
  {
   "cell_type": "markdown",
   "metadata": {
    "id": "KgAbyxgzhN6N"
   },
   "source": [
    "***Question 1***: Solve the second order differential equation $y''+ 16y = 0$\n",
    "\n",
    "***Question 2***: Solve the 2nd order differential equation $y'' - 6y' + 5y = 0$\n",
    "\n",
    "***Question 3***: Solve the initial-value problem \n",
    "\n",
    "$y'' - y' + 6y = 0$\n",
    "\n",
    "$y(0)=1$ and $y'(0)=0$"
   ]
  },
  {
   "cell_type": "code",
   "execution_count": 5,
   "metadata": {
    "colab": {
     "base_uri": "https://localhost:8080/"
    },
    "id": "K54KUobLk6ey",
    "outputId": "3da6efd9-f3dc-4ffd-a7f3-70534c6d986b"
   },
   "outputs": [
    {
     "name": "stdout",
     "output_type": "stream",
     "text": [
      "y(x) = C₁⋅sin(4⋅x) + C₂⋅cos(4⋅x)\n"
     ]
    }
   ],
   "source": [
    "# Question 1\n",
    "\n",
    "import sympy as sy\n",
    "\n",
    "sy.init_printing()\n",
    "\n",
    "x = sy.symbols('x')\n",
    "\n",
    "y = sy.Function('y')\n",
    "\n",
    "y1 = sy.Derivative(y(x), x)\n",
    "\n",
    "y2 = sy.Derivative(y(x), x, x)\n",
    "\n",
    "eqdiff = y2 + 16*y(x)\n",
    "\n",
    "sol = sy.dsolve(eqdiff, y(x))\n",
    "\n",
    "sy.pprint(sol)\n"
   ]
  },
  {
   "cell_type": "code",
   "execution_count": 6,
   "metadata": {
    "colab": {
     "base_uri": "https://localhost:8080/"
    },
    "id": "x4bXIgG1k6b2",
    "outputId": "18ae00e1-2179-424d-e336-390f24e27dae"
   },
   "outputs": [
    {
     "name": "stdout",
     "output_type": "stream",
     "text": [
      "       ⎛         4⋅x⎞  x\n",
      "y(x) = ⎝C₁ + C₂⋅ℯ   ⎠⋅ℯ \n"
     ]
    }
   ],
   "source": [
    "# Question 2\n",
    "\n",
    "eqdiff = y2 - 6*y1 + 5*y(x)\n",
    "\n",
    "sol = sy.dsolve(eqdiff, y(x))\n",
    "\n",
    "sy.pprint(sol)\n"
   ]
  },
  {
   "cell_type": "code",
   "execution_count": 7,
   "metadata": {
    "colab": {
     "base_uri": "https://localhost:8080/"
    },
    "id": "4voK4yP5k6Ze",
    "outputId": "fedc64d6-f0dd-49d5-c2b6-96db124e62e1"
   },
   "outputs": [
    {
     "name": "stdout",
     "output_type": "stream",
     "text": [
      "       ⎛         ⎛√23⋅x⎞             ⎞  x\n",
      "       ⎜  √23⋅sin⎜─────⎟             ⎟  ─\n",
      "       ⎜         ⎝  2  ⎠      ⎛√23⋅x⎞⎟  2\n",
      "y(x) = ⎜- ────────────── + cos⎜─────⎟⎟⋅ℯ \n",
      "       ⎝        23            ⎝  2  ⎠⎠   \n"
     ]
    }
   ],
   "source": [
    "# Question 3\n",
    "\n",
    "eqdiff = y2 - y1 + 6*y(x)\n",
    "\n",
    "sol = sy.dsolve(eqdiff, y(x), ics={y(0): 1, y(x).diff(x).subs(x, 0): 0})\n",
    "\n",
    "sy.pprint(sol)\n"
   ]
  }
 ],
 "metadata": {
  "colab": {
   "collapsed_sections": [],
   "name": "MAT120_Lab_Assign4.ipynb",
   "provenance": []
  },
  "kernelspec": {
   "display_name": "Python 3 (ipykernel)",
   "language": "python",
   "name": "python3"
  },
  "language_info": {
   "codemirror_mode": {
    "name": "ipython",
    "version": 3
   },
   "file_extension": ".py",
   "mimetype": "text/x-python",
   "name": "python",
   "nbconvert_exporter": "python",
   "pygments_lexer": "ipython3",
   "version": "3.9.7"
  }
 },
 "nbformat": 4,
 "nbformat_minor": 1
}
