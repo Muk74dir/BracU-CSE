{
 "cells": [
  {
   "cell_type": "code",
   "execution_count": 9,
   "metadata": {
    "colab": {
     "base_uri": "https://localhost:8080/"
    },
    "id": "eoDJoY9z-vos",
    "outputId": "185c083f-c175-451d-ce10-b90fa869e537"
   },
   "outputs": [
    {
     "name": "stdout",
     "output_type": "stream",
     "text": [
      "HOUSE\n"
     ]
    }
   ],
   "source": [
    "#number1\n",
    "\n",
    "x_1 = \"HOuSe\"\n",
    "count_u = 0\n",
    "count_l = 0\n",
    "\n",
    "for i in x_1:\n",
    "  if \"A\" <= i <= \"Z\":\n",
    "    count_u += 1\n",
    "  elif \"a\" <= i <= \"z\":\n",
    "    count_l += 1\n",
    "\n",
    "if count_u <= count_l:\n",
    "  print(x_1.lower())\n",
    "else:\n",
    "  print(x_1.upper())"
   ]
  },
  {
   "cell_type": "code",
   "execution_count": 15,
   "metadata": {
    "colab": {
     "base_uri": "https://localhost:8080/"
    },
    "id": "Nu2DLjmnRbS4",
    "outputId": "e3f9d8a3-d082-4a03-d895-935e918551be"
   },
   "outputs": [
    {
     "name": "stdout",
     "output_type": "stream",
     "text": [
      "MIXED\n"
     ]
    }
   ],
   "source": [
    "#number2\n",
    "\n",
    "s1 = \"jhg231j213\"\n",
    "count_w = 0\n",
    "count_n = 0\n",
    "\n",
    "for i in s1:\n",
    "  if \"a\" <= i <= \"z\" or \"A\" <= i <= \"Z\":\n",
    "    count_w += 1\n",
    "  else:\n",
    "    count_n += 1\n",
    "\n",
    "if count_w != 0 and count_n != 0:\n",
    "  print(\"MIXED\")\n",
    "elif count_w == 0 and count_n != 0:\n",
    "  print(\"NUMBER\")\n",
    "elif count_w != 0 and count_n == 0:\n",
    "  print(\"WORD\")"
   ]
  },
  {
   "cell_type": "code",
   "execution_count": 24,
   "metadata": {
    "colab": {
     "base_uri": "https://localhost:8080/"
    },
    "id": "XolaAJJOCDTQ",
    "outputId": "988625cf-d11a-4bbf-bc71-a44e38dd163f"
   },
   "outputs": [
    {
     "name": "stdout",
     "output_type": "stream",
     "text": [
      "\n"
     ]
    }
   ],
   "source": [
    "#number3\n",
    "\n",
    "s1 = \"coDIng\"\n",
    "list_1 = []\n",
    "for i in s1:\n",
    "  if \"A\"<= i <= \"Z\":\n",
    "    a = s1.index(i)\n",
    "    list_1.append(a)\n",
    "x, y = list_1\n",
    "\n",
    "s2 = s1[x+1:y]\n",
    "print(s2)"
   ]
  },
  {
   "cell_type": "code",
   "execution_count": 25,
   "metadata": {
    "colab": {
     "base_uri": "https://localhost:8080/"
    },
    "id": "8Q1R6LP_2Wpj",
    "outputId": "fa0c4cf3-e679-4257-e570-96e7210fb755"
   },
   "outputs": [
    {
     "name": "stdout",
     "output_type": "stream",
     "text": [
      "CaaoueCouea\n"
     ]
    }
   ],
   "source": [
    "#number4\n",
    "\n",
    "s1 = \"Catalogue\"\n",
    "s2 = \"Coursera\"\n",
    "\n",
    "set1 = set(s1)\n",
    "set2 = set(s2)\n",
    "com_chr = set1 & set2\n",
    "if len(com_chr) != 0:\n",
    "  s3 = [ch for ch in s1 if ch in com_chr] + [ch for ch in s2 if ch in com_chr]\n",
    "  print(''.join(s3))\n",
    "else:\n",
    "  print(\"Nothing in common.\")"
   ]
  },
  {
   "cell_type": "code",
   "execution_count": 1,
   "metadata": {
    "colab": {
     "base_uri": "https://localhost:8080/"
    },
    "id": "je2Inh-g8iZT",
    "outputId": "594d6cc2-7ba6-48ec-85af-c00aaefb23ac"
   },
   "outputs": [
    {
     "name": "stdout",
     "output_type": "stream",
     "text": [
      "Please enter your new password: 56988\n",
      "Lowercase character missing, Uppercase character missing, Special character missing.\n"
     ]
    }
   ],
   "source": [
    "#number5\n",
    "\n",
    "s1 = input(\"Please enter your new password: \")\n",
    "sp_ch = [\"_\", \"$\", \"#\", \"@\"]\n",
    "low = 0\n",
    "up = 0\n",
    "dig = 0\n",
    "spch = 0\n",
    "\n",
    "for i in s1:\n",
    "  if \"a\" <= i <= \"z\":\n",
    "    low += 1\n",
    "  elif \"A\" <= i <= \"Z\":\n",
    "    up += 1\n",
    "  elif \"0\" <= i <= \"9\":\n",
    "    dig += 1\n",
    "  elif i in sp_ch:\n",
    "    spch += 1\n",
    "if low > 0 and up > 0 and dig > 0 and spch > 0:\n",
    "  print(\"OK\")\n",
    "elif low == 0 and up == 0 and dig == 0:\n",
    "  print(\"Lowercase character missing, Uppercase character missing, Digit missing.\")\n",
    "elif low == 0 and up == 0 and spch == 0:\n",
    "  print(\"Lowercase character missing, Uppercase character missing, Special character missing.\")\n",
    "elif low == 0 and dig == 0 and spch == 0:\n",
    "  print(\"Lowercase character missing, Digit missing, Special character missing.\")\n",
    "elif up == 0 and dig == 0 and spch == 0:\n",
    "  print(\"Uppercase character missing, Digit missing, Special character missing.\")\n",
    "elif low == 0 and up == 0:\n",
    "  print(\"Lowercase character missing, Uppercase character missing.\")\n",
    "elif low == 0 and dig == 0:\n",
    "  print(\"Lowercase character missing, Digit missing.\")\n",
    "elif low == 0 and spch == 0:\n",
    "  print(\"Lowercase character missing, Special character missing.\")\n",
    "elif up == 0 and dig == 0:\n",
    "  print(\"Uppercase character missing, Digit missing.\")\n",
    "elif up == 0 and spch == 0:\n",
    "  print(\"Uppercase character missing, Special character missing.\")\n",
    "elif dig == 0 and spch == 0:\n",
    "  print(\"Digit missing, Special character missing\")\n",
    "elif low == 0:\n",
    "  print(\"Lowercase character missing\")\n",
    "elif up == 0:\n",
    "  print(\"Uppercase character missing.\")\n",
    "elif dig == 0:\n",
    "  print(\"Digit missing.\")\n",
    "elif spch == 0:\n",
    "  print(\"Special character missing.\")"
   ]
  },
  {
   "cell_type": "markdown",
   "metadata": {
    "id": "pCXoOdp5GYwT"
   },
   "source": [
    "### list"
   ]
  },
  {
   "cell_type": "code",
   "execution_count": 26,
   "metadata": {
    "colab": {
     "base_uri": "https://localhost:8080/"
    },
    "id": "_ldXntOBEwQc",
    "outputId": "bdea3617-429e-43a2-b311-0034620e1ba4"
   },
   "outputs": [
    {
     "name": "stdout",
     "output_type": "stream",
     "text": [
      "Please enter your number: 6\n",
      "Please enter your number: 4\n",
      "Please enter your number: 464\n",
      "Please enter your number: 78\n",
      "Please enter your number: 78\n",
      "Please enter your number: STOP\n",
      "6 - 1 times\n",
      "4 - 1 times\n",
      "464 - 1 times\n",
      "78 - 2 times\n"
     ]
    }
   ],
   "source": [
    "#list_number1\n",
    "\n",
    "list_1 = []\n",
    "list_2 = []\n",
    "count = 0\n",
    "while True:\n",
    "  x_1 = input(\"Please enter your number: \")\n",
    "  if x_1 == \"STOP\":\n",
    "    break\n",
    "  else:\n",
    "    list_1.append(int(x_1))\n",
    "\n",
    "for i in list_1:\n",
    "  if i not in list_2:\n",
    "    list_2.append(i)\n",
    "    \n",
    "for j in list_2:\n",
    "  for k in list_1:\n",
    "    if j == k:\n",
    "      count += 1\n",
    "  print(j, \"-\", count, \"times\")\n",
    "  count = 0\n"
   ]
  },
  {
   "cell_type": "code",
   "execution_count": 28,
   "metadata": {
    "colab": {
     "base_uri": "https://localhost:8080/"
    },
    "id": "xanBpsNLV4ny",
    "outputId": "8e598d90-c649-4c7c-e74a-80ad9b95d720"
   },
   "outputs": [
    {
     "name": "stdout",
     "output_type": "stream",
     "text": [
      "Please enter your number: 3\n",
      "Please enter your list using space: 8 9 7 5\n",
      "Please enter your list using space: 5 8 9 5\n",
      "Please enter your list using space: 4 5 5\n",
      "29\n",
      "[8, 9, 7, 5]\n"
     ]
    }
   ],
   "source": [
    "#list_number2\n",
    "\n",
    "n = int(input(\"Please enter your number: \"))\n",
    "list_m = []\n",
    "sum_m = 0\n",
    "sum = 0\n",
    "\n",
    "for i in range(n):\n",
    "  l1 = input(\"Please enter your list using space: \").split(\" \")\n",
    "  for i in range(len(l1)):\n",
    "    l1[i] = int(l1[i])\n",
    "\n",
    "  for i in l1:\n",
    "    sum += i\n",
    "\n",
    "  if sum > sum_m:\n",
    "    sum_m = sum\n",
    "    list_m = l1\n",
    "  sum = 0\n",
    "print(sum_m)\n",
    "print(list_m)\n",
    "  "
   ]
  },
  {
   "cell_type": "code",
   "execution_count": 3,
   "metadata": {
    "colab": {
     "base_uri": "https://localhost:8080/"
    },
    "id": "ZVVKo0gmGigg",
    "outputId": "ae40ca6a-2e61-4e95-f7ce-f5702f66f0ea"
   },
   "outputs": [
    {
     "name": "stdout",
     "output_type": "stream",
     "text": [
      "1 4 2 3\n",
      "2 1 4 6 10\n",
      "1 4 2 -1 6\n",
      "1 2 3 6 4 6\n",
      "STOP\n",
      "UB Jumper\n",
      "UB Jumper\n",
      "Not UB Jumper\n",
      "UB Jumper\n"
     ]
    }
   ],
   "source": [
    "#list_number3\n",
    "\n",
    "result = []\n",
    "while True:\n",
    "  x_1 = input()\n",
    "  if x_1 == \"STOP\":\n",
    "    break\n",
    "  else:\n",
    "    x_1 = x_1.split(\" \")\n",
    "    list_1 = []\n",
    "    for i in range(len(x_1)):\n",
    "      if i == len(x_1) -1:\n",
    "        break\n",
    "      else:\n",
    "        list_1.append(abs(int(x_1[i+1])-int(x_1[i])))\n",
    "    list_2 = []\n",
    "    for j in range(len(x_1)):\n",
    "      list_2.append(j)\n",
    "    for k in list_1:\n",
    "      if k not in list_2:\n",
    "        result.append(\"Not UB Jumper\")\n",
    "        break\n",
    "      else:\n",
    "        if k == list_1[-1]:\n",
    "          result.append(\"UB Jumper\")\n",
    "          break\n",
    "for i in result:\n",
    "    print(i)"
   ]
  },
  {
   "cell_type": "code",
   "execution_count": 32,
   "metadata": {
    "colab": {
     "base_uri": "https://localhost:8080/"
    },
    "id": "SCMjWjOrAVJx",
    "outputId": "4962d5d3-7763-474b-f07c-d368f2c09ee4"
   },
   "outputs": [
    {
     "name": "stdout",
     "output_type": "stream",
     "text": [
      "Please enter your data: 9 6\n",
      "Number of participations: 43\n",
      "Number of participations: 3\n",
      "Number of participations: 3\n",
      "Number of participations: 3\n",
      "Number of participations: 3\n",
      "Number of participations: 3\n",
      "Number of participations: 3\n",
      "Number of participations: 3\n",
      "Number of participations: 3\n",
      "0\n"
     ]
    }
   ],
   "source": [
    "#list_number4\n",
    "\n",
    "n, k = input(\"Please enter your data: \").split()\n",
    "n = int(n)\n",
    "k = int(k)\n",
    "count = 0\n",
    "for i in range(n):\n",
    "  x_1 = int(input(\"Number of participations: \"))\n",
    "  if (5 - x_1) < k:\n",
    "    continue\n",
    "  else:\n",
    "    count += 1\n",
    "print(count//3)"
   ]
  },
  {
   "cell_type": "markdown",
   "metadata": {
    "id": "bKoAzVL5CPc5"
   },
   "source": [
    "### dictionary"
   ]
  },
  {
   "cell_type": "code",
   "execution_count": 33,
   "metadata": {
    "colab": {
     "base_uri": "https://localhost:8080/"
    },
    "id": "05n1AtkKdJPv",
    "outputId": "31b4eff1-9154-49df-bf75-768795ce3add"
   },
   "outputs": [
    {
     "name": "stdout",
     "output_type": "stream",
     "text": [
      "{'a': 400, 'b': 300, 'c': 200, 'd': 700, 'e': 200} \n",
      "Values: (200, 300, 400, 700)\n"
     ]
    }
   ],
   "source": [
    "#dict_number1\n",
    "\n",
    "dict_1 = {\"a\": 100, \"b\": 100, \"c\": 200, \"d\": 300}\n",
    "dict_2 = {\"a\": 300, \"b\": 200, \"d\": 400, \"e\": 200}\n",
    "list_1 = []\n",
    "list_2 = []\n",
    "for i in dict_2:\n",
    "  if i in dict_1:\n",
    "    dict_1[i] = dict_1[i]+dict_2[i]\n",
    "  else:\n",
    "    dict_1[i] = dict_2[i]\n",
    "for k in dict_1.values():\n",
    "  list_1.append(k)\n",
    "list_1 = sorted(list_1)\n",
    "for j in list_1:\n",
    "  if j not in list_2:\n",
    "    list_2.append(j)\n",
    "tup_1 = tuple(list_2)\n",
    "print(dict_1, \"\\nValues:\", tup_1)"
   ]
  },
  {
   "cell_type": "code",
   "execution_count": 8,
   "metadata": {
    "colab": {
     "base_uri": "https://localhost:8080/"
    },
    "id": "QDOVMCQHiGAY",
    "outputId": "4113714c-db91-4553-e3dc-443f1612cecf"
   },
   "outputs": [
    {
     "name": "stdout",
     "output_type": "stream",
     "text": [
      "Please enter your number: 5\n",
      "Please enter your number: 5\n",
      "Please enter your number: 5\n",
      "Please enter your number: 5\n",
      "Please enter your number: 4\n",
      "Please enter your number: 7\n",
      "Please enter your number: 7\n",
      "Please enter your number: 1\n",
      "Please enter your number: 4\n",
      "Please enter your number: 0\n",
      "Please enter your number: 0\n",
      "Please enter your number: 74\n",
      "Please enter your number: STOP\n",
      "5 - 4 times\n",
      "4 - 2 times\n",
      "7 - 2 times\n",
      "1 - 1 times\n",
      "0 - 2 times\n",
      "74 - 1 times\n"
     ]
    }
   ],
   "source": [
    "#dict_number2\n",
    "\n",
    "list_1 = []\n",
    "dict_1 = {}\n",
    "count = 0\n",
    "while True:\n",
    "  x_1 = input(\"Please enter your number: \")\n",
    "  if x_1 == \"STOP\":\n",
    "    break\n",
    "  else:\n",
    "    list_1.append(int(x_1))\n",
    "for i in list_1:\n",
    "  if i not in dict_1:\n",
    "    dict_1[i] = 1\n",
    "  else:\n",
    "    dict_1[i] = dict_1[i] + 1\n",
    "\n",
    "for k,v in dict_1.items():\n",
    "  print(k, \"-\", v, \"times\")"
   ]
  },
  {
   "cell_type": "code",
   "execution_count": 7,
   "metadata": {
    "colab": {
     "base_uri": "https://localhost:8080/"
    },
    "id": "PGKa0d04CayI",
    "outputId": "d6f047f8-5b52-4ce9-d028-747cd16d7e90"
   },
   "outputs": [
    {
     "name": "stdout",
     "output_type": "stream",
     "text": [
      "Please enter your number of elements: 6\n",
      "2 6\n",
      "9 6 \n",
      "7 8\n",
      "5 5\n",
      "4 5\n",
      "4 8\n",
      "{'6': ['2', '9'], '8': ['7', '4'], '5': ['5']}\n"
     ]
    }
   ],
   "source": [
    "#dict_number3\n",
    "\n",
    "\n",
    "d=dict(input().split() \n",
    "for x in range(int(input(\"Please enter your number of elements: \"))))\n",
    "d2 = {}\n",
    "for k,v in d.items():\n",
    "  if v in d2:\n",
    "    d2[v].append(k)\n",
    "  else:\n",
    "    d2[v] = [k]\n",
    "print(d2)"
   ]
  },
  {
   "cell_type": "code",
   "execution_count": 8,
   "metadata": {
    "colab": {
     "base_uri": "https://localhost:8080/"
    },
    "id": "AEaWXUKmPIlL",
    "outputId": "13c2cac8-a2d2-4ec4-93b3-86e8e8df8b68"
   },
   "outputs": [
    {
     "name": "stdout",
     "output_type": "stream",
     "text": [
      "Please enter your message: Hello, World!\n",
      "4433555555666110966677755531111\n"
     ]
    }
   ],
   "source": [
    "#dict_number4\n",
    "numpad = {1: \".,?!:\", 2: \"ABC\", 3: \"DEF\", 4: \"GHI\", 5: \"JKL\", 6: \"MNO\", 7: \"PQRS\", 8: \"TUV\", 9: \"WXYZ\", 0: \" \"}\n",
    "x_1 = input(\"Please enter your message: \")\n",
    "s1 = \"\"\n",
    "x_1 = x_1.upper()\n",
    "for i in x_1:\n",
    "  for k,v in numpad.items():\n",
    "    if i in v:\n",
    "      s1 += str(k)*(v.index(i)+1)\n",
    "print(s1)"
   ]
  },
  {
   "cell_type": "code",
   "execution_count": 3,
   "metadata": {
    "colab": {
     "base_uri": "https://localhost:8080/"
    },
    "id": "aLqi3TrpmMYD",
    "outputId": "aed09225-b76f-4091-cf1e-9da369ec2e4c"
   },
   "outputs": [
    {
     "name": "stdout",
     "output_type": "stream",
     "text": [
      "Please enter your height in cm: 165\n",
      "Please enter your weight:60\n",
      "Score is 22.0. You are Normal.\n"
     ]
    }
   ],
   "source": [
    "#func_number1\n",
    "\n",
    "def BMI(height,weight):\n",
    "  height = height/100\n",
    "  BMI = weight/(height**2)\n",
    "  if BMI < 18.5:\n",
    "    print(\"Score is\",\"{:.1f}\".format(BMI)+\".\",\"You are Underweight.\")\n",
    "  elif 18.5 <= BMI <= 24.9:\n",
    "    print(\"Score is\",\"{:.1f}\".format(BMI)+\".\",\"You are Normal.\")\n",
    "  elif 25 <= BMI <= 30:\n",
    "    print(\"Score is\",\"{:.1f}\".format(BMI)+\".\",\"You are Overweight.\")\n",
    "  elif BMI > 30:\n",
    "    print(\"Score is\",\"{:.1f}\".format(BMI)+\".\",\"You are Obese.\")\n",
    "\n",
    "BMI(int(input(\"Please enter your height in cm: \")), int(input(\"Please enter your weight:\")))"
   ]
  },
  {
   "cell_type": "code",
   "execution_count": 34,
   "metadata": {
    "colab": {
     "base_uri": "https://localhost:8080/"
    },
    "id": "QLw5vCg6J4zL",
    "outputId": "e4dec385-05b8-4bbd-b070-c85ae0d208e4"
   },
   "outputs": [
    {
     "name": "stdout",
     "output_type": "stream",
     "text": [
      "45\n"
     ]
    }
   ],
   "source": [
    "#func_number2\n",
    "\n",
    "def fac_sum(min, max, div):\n",
    "  sum = 0\n",
    "  for i in range(min, max):\n",
    "    if i % div == 0:\n",
    "      sum += i\n",
    "  return sum\n",
    "result = fac_sum(3, 16, 3)\n",
    "print(result)"
   ]
  },
  {
   "cell_type": "code",
   "execution_count": 9,
   "metadata": {
    "colab": {
     "base_uri": "https://localhost:8080/"
    },
    "id": "P1LCfZjaQk7V",
    "outputId": "5bfbc19b-82bf-4ff6-d6e0-1fe497db5738"
   },
   "outputs": [
    {
     "name": "stdout",
     "output_type": "stream",
     "text": [
      "Please choose your burger: (‘Beef Burger’, ‘Dhanmondi’) \n",
      "Please enter your area: Dhanmondi’)\n",
      "60.0\n"
     ]
    }
   ],
   "source": [
    "#func_number3\n",
    "\n",
    "def pay(burg, place= \"Mohakhali\"):\n",
    "  dict_1 = {\"BBQ Chicken Cheese Burger\": 250, \"Beef Burger\": 170, \"Naga Drums\": 200}\n",
    "  m_c = 0\n",
    "  for i in dict_1:\n",
    "    if burg == i:\n",
    "      m_c = dict_1[i]\n",
    "  if place != \"Mohakhali\":\n",
    "    d_c = 60\n",
    "  else:\n",
    "    d_c = 40\n",
    "  total = m_c + d_c + m_c*0.08\n",
    "\n",
    "  return total\n",
    "\n",
    "a = input(\"Please choose your burger: \")\n",
    "b = input(\"Please enter your area: \")\n",
    "if len(b) == 0:\n",
    "  net_amount = pay(a)\n",
    "else:\n",
    "  net_amount = pay(a, b)\n",
    "print(net_amount)"
   ]
  },
  {
   "cell_type": "code",
   "execution_count": 35,
   "metadata": {
    "colab": {
     "base_uri": "https://localhost:8080/"
    },
    "id": "tXayZ05xiF78",
    "outputId": "1a00eb3f-8c85-454f-fff3-174dccdc1617"
   },
   "outputs": [
    {
     "name": "stdout",
     "output_type": "stream",
     "text": [
      "Changed: alice@sheba.xyz "
     ]
    }
   ],
   "source": [
    "#func_number4\n",
    "\n",
    "def dom(email, n_dom = \"sheba.xyz\", o_dom = \"\"):\n",
    "  a = email.split(\"@\")\n",
    "  if email.endswith(n_dom):\n",
    "    return \"Unchanged:\", email\n",
    "  else:\n",
    "    return \"Changed:\", a[0] + \"@\"+ n_dom\n",
    "\n",
    "res = dom(\"alice@kaaj.com\", \"sheba.xyz\", \"kaaj.com\")\n",
    "res = list(res)\n",
    "for i in res:\n",
    "\tprint(i, end=\" \")\n",
    "\n"
   ]
  },
  {
   "cell_type": "code",
   "execution_count": 36,
   "metadata": {
    "colab": {
     "base_uri": "https://localhost:8080/"
    },
    "id": "950xNeK4_S31",
    "outputId": "f1c1549f-6095-4d6b-ef52-e635c9bbd9d2"
   },
   "outputs": [
    {
     "name": "stdout",
     "output_type": "stream",
     "text": [
      "Not a palindrome\n"
     ]
    }
   ],
   "source": [
    "#func_number5\n",
    "\n",
    "def pal(string_1):\n",
    "  string_1 = string_1.replace(\" \",\"\")\n",
    "  string_2 = string_1[-1::-1]\n",
    "  if string_1 == string_2:\n",
    "    return \"Palindrome\"\n",
    "  else:\n",
    "    return \"Not a palindrome\"\n",
    "\n",
    "print(pal(\"Nurses run\"))"
   ]
  },
  {
   "cell_type": "code",
   "execution_count": 4,
   "metadata": {
    "colab": {
     "base_uri": "https://localhost:8080/"
    },
    "id": "qQ7qyqDSQsjg",
    "outputId": "09c2f387-0851-46ce-f96b-563acb52541e"
   },
   "outputs": [
    {
     "name": "stdout",
     "output_type": "stream",
     "text": [
      "Please enter your string: resghertsh\n",
      "Resghertsh\n"
     ]
    }
   ],
   "source": [
    "#func_number6\n",
    "\n",
    "string_1 = input(\"Please enter your string: \")\n",
    "string_1 = string_1.capitalize()\n",
    "parsed = list(string_1)\n",
    "#print(parsed)\n",
    "\n",
    "for i in range(len(parsed)-1):\n",
    "  if (parsed[i] == \".\" or parsed[i] == \"!\" or parsed[i] == \"?\") and parsed[i+1] == \" \":\n",
    "    if \"a\" <= parsed[i+2] <= \"z\":\n",
    "      parsed[i+2] = chr(ord(parsed[i+2]) - 32)\n",
    "    else:\n",
    "      continue\n",
    "  if parsed[i] == \"i\" and parsed[i-1] == \" \" and (parsed[i+1] == \".\" or parsed[i+1] == \"!\" or parsed[i+1] == \"?\" or parsed[i+1] == \" \"):\n",
    "    parsed[i] = chr(ord(parsed[i]) - 32)\n",
    "\n",
    "string_1 = \"\".join(parsed)\n",
    "print(string_1)"
   ]
  }
 ],
 "metadata": {
  "colab": {
   "collapsed_sections": [],
   "name": "CSE111_lab1.ipynb",
   "provenance": []
  },
  "kernelspec": {
   "display_name": "Python 3 (ipykernel)",
   "language": "python",
   "name": "python3"
  },
  "language_info": {
   "codemirror_mode": {
    "name": "ipython",
    "version": 3
   },
   "file_extension": ".py",
   "mimetype": "text/x-python",
   "name": "python",
   "nbconvert_exporter": "python",
   "pygments_lexer": "ipython3",
   "version": "3.9.7"
  }
 },
 "nbformat": 4,
 "nbformat_minor": 1
}
