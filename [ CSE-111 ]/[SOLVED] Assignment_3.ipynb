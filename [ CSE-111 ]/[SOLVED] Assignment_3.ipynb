{
  "nbformat": 4,
  "nbformat_minor": 0,
  "metadata": {
    "colab": {
      "name": "CSE111_LABASSIGNMENT_3.ipynb",
      "provenance": [],
      "collapsed_sections": []
    },
    "kernelspec": {
      "name": "python3",
      "display_name": "Python 3"
    },
    "language_info": {
      "name": "python"
    }
  },
  "cells": [
    {
      "cell_type": "code",
      "source": [
        "class Calculator:\n",
        "    def add(self, first, second):\n",
        "        return first + second\n",
        "    def substract(self, first, second):\n",
        "        return first - second\n",
        "    def divide(self, first, second):\n",
        "        return first / second\n",
        "    def multiply(self, first, second):\n",
        "        return first * second\n",
        "hishab = Calculator()\n",
        "first = int(input())\n",
        "operator = input()\n",
        "second = int(input())\n",
        "print(\"Let’s Calculate!\")\n",
        "if operator == \"+\":\n",
        "    print(f'Value 1: {first} \\nOperator: {operator}\\nValue 2: {second}\\nResult: {hishab.add(first, second)}')\n",
        "elif operator == \"-\":\n",
        "    print(f'Value 1: {first} \\nOperator: {operator}\\nValue 2: {second}\\nResult: {hishab.substract(first, second)}')\n",
        "elif operator == \"*\":\n",
        "    print(f'Value 1: {first} \\nOperator: {operator}\\nValue 2: {second}\\nResult: {hishab.multiply(first, second)}')\n",
        "else:\n",
        "    print(f'Value 1: {first} \\nOperator: {operator}\\nValue 2: {second}\\nResult: {hishab.divide(first, second)}')"
      ],
      "metadata": {
        "colab": {
          "base_uri": "https://localhost:8080/"
        },
        "id": "YFjqbCI3soZ7",
        "outputId": "dcf6fc91-c667-4664-a6a1-0af3463cf63a"
      },
      "execution_count": null,
      "outputs": [
        {
          "output_type": "stream",
          "name": "stdout",
          "text": [
            "10\n",
            "/\n",
            "2\n",
            "Let’s Calculate!\n",
            "Value 1: 10 \n",
            "Operator: /\n",
            "Value 2: 2\n",
            "Result: 5.0\n"
          ]
        }
      ]
    },
    {
      "cell_type": "code",
      "source": [
        "# TASK - 2\n",
        "\n",
        "\n",
        "class Course:\n",
        "    def __init__(self, course, faculty, section):\n",
        "        self.course = course\n",
        "        self.faculty = faculty\n",
        "        self.section = section\n",
        "    def detail(self):\n",
        "        print(self.course, \"-\", self.faculty, \"-\", self.section)\n",
        "c1 = Course(\"CSE110\", \"TBA\", 8)\n",
        "c1.detail()\n",
        "print(\"===============\")\n",
        "c2 = Course(\"CSE111\", \"TBA\", 9)\n",
        "c2.detail()"
      ],
      "metadata": {
        "colab": {
          "base_uri": "https://localhost:8080/"
        },
        "id": "vLeZ4FoTWdFQ",
        "outputId": "4c8cabf8-e94a-4c75-aa6c-026693794622"
      },
      "execution_count": null,
      "outputs": [
        {
          "output_type": "stream",
          "name": "stdout",
          "text": [
            "CSE110 - TBA - 8\n",
            "===============\n",
            "CSE111 - TBA - 9\n"
          ]
        }
      ]
    },
    {
      "cell_type": "code",
      "source": [
        "# TASK - 3\n",
        "\n",
        "class Patient:\n",
        "    def __init__(self, name, age, weight, height):\n",
        "        self.name = name\n",
        "        self.age = age\n",
        "        self.weight = weight\n",
        "        self.height = height\n",
        "    def printDetails(self):\n",
        "        bmi = self.weight / ((self.height)/100)** 2\n",
        "        print(f'Name: {self.name}\\nAge: {self.age}\\nWeight: {self.weight} kg\\nHeight: {self.height} cm\\nBMI: {bmi}')\n",
        "p1 = Patient(\"A\", 55, 63.0, 158.0)\n",
        "p1.printDetails()\n",
        "print(\"====================\")\n",
        "p2 = Patient(\"B\", 53, 61.0, 149.0)\n",
        "p2.printDetails()"
      ],
      "metadata": {
        "colab": {
          "base_uri": "https://localhost:8080/"
        },
        "id": "tmGw9FUYYmhN",
        "outputId": "62e80481-3f6a-451f-ea6e-48541d113992"
      },
      "execution_count": null,
      "outputs": [
        {
          "output_type": "stream",
          "name": "stdout",
          "text": [
            "Name: A\n",
            "Age: 55\n",
            "Weight: 63.0 kg\n",
            "Height: 158.0 cm\n",
            "BMI: 25.236340330075304\n",
            "====================\n",
            "Name: B\n",
            "Age: 53\n",
            "Weight: 61.0 kg\n",
            "Height: 149.0 cm\n",
            "BMI: 27.476239809017613\n"
          ]
        }
      ]
    },
    {
      "cell_type": "code",
      "source": [
        "# TASK - 4\n",
        "\n",
        "\n",
        "class Vehicle:\n",
        "    def __init__(self):\n",
        "        self.x = 0\n",
        "        self.y = 0\n",
        "    def print_position(self):\n",
        "        print((self.x, self.y))\n",
        "    def moveUp(self):\n",
        "        self.y += 1\n",
        "    def moveLeft(self):\n",
        "        self.x -= 1\n",
        "    def moveDown(self):\n",
        "        self.y -= 1\n",
        "    def moveRight(self):\n",
        "        self.x += 1\n",
        "        \n",
        "car = Vehicle()\n",
        "car.print_position()\n",
        "car.moveUp()\n",
        "car.print_position()\n",
        "car.moveLeft()\n",
        "car.print_position()\n",
        "car.moveDown()\n",
        "car.print_position()\n",
        "car.moveRight()"
      ],
      "metadata": {
        "colab": {
          "base_uri": "https://localhost:8080/"
        },
        "id": "0Vt9v8eucbDV",
        "outputId": "ec9708b3-5e65-4e1d-8bd5-53f4419a7af3"
      },
      "execution_count": null,
      "outputs": [
        {
          "output_type": "stream",
          "name": "stdout",
          "text": [
            "(0, 0)\n",
            "(0, 1)\n",
            "(-1, 1)\n",
            "(-1, 0)\n"
          ]
        }
      ]
    },
    {
      "cell_type": "code",
      "source": [
        "# TASK - 5\n",
        "\n",
        "class Shape:\n",
        "    def __init__(self, shape, val1, val2):\n",
        "        self.shape = shape\n",
        "        self.val1 = val1\n",
        "        self.val2 = val2\n",
        "    def area(self):\n",
        "        if self.shape == \"Triangle\" or self.shape == \"Rhombus\":\n",
        "            result = 0.5 * self.val1 * self.val2\n",
        "        elif self.shape == \"Square\" or self.shape == \"Rectangle\":\n",
        "            result = self.val1* self.val2\n",
        "        else:\n",
        "            result = \"Shape unknown\"\n",
        "        print(f'Area: {result}')\n",
        "\n",
        "        \n",
        "triangle = Shape(\"Triangle\",10,25)\n",
        "triangle.area()\n",
        "print(\"==========================\")\n",
        "square = Shape(\"Square\",10,10)\n",
        "square.area()\n",
        "print(\"==========================\")\n",
        "rhombus = Shape(\"Rhombus\",18,25)\n",
        "rhombus.area()\n",
        "print(\"==========================\")\n",
        "rectangle = Shape(\"Rectangle\",15,30)\n",
        "rectangle.area()\n",
        "print(\"==========================\")\n",
        "trapezium = Shape(\"Trapezium\",15,30)\n",
        "trapezium.area()       "
      ],
      "metadata": {
        "colab": {
          "base_uri": "https://localhost:8080/"
        },
        "id": "KLYwm6t_f3Ka",
        "outputId": "f9c9226e-a0ac-4b7f-d6cf-137014027dff"
      },
      "execution_count": null,
      "outputs": [
        {
          "output_type": "stream",
          "name": "stdout",
          "text": [
            "Area: 125.0\n",
            "==========================\n",
            "Area: 100\n",
            "==========================\n",
            "Area: 225.0\n",
            "==========================\n",
            "Area: 450\n",
            "==========================\n",
            "Area: Shape unknown\n"
          ]
        }
      ]
    },
    {
      "cell_type": "code",
      "source": [
        "# TASK - 6\n",
        "\n",
        "class Calculator:\n",
        "    def __init__(self):\n",
        "        print(\"Calculator is ready!\")\n",
        "    def calculate(self, val1, val2, oper):\n",
        "        self.val1 = val1\n",
        "        self.val2 = val2\n",
        "        self.oper = oper\n",
        "        if oper == \"+\":\n",
        "            return val1+val2\n",
        "        elif oper == \"-\":\n",
        "            return val1 - val2\n",
        "        elif oper == \"*\":\n",
        "            return val1*val2\n",
        "        else:\n",
        "            return val1 / val2\n",
        "    def showCalculation(self):\n",
        "        print(f'{str(self.val1)} {str(self.oper)} {str(self.val2)} = {val}')\n",
        "\n",
        "\n",
        "c1 = Calculator()\n",
        "print(\"==================\")\n",
        "val = c1.calculate(10, 20, '+')\n",
        "print(\"Returned value:\", val)\n",
        "c1.showCalculation()\n",
        "print(\"==================\")\n",
        "val = c1.calculate(val, 10, '-')\n",
        "print(\"Returned value:\", val)\n",
        "c1.showCalculation()\n",
        "print(\"==================\")\n",
        "val = c1.calculate(val, 5, '*')\n",
        "print(\"Returned value:\", val)\n",
        "c1.showCalculation()\n",
        "print(\"==================\")\n",
        "val = c1.calculate(val, 16, '/')\n",
        "print(\"Returned value:\", val)\n",
        "c1.showCalculation()"
      ],
      "metadata": {
        "colab": {
          "base_uri": "https://localhost:8080/"
        },
        "id": "H0pwOL58vxWW",
        "outputId": "e6a184fb-728f-4304-b76b-2d625bfcd4ec"
      },
      "execution_count": null,
      "outputs": [
        {
          "output_type": "stream",
          "name": "stdout",
          "text": [
            "Calculator is ready!\n",
            "==================\n",
            "Returned value: 30\n",
            "10 + 20 = 30\n",
            "==================\n",
            "Returned value: 20\n",
            "30 - 10 = 20\n",
            "==================\n",
            "Returned value: 100\n",
            "20 * 5 = 100\n",
            "==================\n",
            "Returned value: 6.25\n",
            "100 / 16 = 6.25\n"
          ]
        }
      ]
    },
    {
      "cell_type": "code",
      "source": [
        "#TASK - 7\n",
        "\n",
        "class Student:\n",
        "    def __init__(self, name, id, dep, grd):\n",
        "        self.name = name\n",
        "        self.id = id\n",
        "        self.dep = dep\n",
        "        self.grd = grd\n",
        "        self.cgpa = 0.00\n",
        "    def calculate_CGPA(self):\n",
        "        cgpa = 0\n",
        "        for i in self.grd:\n",
        "            cgpa += (i*3)\n",
        "        self.cgpa = cgpa / len(self.grd * 3)\n",
        "    def print_details(self):\n",
        "        print(\"Name:\", self.name+\",\", \"ID:\", self.id)\n",
        "        print(\"Department:\", self.dep)\n",
        "        print(\"CGPA:\", self.cgpa)\n",
        "        if self.cgpa > 3.80:            \n",
        "            print(\"Your academic standing is 'Highest Distinction'\")\n",
        "        elif self.cgpa > 3.65:\n",
        "            print(\"Your academic standing is 'High Distinction'\")\n",
        "        elif self.cgpa > 3.50:\n",
        "            print(\"Your academic standing is 'Distinction'\")\n",
        "        elif self.cgpa > 2.00:\n",
        "            print(\"Your academic standing is 'Satisfactory'\")\n",
        "        elif self.cgpa < 2.00:\n",
        "            print(\"Sorry, you cannot graduate\")\n",
        "# Driver Code      \n",
        "s1 = Student('Dora', '15995599','CSE', [4,3.7,3.7,4])\n",
        "s1.calculate_CGPA()\n",
        "print(\"==========================\")\n",
        "s1.print_details()\n",
        "print(\"==========================\")\n",
        "s2 = Student('Pingu', '12312322', 'EEE', [1.7,1.3,1.3,1.3,1])\n",
        "s2.calculate_CGPA()\n",
        "print(\"==========================\")\n",
        "s2.print_details()\n",
        "print(\"==========================\")\n",
        "s3 = Student('Bob', '13311331', 'CSE', [2,3,3,3.7,2.7,2.7])\n",
        "s3.calculate_CGPA()\n",
        "print(\"==========================\")\n",
        "s3.print_details()"
      ],
      "metadata": {
        "colab": {
          "base_uri": "https://localhost:8080/"
        },
        "id": "oSm4qNvp5Cl-",
        "outputId": "b5e31edc-8272-45a0-cf11-42ba012dd8db"
      },
      "execution_count": null,
      "outputs": [
        {
          "output_type": "stream",
          "name": "stdout",
          "text": [
            "==========================\n",
            "Name: Dora, ID: 15995599\n",
            "Department: CSE\n",
            "CGPA: 3.85\n",
            "Your academic standing is 'Highest Distinction'\n",
            "==========================\n",
            "==========================\n",
            "Name: Pingu, ID: 12312322\n",
            "Department: EEE\n",
            "CGPA: 1.32\n",
            "Sorry, you cannot graduate\n",
            "==========================\n",
            "==========================\n",
            "Name: Bob, ID: 13311331\n",
            "Department: CSE\n",
            "CGPA: 2.85\n",
            "Your academic standing is 'Satisfactory'\n"
          ]
        }
      ]
    },
    {
      "cell_type": "code",
      "source": [
        "#TASK = 8\n",
        "\n",
        "class Shinobi:\n",
        "    def __init__(self, name, rank):\n",
        "        self.name = name \n",
        "        self.rank = rank\n",
        "        self.salary = 0\n",
        "        self.mission = 0\n",
        "    def changeRank(self, rank):\n",
        "        self.rank = rank\n",
        "    def calSalary(self, mission):\n",
        "        self.mission = mission\n",
        "        if self.rank == \"Genin\":\n",
        "            self.salary = mission * 50\n",
        "        elif self.rank == \"Chunin\":\n",
        "            self.salary = mission * 100\n",
        "        else:\n",
        "            self.salary = mission * 500\n",
        "    def printInfo(self):\n",
        "        print(\"Name:\", self.name)\n",
        "        print(\"Rank:\", self.rank)\n",
        "        print(\"Number of mission:\", self.mission)\n",
        "        print(\"Salary:\", self.salary)\n",
        "# Driver Code\n",
        "naruto = Shinobi(\"Naruto\", \"Genin\")\n",
        "naruto.calSalary(5)\n",
        "naruto.printInfo()\n",
        "print('====================')\n",
        "shikamaru = Shinobi('Shikamaru', \"Genin\")\n",
        "shikamaru.printInfo()\n",
        "shikamaru.changeRank(\"Chunin\")\n",
        "shikamaru.calSalary(10)\n",
        "shikamaru.printInfo()\n",
        "print('====================')\n",
        "neiji = Shinobi(\"Neiji\", \"Jonin\")\n",
        "neiji.calSalary(5)\n",
        "neiji.printInfo()"
      ],
      "metadata": {
        "colab": {
          "base_uri": "https://localhost:8080/"
        },
        "id": "_TgrrOFJFCLO",
        "outputId": "0a772894-496c-4620-d2e0-94dadcee1711"
      },
      "execution_count": null,
      "outputs": [
        {
          "output_type": "stream",
          "name": "stdout",
          "text": [
            "Name: Naruto\n",
            "Rank: Genin\n",
            "Number of mission: 5\n",
            "Salary: 250\n",
            "====================\n",
            "Name: Shikamaru\n",
            "Rank: Genin\n",
            "Number of mission: 0\n",
            "Salary: 0\n",
            "Name: Shikamaru\n",
            "Rank: Chunin\n",
            "Number of mission: 10\n",
            "Salary: 1000\n",
            "====================\n",
            "Name: Neiji\n",
            "Rank: Jonin\n",
            "Number of mission: 5\n",
            "Salary: 2500\n"
          ]
        }
      ]
    },
    {
      "cell_type": "code",
      "source": [
        "#TASK - 9\n",
        "\n",
        "class Programmer:\n",
        "    def __init__(self, name, lang, exp):\n",
        "        self.title = \"Horray! A new programmer is born\"\n",
        "        self.name = name\n",
        "        self.lang = lang\n",
        "        self.exp = exp\n",
        "\n",
        "    def addExp(self, yrs):\n",
        "        self.exp += yrs\n",
        "        self.title = f'Updating experience of {self.name}'\n",
        "\n",
        "    def printDetails(self):\n",
        "        print(self.title)\n",
        "        print(\"Name:\", self.name)\n",
        "        print(\"Language:\", self.lang)\n",
        "        print(\"Experience:\", str(self.exp)+\" years.\")\n",
        "        \n",
        "# Driver Code\n",
        "p1 = Programmer(\"Ethen Hunt\", \"Java\", 10)\n",
        "p1.printDetails()\n",
        "print('--------------------------')\n",
        "p2 = Programmer(\"James Bond\", \"C++\", 7)\n",
        "p2.printDetails()\n",
        "print('--------------------------')\n",
        "p3 = Programmer(\"Jon Snow\", \"Python\", 4)\n",
        "p3.printDetails()\n",
        "p3.addExp(5)\n",
        "p3.printDetails()"
      ],
      "metadata": {
        "colab": {
          "base_uri": "https://localhost:8080/"
        },
        "id": "_UMH0aFUZmfO",
        "outputId": "5d0e3745-713f-4c29-db1a-c4c5976957fd"
      },
      "execution_count": null,
      "outputs": [
        {
          "output_type": "stream",
          "name": "stdout",
          "text": [
            "Horray! A new programmer is born\n",
            "Name: Ethen Hunt\n",
            "Language: Java\n",
            "Experience: 10 years.\n",
            "--------------------------\n",
            "Horray! A new programmer is born\n",
            "Name: James Bond\n",
            "Language: C++\n",
            "Experience: 7 years.\n",
            "--------------------------\n",
            "Horray! A new programmer is born\n",
            "Name: Jon Snow\n",
            "Language: Python\n",
            "Experience: 4 years.\n",
            "Updating experience of Jon Snow\n",
            "Name: Jon Snow\n",
            "Language: Python\n",
            "Experience: 9 years.\n"
          ]
        }
      ]
    },
    {
      "cell_type": "code",
      "source": [
        "# TASK - 10\n",
        "\n",
        "class UberEats:\n",
        "    def __init__(self, name, mobile, place):\n",
        "        self.name = name\n",
        "        self.mobile = mobile\n",
        "        self.place = place\n",
        "        self.cart = {}\n",
        "        self.total = 0\n",
        "        print(self.name+\",\", \"welcome to UberEats!\")\n",
        "    def add_items(self, food, drinks, fprice, dprice):\n",
        "        self.cart[food] = fprice\n",
        "        self.cart[drinks] = dprice\n",
        "        for i in self.cart.values():\n",
        "            self.total += i\n",
        "    def print_order_detail(self):\n",
        "        return f'User details: Name: {self.name}, Phone: \\n{self.mobile}, Address: {self.place} \\nOrders: {self.cart} \\nTotal Paid Amount: {self.total}'\n",
        "\n",
        "\n",
        "# Driver Code\n",
        "order1 = UberEats(\"Shakib\", \"01719658xxx\", \"Mohakhali\")\n",
        "print(\"=========================\")\n",
        "order1.add_items(\"Burger\", \"Coca Cola\", 220, 50)\n",
        "print(\"=========================\")\n",
        "print(order1.print_order_detail())\n",
        "print(\"=========================\")\n",
        "order2 = UberEats (\"Siam\", \"01719659xxx\", \"Uttara\")\n",
        "print(\"=========================\")\n",
        "order2.add_items(\"Pineapple\", \"Dairy Milk\", 80, 70)\n",
        "print(\"=========================\")\n",
        "print(order2.print_order_detail())"
      ],
      "metadata": {
        "colab": {
          "base_uri": "https://localhost:8080/"
        },
        "id": "_5bUEMV9dWty",
        "outputId": "0f1b1239-652a-4d83-ee10-077ecdcb7f9e"
      },
      "execution_count": null,
      "outputs": [
        {
          "output_type": "stream",
          "name": "stdout",
          "text": [
            "Shakib, welcome to UberEats!\n",
            "=========================\n",
            "=========================\n",
            "User details: Name: Shakib, Phone: \n",
            "01719658xxx, Address: Mohakhali \n",
            "Orders: {'Burger': 220, 'Coca Cola': 50} \n",
            "Total Paid Amount: 270\n",
            "=========================\n",
            "Siam, welcome to UberEats!\n",
            "=========================\n",
            "=========================\n",
            "User details: Name: Siam, Phone: \n",
            "01719659xxx, Address: Uttara \n",
            "Orders: {'Pineapple': 80, 'Dairy Milk': 70} \n",
            "Total Paid Amount: 150\n"
          ]
        }
      ]
    },
    {
      "cell_type": "code",
      "source": [
        "#TASK - 11\n",
        "\n",
        "class Spotify:\n",
        "    def __init__(self,li):\n",
        "        print(\"Welcome to Spotify!\")\n",
        "        self.li = li\n",
        "    def playing_number(self, n):\n",
        "        try :\n",
        "            self.n = n - 1\n",
        "            print(f'Playing {n} number song for you')\n",
        "            return \"Song name:\"+\" \"+self.li[self.n]+\"\\n##########################\"\n",
        "        except:\n",
        "            return f'{n} number song not found. Your playlist has {len(self.li)} songs only \\n##########################'\n",
        "    def add_to_playlist(self, s):\n",
        "        self.s = s\n",
        "        self.li.append(self.s)\n",
        "\n",
        "# Driver Code\n",
        "user1 = Spotify([\"See You Again\", \"Uptown Funk\", \"Hello\"])\n",
        "print(\"=========================\")\n",
        "print(user1.playing_number(4))\n",
        "user1.add_to_playlist(\"Dusk Till Dawn\")\n",
        "print(user1.playing_number(3))\n",
        "print(user1.playing_number(4))"
      ],
      "metadata": {
        "colab": {
          "base_uri": "https://localhost:8080/"
        },
        "id": "grsf-FVTb7MB",
        "outputId": "632b574c-c2b6-41dc-9575-7d3f6c38917b"
      },
      "execution_count": null,
      "outputs": [
        {
          "output_type": "stream",
          "name": "stdout",
          "text": [
            "Welcome to Spotify!\n",
            "=========================\n",
            "Playing 4 number song for you\n",
            "4 number song not found. Your playlist has 3 songs only \n",
            "##########################\n",
            "Playing 3 number song for you\n",
            "Song name: Hello\n",
            "##########################\n",
            "Playing 4 number song for you\n",
            "Song name: Dusk Till Dawn\n",
            "##########################\n"
          ]
        }
      ]
    },
    {
      "cell_type": "code",
      "source": [
        "#TASK - 12\n",
        "\n",
        "class Test:\n",
        "    def __init__(self):\n",
        "        self.sum = 0\n",
        "        self.y = 0\n",
        "    def methodA(self):\n",
        "        x=0\n",
        "        y =0\n",
        "        y = y + 7\n",
        "        x = y + 11\n",
        "        self.sum = x + y\n",
        "        print(x , y, self.sum)\n",
        "    def methodB(self):\n",
        "        x = 0\n",
        "        self.y = self.y + 11\n",
        "        x = x + 33 + self.y\n",
        "        self.sum = self.sum + x + self.y\n",
        "        print(x , self.y, self.sum)\n",
        "\n",
        "t1 = Test()\n",
        "t1.methodA()\n",
        "t1.methodA()\n",
        "t1.methodB()\n",
        "t1.methodB()"
      ],
      "metadata": {
        "colab": {
          "base_uri": "https://localhost:8080/"
        },
        "id": "pNYS6qAKVEf_",
        "outputId": "e42c08f2-7715-455c-f5e8-d88ec9d99f03"
      },
      "execution_count": 2,
      "outputs": [
        {
          "output_type": "stream",
          "name": "stdout",
          "text": [
            "18 7 25\n",
            "18 7 25\n",
            "44 11 80\n",
            "55 22 157\n"
          ]
        }
      ]
    },
    {
      "cell_type": "code",
      "source": [
        "#TASK - 13\n",
        "\n",
        "class Scope:\n",
        "    def __init__(self):\n",
        "        self.x, self.y = 1, 100\n",
        "    def met1(self):\n",
        "        x = 3\n",
        "        x = self.x + 1\n",
        "        self.y = self.y + self.x + 1\n",
        "        x = self.y + self.met2() + self.y\n",
        "        print(x, self.y)\n",
        "    def met2(self):     \n",
        "        y = 0\n",
        "        print(self.x, y)\n",
        "        self.x = self.x + y\n",
        "        self.y = self.y + 200\n",
        "        return self.x + y\n",
        "q2 = Scope()\n",
        "q2.met1()\n",
        "q2.met2()\n",
        "q2.met1()\n",
        "q2.met2()"
      ],
      "metadata": {
        "colab": {
          "base_uri": "https://localhost:8080/"
        },
        "id": "ewMRKGoEV6vo",
        "outputId": "b01d6f3d-abdc-47d8-bffb-33d167c35c0c"
      },
      "execution_count": 3,
      "outputs": [
        {
          "output_type": "stream",
          "name": "stdout",
          "text": [
            "1 0\n",
            "405 302\n",
            "1 0\n",
            "1 0\n",
            "1209 704\n",
            "1 0\n"
          ]
        },
        {
          "output_type": "execute_result",
          "data": {
            "text/plain": [
              "1"
            ]
          },
          "metadata": {},
          "execution_count": 3
        }
      ]
    },
    {
      "cell_type": "code",
      "source": [
        "#TASK - 14\n",
        "\n",
        "class Test3:\n",
        "    def __init__(self):\n",
        "        self.sum, self.y = 0, 0\n",
        "    def methodA(self):\n",
        "        x, y = 2, 3\n",
        "        msg = [0]\n",
        "        msg[0] = 3\n",
        "        y = self.y + msg[0]\n",
        "        self.methodB(msg, msg[0])\n",
        "        x = self.y + msg[0]\n",
        "        self.sum = x + y + msg[0]\n",
        "        print(x, y, self.sum)\n",
        "    def methodB(self, mg2, mg1):\n",
        "        x = 0\n",
        "        self.y = self.y + mg2[0]\n",
        "        x = x + 33 + mg1\n",
        "        self.sum = self.sum + x + self.y\n",
        "        mg2[0] = self.y + mg1\n",
        "        mg1 = mg1 + x + 2\n",
        "        print(x, self.y, self.sum)\n",
        "\n",
        "t3 = Test3()\n",
        "t3.methodA()\n",
        "t3.methodA()\n",
        "t3.methodA()\n",
        "t3.methodA()"
      ],
      "metadata": {
        "colab": {
          "base_uri": "https://localhost:8080/"
        },
        "id": "cGq7BHyzWOR6",
        "outputId": "a7ac0361-b652-4fe5-c2da-30f92685dbab"
      },
      "execution_count": 4,
      "outputs": [
        {
          "output_type": "stream",
          "name": "stdout",
          "text": [
            "36 3 39\n",
            "9 3 18\n",
            "36 6 60\n",
            "15 6 30\n",
            "36 9 75\n",
            "21 9 42\n",
            "36 12 90\n",
            "27 12 54\n"
          ]
        }
      ]
    },
    {
      "cell_type": "code",
      "source": [
        "#TASK - 15\n",
        "\n",
        "\n",
        "class Test5:\n",
        "    def __init__(self):\n",
        "        self.sum, self.y = 0, 0\n",
        "    def methodA(self):\n",
        "        x = 0\n",
        "        z = 0\n",
        "        while (z < 5):\n",
        "            self.y = self.y + self.sum\n",
        "            x = self.y + 1\n",
        "            print(x, self.y, self.sum)\n",
        "            self.sum = self.sum + self.methodB(x, self.y)\n",
        "            z += 1\n",
        "    def methodB(self, m, n):\n",
        "        x = 0\n",
        "        sum = 0\n",
        "        self.y = self.y + m\n",
        "        x = n - 4\n",
        "        sum = sum + self.y\n",
        "        print(x, self.y, sum)\n",
        "        return self.sum\n",
        "\n",
        "t5 = Test5()\n",
        "t5.methodA()"
      ],
      "metadata": {
        "colab": {
          "base_uri": "https://localhost:8080/"
        },
        "id": "QwGtG9veWiqc",
        "outputId": "89451716-2301-4a79-fb8f-df6881bce45f"
      },
      "execution_count": 6,
      "outputs": [
        {
          "output_type": "stream",
          "name": "stdout",
          "text": [
            "1 0 0\n",
            "-4 1 1\n",
            "2 1 0\n",
            "-3 3 3\n",
            "4 3 0\n",
            "-1 7 7\n",
            "8 7 0\n",
            "3 15 15\n",
            "16 15 0\n",
            "11 31 31\n"
          ]
        }
      ]
    }
  ]
}