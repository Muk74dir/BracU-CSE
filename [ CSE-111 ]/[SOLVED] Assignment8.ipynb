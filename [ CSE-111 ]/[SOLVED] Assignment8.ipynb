{
  "nbformat": 4,
  "nbformat_minor": 0,
  "metadata": {
    "colab": {
      "name": "CSE111_LAB8.ipynb",
      "provenance": []
    },
    "kernelspec": {
      "name": "python3",
      "display_name": "Python 3"
    },
    "language_info": {
      "name": "python"
    }
  },
  "cells": [
    {
      "cell_type": "markdown",
      "source": [
        "# Task 1"
      ],
      "metadata": {
        "id": "c8Jb4np4wmPX"
      }
    },
    {
      "cell_type": "code",
      "source": [
        "class RealNumber:\n",
        "  def __init__(self, r=0):\n",
        "    self.__realValue = r\n",
        "  def getRealValue(self):\n",
        "    return self.__realValue\n",
        "  def setRealValue(self, r):\n",
        "    self.__realValue = r\n",
        "  def __str__(self):\n",
        "    return 'RealPart: '+str(self.getRealValue())\n",
        "\n",
        "#mycode\n",
        "class ComplexNumber(RealNumber):\n",
        "  def __init__(self, r=1.0, i=1.0):\n",
        "    super().__init__(float(r))\n",
        "    self.imaginaryValue = float(i)\n",
        "  def __str__(self):\n",
        "    print(super().__str__())\n",
        "    return f\"ImaginaryPart: {self.imaginaryValue}\"\n",
        "#endof mycode\n",
        "\n",
        "cn1 = ComplexNumber()\n",
        "print(cn1)\n",
        "print('---------')\n",
        "cn2 = ComplexNumber(5,7)\n",
        "print(cn2)"
      ],
      "metadata": {
        "colab": {
          "base_uri": "https://localhost:8080/"
        },
        "id": "pKX9Dz4pwqkD",
        "outputId": "2dac9cd3-d50a-435e-ac1c-bc9ee9ca6d51"
      },
      "execution_count": null,
      "outputs": [
        {
          "output_type": "stream",
          "name": "stdout",
          "text": [
            "RealPart: 1.0\n",
            "ImaginaryPart: 1.0\n",
            "---------\n",
            "RealPart: 5.0\n",
            "ImaginaryPart: 7.0\n"
          ]
        }
      ]
    },
    {
      "cell_type": "markdown",
      "source": [
        "# Task 2"
      ],
      "metadata": {
        "id": "_TJKW_QxziJX"
      }
    },
    {
      "cell_type": "code",
      "source": [
        "class RealNumber:\n",
        "  def __init__(self, number=0):\n",
        "    self.number = number\n",
        "  def __add__(self, anotherRealNumber):\n",
        "    return self.number + anotherRealNumber.number\n",
        "  def __sub__(self, anotherRealNumber):\n",
        "    return self.number - anotherRealNumber.number\n",
        "  def __str__(self):\n",
        "    return str(self.number)\n",
        "\n",
        "#mycode\n",
        "class ComplexNumber(RealNumber):\n",
        "  def __init__(self, number, i):\n",
        "    if type(number)==int:\n",
        "      self.number = number\n",
        "    else:\n",
        "      self.number = number.number\n",
        "    self.i = i\n",
        "    self.istr = str(i)+'i'\n",
        "  def __add__(self, anotherRealNumber):\n",
        "    if self.i + anotherRealNumber.i >= 0:\n",
        "      sign = \"+\"\n",
        "      remi = self.i + anotherRealNumber.i\n",
        "    else:\n",
        "      sign = \"-\"\n",
        "      remi = -1*(self.i + anotherRealNumber.i)\n",
        "    return f\"{self.number + anotherRealNumber.number} {sign} {remi}i\"\n",
        "  def __sub__(self, anotherRealNumber):\n",
        "    if self.i - anotherRealNumber.i >= 0:\n",
        "      sign = \"+\"\n",
        "      remi = (self.i - anotherRealNumber.i)\n",
        "    else:\n",
        "      sign = \"-\"\n",
        "      remi = -1*(self.i - anotherRealNumber.i)\n",
        "    return f\"{self.number - anotherRealNumber.number} {sign} {remi}i\"\n",
        "  def __str__(self):\n",
        "    return f\"{self.number} + {self.istr}\"\n",
        "#endofmycode\n",
        "\n",
        "\n",
        "\n",
        "r1 = RealNumber(3)\n",
        "r2 = RealNumber(5)\n",
        "print(r1+r2)\n",
        "cn1 = ComplexNumber(2, 1)\n",
        "print(cn1)\n",
        "cn2 = ComplexNumber(r1, 5)\n",
        "print(cn2)\n",
        "cn3 = cn1 + cn2\n",
        "print(cn3)\n",
        "cn4 = cn1 - cn2\n",
        "print(cn4)"
      ],
      "metadata": {
        "colab": {
          "base_uri": "https://localhost:8080/"
        },
        "id": "NAqU1cfCzj7_",
        "outputId": "a5bf88c5-aa68-4f66-8dff-96964cff0289"
      },
      "execution_count": null,
      "outputs": [
        {
          "output_type": "stream",
          "name": "stdout",
          "text": [
            "8\n",
            "2 + 1i\n",
            "3 + 5i\n",
            "5 + 6i\n",
            "-1 - 4i\n"
          ]
        }
      ]
    },
    {
      "cell_type": "code",
      "source": [
        "class RealNumber:\n",
        "  def __init__(self, number=0):\n",
        "    self.number = number\n",
        "  def __add__(self, anotherRealNumber):\n",
        "    return self.number + anotherRealNumber.number\n",
        "  def __sub__(self, anotherRealNumber):\n",
        "    return self.number - anotherRealNumber.number\n",
        "  def __str__(self):\n",
        "    return str(self.number)\n",
        "\n",
        "#mycode\n",
        "class ComplexNumber(RealNumber):\n",
        "  def __init__(self, number, i):\n",
        "    if type(number)==int:\n",
        "      self.number = number\n",
        "    else:\n",
        "      self.number = number.number\n",
        "    self.i = i\n",
        "    self.istr = str(i)+'i'\n",
        "  def __add__(self, anotherRealNumber):\n",
        "    if self.i + anotherRealNumber.i >= 0:\n",
        "      sign = \"+\"\n",
        "      remi = self.i + anotherRealNumber.i\n",
        "    else:\n",
        "      sign = \"-\"\n",
        "      remi = -1*(self.i + anotherRealNumber.i)\n",
        "    return f\"{self.number + anotherRealNumber.number} {sign} {remi}i\"\n",
        "  def __sub__(self, anotherRealNumber):\n",
        "    if self.i - anotherRealNumber.i >= 0:\n",
        "      sign = \"+\"\n",
        "      remi = (self.i - anotherRealNumber.i)\n",
        "    else:\n",
        "      sign = \"-\"\n",
        "      remi = -1*(self.i - anotherRealNumber.i)\n",
        "    return f\"{self.number - anotherRealNumber.number} {sign} {remi}i\"\n",
        "  def __str__(self):\n",
        "    return f\"{self.number} + {self.istr}\"\n",
        "#endofmycode\n",
        "\n",
        "\n",
        "\n",
        "r1 = RealNumber(3)\n",
        "r2 = RealNumber(5)\n",
        "print(r1+r2)\n",
        "cn1 = ComplexNumber(2, 1)\n",
        "print(cn1)\n",
        "cn2 = ComplexNumber(r1, 5)\n",
        "print(cn2)\n",
        "cn3 = cn1 + cn2\n",
        "print(cn3)\n",
        "cn4 = cn1 - cn2\n",
        "print(cn4)"
      ],
      "metadata": {
        "colab": {
          "base_uri": "https://localhost:8080/"
        },
        "id": "wB3Thcp31hTH",
        "outputId": "bc2b6a49-0800-4584-820e-fc5506ff8457"
      },
      "execution_count": null,
      "outputs": [
        {
          "output_type": "stream",
          "name": "stdout",
          "text": [
            "8\n",
            "2 + 1i\n",
            "3 + 5i\n",
            "5 + 6i\n",
            "-1 - 4i\n"
          ]
        }
      ]
    },
    {
      "cell_type": "code",
      "source": [
        "#rough\n",
        "class RealNumber:\n",
        "  def __init__(self, number=0):\n",
        "    self.number = number\n",
        "\n",
        "class ComplexNumber(RealNumber):\n",
        "  def __init__(self, r, i):\n",
        "    if type(r)==int:\n",
        "      self.r = r\n",
        "    else:\n",
        "      self.r = r.number\n",
        "      print(self.r)\n",
        "\n",
        "c1 = RealNumber(3)\n",
        "b2 = ComplexNumber(c1, 5)\n",
        "# print(c1.number)"
      ],
      "metadata": {
        "colab": {
          "base_uri": "https://localhost:8080/"
        },
        "id": "FuHwEo7x0qoa",
        "outputId": "d3ce5562-d7e3-4f84-f0c6-67f32c20bbd1"
      },
      "execution_count": null,
      "outputs": [
        {
          "output_type": "stream",
          "name": "stdout",
          "text": [
            "3\n"
          ]
        }
      ]
    },
    {
      "cell_type": "markdown",
      "source": [
        "# Task 3"
      ],
      "metadata": {
        "id": "nEixZzbC5Z8z"
      }
    },
    {
      "cell_type": "code",
      "source": [
        "class Account:\n",
        "  def __init__(self, balance):\n",
        "    self._balance = balance\n",
        "  def getBalance(self):\n",
        "    return self._balance\n",
        "\n",
        "#mycode\n",
        "class CheckingAccount(Account):\n",
        "  numberOfAccount = 0\n",
        "  def __init__(self, bal=0.0):\n",
        "    super().__init__(bal)\n",
        "    CheckingAccount.numberOfAccount += 1\n",
        "  def __str__(self):\n",
        "    return f\"Account Balance: {super().getBalance()}\"\n",
        "\n",
        "#mycodeendshere\n",
        "\n",
        "print('Number of Checking Accounts: ', CheckingAccount.numberOfAccount)\n",
        "print(CheckingAccount())\n",
        "print(CheckingAccount(100.00))\n",
        "print(CheckingAccount(200.00))\n",
        "print('Number of Checking Accounts: ', CheckingAccount.numberOfAccount)"
      ],
      "metadata": {
        "colab": {
          "base_uri": "https://localhost:8080/"
        },
        "id": "1W3ERX4I5bbq",
        "outputId": "41a1b03f-b708-4028-f9d6-1caa2a9667eb"
      },
      "execution_count": null,
      "outputs": [
        {
          "output_type": "stream",
          "name": "stdout",
          "text": [
            "Number of Checking Accounts:  0\n",
            "Account Balance: 0.0\n",
            "Account Balance: 100.0\n",
            "Account Balance: 200.0\n",
            "Number of Checking Accounts:  3\n"
          ]
        }
      ]
    },
    {
      "cell_type": "markdown",
      "source": [
        "# Task 4"
      ],
      "metadata": {
        "id": "GJIEEgG_8ySW"
      }
    },
    {
      "cell_type": "code",
      "source": [
        "class Fruit:\n",
        "  def __init__(self, formalin=False, name=''):\n",
        "    self.__formalin = formalin\n",
        "    self.name = name\n",
        "  def getName(self):\n",
        "    return self.name\n",
        "  def hasFormalin(self):\n",
        "    return self.__formalin\n",
        "class testFruit:\n",
        "  def test(self, f):\n",
        "    print('----Printing Detail----')\n",
        "    if f.hasFormalin():\n",
        "      print('Do not eat the',f.getName(),'.')\n",
        "      print(f)\n",
        "    else:\n",
        "      print('Eat the',f.getName(),'.')\n",
        "      print(f)\n",
        "\n",
        "#mycode\n",
        "class Mango(Fruit):\n",
        "  def __init__(self):\n",
        "    super().__init__(formalin=True, name='Mango')\n",
        "  def __str__(self):\n",
        "    return f\"Mangos are bad for you\"\n",
        "class Jackfruit(Fruit):\n",
        "  def __init__(self):\n",
        "    super().__init__(formalin=False, name='Jackfruit')\n",
        "  def __str__(self):\n",
        "    return f\"Jackfruits are good for you\"\n",
        "#endof mycode\n",
        "m = Mango()\n",
        "j = Jackfruit()\n",
        "t1 = testFruit()\n",
        "t1.test(m)\n",
        "t1.test(j)"
      ],
      "metadata": {
        "colab": {
          "base_uri": "https://localhost:8080/"
        },
        "id": "mGK1lhY78SyO",
        "outputId": "bb2fe67f-565b-4b63-b700-e58acfb66ea0"
      },
      "execution_count": null,
      "outputs": [
        {
          "output_type": "stream",
          "name": "stdout",
          "text": [
            "----Printing Detail----\n",
            "Do not eat the Mango .\n",
            "Mangos are bad for you\n",
            "----Printing Detail----\n",
            "Eat the Jackfruit .\n",
            "Jackfruits are good for you\n"
          ]
        }
      ]
    },
    {
      "cell_type": "markdown",
      "source": [
        "# Task 5"
      ],
      "metadata": {
        "id": "_UnGGlIn-UKy"
      }
    },
    {
      "cell_type": "code",
      "source": [
        "class Exam:\n",
        "  def __init__(self,marks):\n",
        "    self.marks = marks\n",
        "    self.time = 60\n",
        "  def examSyllabus(self):\n",
        "    return \"Maths , English\"\n",
        "  def examParts(self):\n",
        "    return \"Part 1 - Maths\\nPart 2 - English\\n\"\n",
        "#mycode\n",
        "class ScienceExam(Exam):\n",
        "  def __init__(self, marks, time, *stup):\n",
        "    super().__init__(marks)\n",
        "    self.time = time\n",
        "    self.stup = stup\n",
        "    self.listf = []\n",
        "    self.prevl = super().examSyllabus().split(\" , \")\n",
        "    for i in self.prevl:\n",
        "      self.listf.append(i)\n",
        "    for i in self.stup:\n",
        "      self.listf.append(i)\n",
        "  def examSyllabus(self):\n",
        "    i1 = \"\"\n",
        "    for i in range(len(self.stup)):\n",
        "      if i!=len(self.stup)-1:\n",
        "        i1 += f\" {self.stup[i]} ,\"\n",
        "      else:\n",
        "        i1 += f\" {self.stup[i]}\"\n",
        "    return super().examSyllabus() + f\" ,{i1}\"\n",
        "  def examParts(self):\n",
        "    parts = \"\"\n",
        "    for i in range(len(self.stup)):\n",
        "      parts += f\"Part {i+3} - {self.stup[i]}\\n\"\n",
        "    return super().examParts() + f\"{parts}\"\n",
        "  def __str__(self):\n",
        "    return f\"Marks: {self.marks} Time: {self.time} minutes Number of Parts: {len(self.listf)}\"\n",
        "#mycode ends here\n",
        "engineering = ScienceExam(100,90,\"Physics\",\"HigherMaths\")\n",
        "print(engineering)\n",
        "print('----------------------------------')\n",
        "print(engineering.examSyllabus())\n",
        "print(engineering.examParts())\n",
        "print('==================================')\n",
        "architecture = ScienceExam(100,120,\"Physics\",\"HigherMaths\",\"Drawing\")\n",
        "print(architecture)\n",
        "print('----------------------------------')\n",
        "print(architecture.examSyllabus())\n",
        "print(architecture.examParts())"
      ],
      "metadata": {
        "colab": {
          "base_uri": "https://localhost:8080/"
        },
        "id": "Q3Oz7Ghi-Vwl",
        "outputId": "e3d3e653-f5d8-498b-f22a-bd0d8614b943"
      },
      "execution_count": null,
      "outputs": [
        {
          "output_type": "stream",
          "name": "stdout",
          "text": [
            "Marks: 100 Time: 90 minutes Number of Parts: 4\n",
            "----------------------------------\n",
            "Maths , English , Physics , HigherMaths\n",
            "Part 1 - Maths\n",
            "Part 2 - English\n",
            "Part 3 - Physics\n",
            "Part 4 - HigherMaths\n",
            "\n",
            "==================================\n",
            "Marks: 100 Time: 120 minutes Number of Parts: 5\n",
            "----------------------------------\n",
            "Maths , English , Physics , HigherMaths , Drawing\n",
            "Part 1 - Maths\n",
            "Part 2 - English\n",
            "Part 3 - Physics\n",
            "Part 4 - HigherMaths\n",
            "Part 5 - Drawing\n",
            "\n"
          ]
        }
      ]
    },
    {
      "cell_type": "markdown",
      "source": [
        "#Task 6"
      ],
      "metadata": {
        "id": "HqIjynY0Wnrw"
      }
    },
    {
      "cell_type": "code",
      "source": [
        "class Shape3D:\n",
        "  pi = 3.14159\n",
        "  def __init__(self, name = 'Default', radius = 0):\n",
        "    self._area = 0\n",
        "    self._name = name\n",
        "    self._height = 'No need'\n",
        "    self._radius = radius\n",
        "  def calc_surface_area(self):\n",
        "    return 2 * Shape3D.pi * self._radius\n",
        "  def __str__(self):\n",
        "    return \"Radius: \"+str(self._radius)\n",
        "\n",
        "#mycode\n",
        "class Sphere(Shape3D):\n",
        "  def __init__(self, name, radius):\n",
        "    super().__init__(name, radius)\n",
        "    print(f\"Shape name: {name}, Area Formula: 4 * pi * r * r\")\n",
        "  def calc_surface_area(self):\n",
        "    self.area = 2 * super().calc_surface_area() * self._radius\n",
        "    return self.area\n",
        "  def __str__(self):\n",
        "    print(f\"{super().__str__()}, Height: No need\")\n",
        "    return f\"Area: {self.area}\"\n",
        "\n",
        "class Cylinder(Shape3D):\n",
        "  def __init__(self, name, radius, height):\n",
        "    super().__init__(name, radius)\n",
        "    self.height = height\n",
        "    print(f\"Shape name: {name}, Area Formula: 2 * pi * r * (r + h)\")\n",
        "  def calc_surface_area(self):\n",
        "    self.area = super().calc_surface_area() * (self._radius + self.height)\n",
        "    return self.area\n",
        "  def __str__(self):\n",
        "    print(f\"{super().__str__()}, Height: {self.height}\")\n",
        "    return f\"Area: {self.area}\"\n",
        "#end of mycode\n",
        "\n",
        "sph = Sphere('Sphere', 5)\n",
        "print('----------------------------------')\n",
        "sph.calc_surface_area()\n",
        "print(sph)\n",
        "print('==================================')\n",
        "cyl = Cylinder('Cylinder', 5, 10)\n",
        "print('----------------------------------')\n",
        "cyl.calc_surface_area()\n",
        "print(cyl)"
      ],
      "metadata": {
        "colab": {
          "base_uri": "https://localhost:8080/"
        },
        "id": "nGh2s0XCWqcf",
        "outputId": "0c0ca904-84c8-448f-ef03-31f9b8520a8c"
      },
      "execution_count": null,
      "outputs": [
        {
          "output_type": "stream",
          "name": "stdout",
          "text": [
            "Shape name: Sphere, Area Formula: 4 * pi * r * r\n",
            "----------------------------------\n",
            "Radius: 5, Height: No need\n",
            "Area: 314.159\n",
            "==================================\n",
            "Shape name: Cylinder, Area Formula: 2 * pi * r * (r + h)\n",
            "----------------------------------\n",
            "Radius: 5, Height: 10\n",
            "Area: 471.2385\n"
          ]
        }
      ]
    },
    {
      "cell_type": "markdown",
      "source": [
        "#Task 7"
      ],
      "metadata": {
        "id": "vZFBTOKgbwIq"
      }
    },
    {
      "cell_type": "code",
      "source": [
        "class PokemonBasic:\n",
        "  def __init__(self, name = 'Default', hp = 0, weakness = 'None', type = 'Unknown'):\n",
        "    self.name = name\n",
        "    self.hit_point = hp\n",
        "    self.weakness = weakness\n",
        "    self.type = type\n",
        "  def get_type(self):\n",
        "    return 'Main type: ' + self.type\n",
        "  def get_move(self):\n",
        "    return 'Basic move: ' + 'Quick Attack'\n",
        "  def __str__(self):\n",
        "    return \"Name: \" + self.name + \", HP: \" + str(self.hit_point) + \", Weakness: \" + self.weakness\n",
        "\n",
        "#mycode\n",
        "class PokemonExtra(PokemonBasic):\n",
        "  def __init__(self, name, hp, weakness, type, type2=None, omove=None):\n",
        "    super().__init__(name, hp, weakness, type)\n",
        "    if type2 != None:\n",
        "      self.type2 = type2\n",
        "    else:\n",
        "      self.type2 = None\n",
        "    if omove!=None:\n",
        "      self.omove = omove\n",
        "    else:\n",
        "      self.omove = None\n",
        "  def get_type(self):\n",
        "    if self.type2 != None:\n",
        "      return f\"{super().get_type()}, Secondary type: {self.type2}\"\n",
        "    else:\n",
        "      return super().get_type()\n",
        "  def get_move(self):\n",
        "    if self.omove != None:\n",
        "      return f\"{super().get_move()}\\nOther move: {self.omove[0]}, {self.omove[1]}\"\n",
        "    else:\n",
        "      return f\"{super().get_move()}\"\n",
        "#end of mycode\n",
        "\n",
        "print('\\n------------Basic Info:--------------')\n",
        "pk = PokemonBasic()\n",
        "print(pk)\n",
        "print(pk.get_type())\n",
        "print(pk.get_move())\n",
        "print('\\n------------Pokemon 1 Info:-------------')\n",
        "charmander = PokemonExtra('Charmander', 39, 'Water', 'Fire')\n",
        "print(charmander)\n",
        "print(charmander.get_type())\n",
        "print(charmander.get_move())\n",
        "print('\\n------------Pokemon 2 Info:-------------')\n",
        "charizard = PokemonExtra('Charizard', 78, 'Water', 'Fire', 'Flying', ('Fire Spin', 'Fire Blaze'))\n",
        "print(charizard)\n",
        "print(charizard.get_type())\n",
        "print(charizard.get_move())"
      ],
      "metadata": {
        "colab": {
          "base_uri": "https://localhost:8080/"
        },
        "id": "zk033Rr6by1h",
        "outputId": "9194c0ef-dabb-4127-8c57-a62323dc56f5"
      },
      "execution_count": null,
      "outputs": [
        {
          "output_type": "stream",
          "name": "stdout",
          "text": [
            "\n",
            "------------Basic Info:--------------\n",
            "Name: Default, HP: 0, Weakness: None\n",
            "Main type: Unknown\n",
            "Basic move: Quick Attack\n",
            "\n",
            "------------Pokemon 1 Info:-------------\n",
            "Name: Charmander, HP: 39, Weakness: Water\n",
            "Main type: Fire\n",
            "Basic move: Quick Attack\n",
            "\n",
            "------------Pokemon 2 Info:-------------\n",
            "Name: Charizard, HP: 78, Weakness: Water\n",
            "Main type: Fire, Secondary type: Flying\n",
            "Basic move: Quick Attack\n",
            "Other move: Fire Spin, Fire Blaze\n"
          ]
        }
      ]
    },
    {
      "cell_type": "code",
      "source": [
        "class PokemonBasic:\n",
        "  def __init__(self, name = 'Default', hp = 0, weakness = 'None', type = 'Unknown'):\n",
        "    self.name = name\n",
        "    self.hit_point = hp\n",
        "    self.weakness = weakness\n",
        "    self.type = type\n",
        "  def get_type(self):\n",
        "    return 'Main type: ' + self.type\n",
        "  def get_move(self):\n",
        "    return 'Basic move: ' + 'Quick Attack'\n",
        "  def __str__(self):\n",
        "    return \"Name: \" + self.name + \", HP: \" + str(self.hit_point) + \", Weakness: \" + self.weakness\n",
        "\n",
        "#mycode\n",
        "class PokemonExtra(PokemonBasic):\n",
        "  def __init__(self, name, hp, weakness, type, type2=None, omove=None):\n",
        "    super().__init__(name, hp, weakness, type)\n",
        "    self.type2 = type2\n",
        "    self.omove = omove\n",
        "  def get_type(self):\n",
        "    if self.type2 != None:\n",
        "      return f\"{super().get_type()}, Secondary type: {self.type2}\"\n",
        "    else:\n",
        "      return super().get_type()\n",
        "  def get_move(self):\n",
        "    if self.omove != None:\n",
        "      return f\"{super().get_move()}\\nOther move: {self.omove[0]}, {self.omove[1]}\"\n",
        "    else:\n",
        "      return f\"{super().get_move()}\"\n",
        "#end of mycode\n",
        "\n",
        "print('\\n------------Basic Info:--------------')\n",
        "pk = PokemonBasic()\n",
        "print(pk)\n",
        "print(pk.get_type())\n",
        "print(pk.get_move())\n",
        "print('\\n------------Pokemon 1 Info:-------------')\n",
        "charmander = PokemonExtra('Charmander', 39, 'Water', 'Fire')\n",
        "print(charmander)\n",
        "print(charmander.get_type())\n",
        "print(charmander.get_move())\n",
        "print('\\n------------Pokemon 2 Info:-------------')\n",
        "charizard = PokemonExtra('Charizard', 78, 'Water', 'Fire', 'Flying', ('Fire Spin', 'Fire Blaze'))\n",
        "print(charizard)\n",
        "print(charizard.get_type())\n",
        "print(charizard.get_move())"
      ],
      "metadata": {
        "colab": {
          "base_uri": "https://localhost:8080/"
        },
        "id": "_m5r4CVq6jW3",
        "outputId": "f6de2bca-ca03-4bd6-ae48-c6d0f849340e"
      },
      "execution_count": null,
      "outputs": [
        {
          "output_type": "stream",
          "name": "stdout",
          "text": [
            "\n",
            "------------Basic Info:--------------\n",
            "Name: Default, HP: 0, Weakness: None\n",
            "Main type: Unknown\n",
            "Basic move: Quick Attack\n",
            "\n",
            "------------Pokemon 1 Info:-------------\n",
            "Name: Charmander, HP: 39, Weakness: Water\n",
            "Main type: Fire\n",
            "Basic move: Quick Attack\n",
            "\n",
            "------------Pokemon 2 Info:-------------\n",
            "Name: Charizard, HP: 78, Weakness: Water\n",
            "Main type: Fire, Secondary type: Flying\n",
            "Basic move: Quick Attack\n",
            "Other move: Fire Spin, Fire Blaze\n"
          ]
        }
      ]
    },
    {
      "cell_type": "markdown",
      "source": [
        "#Task 8"
      ],
      "metadata": {
        "id": "mADZBMzmiHdw"
      }
    },
    {
      "cell_type": "code",
      "source": [
        "class Team:\n",
        "  def __init__(self, name):\n",
        "    self.name = \"default\"\n",
        "    self.total_player = 5\n",
        "  def info(self):\n",
        "    print(\"We love sports\")\n",
        "# Write your code here.\n",
        "class FootBallTeam(Team):\n",
        "  def __init__(self, name):\n",
        "    super().__init__(name)\n",
        "    self.name = name\n",
        "    self.total_player = 11\n",
        "  def info(self):\n",
        "    print(f\"Our name is {self.name}\\nWe play Football\")\n",
        "    return super().info()\n",
        "class CricketTeam(Team):\n",
        "  def __init__(self, name):\n",
        "    super().__init__(name)\n",
        "    self.name = name\n",
        "    self.total_player = 11\n",
        "  def info(self):\n",
        "    print(f\"Our name is {self.name}\\nWe play Cricket\")\n",
        "    return super().info()\n",
        "#end of mycode\n",
        "class Team_test:\n",
        "  def check(self, tm):\n",
        "    print(\"=========================\")\n",
        "    print(\"Total Player: \", tm.total_player)\n",
        "    tm.info()\n",
        "\n",
        "f = FootBallTeam(\"Brazil\")\n",
        "c = CricketTeam(\"Bangladesh\")\n",
        "test = Team_test()\n",
        "test.check(f)\n",
        "test.check(c)"
      ],
      "metadata": {
        "id": "vwAy7UKjiJcx",
        "colab": {
          "base_uri": "https://localhost:8080/"
        },
        "outputId": "3083f915-f6e5-41c3-d9c5-0b6c5786a66f"
      },
      "execution_count": null,
      "outputs": [
        {
          "output_type": "stream",
          "name": "stdout",
          "text": [
            "=========================\n",
            "Total Player:  11\n",
            "Our name is Brazil\n",
            "We play Football\n",
            "We love sports\n",
            "=========================\n",
            "Total Player:  11\n",
            "Our name is Bangladesh\n",
            "We play Cricket\n",
            "We love sports\n"
          ]
        }
      ]
    },
    {
      "cell_type": "markdown",
      "source": [
        "#Task 9"
      ],
      "metadata": {
        "id": "ykM7XLAosFCs"
      }
    },
    {
      "cell_type": "code",
      "source": [
        "class Pokemon:\n",
        "  def __init__(self, p):\n",
        "    self.pokemon = p\n",
        "    self.pokemon_type = \"Needs to be set\"\n",
        "    self.pokemon_weakness = \"Needs to be set\"\n",
        "  def kind(self):\n",
        "    return self.pokemon_type\n",
        "  def weakness(self):\n",
        "    return self.pokemon_weakness\n",
        "  def what_am_i(self):\n",
        "    print(\"I am a Pokemon.\")\n",
        "#mycode\n",
        "class Pikachu(Pokemon):\n",
        "  def __init__(self, p=\"Pikachu\"):\n",
        "    super().__init__(p)\n",
        "    self.pokemon_type = \"Electric\"\n",
        "    self.pokemon_weakness = \"Ground\"\n",
        "  def what_am_i(self):\n",
        "    super().what_am_i()\n",
        "    print(f\"I am {self.pokemon}.\")\n",
        "class Charmander(Pokemon):\n",
        "  def __init__(self, p=\"Charmander\"):\n",
        "    super().__init__(p)\n",
        "    self.pokemon_type = \"Fire\"\n",
        "    self.pokemon_weakness = \"Water, Ground and Rock\"\n",
        "  def what_am_i(self):\n",
        "    super().what_am_i()\n",
        "    print(f\"I am {self.pokemon}.\")\n",
        "#end\n",
        "pk1 = Pikachu()\n",
        "print(\"Pokemon:\", pk1.pokemon)\n",
        "print(\"Type:\", pk1.kind())\n",
        "print(\"Weakness:\", pk1.weakness())\n",
        "pk1.what_am_i()\n",
        "print(\"========================\")\n",
        "c1 = Charmander()\n",
        "print(\"Pokemon:\", c1.pokemon)\n",
        "print(\"Type:\", c1.kind())\n",
        "print(\"Weakness:\", c1.weakness())\n",
        "c1.what_am_i()"
      ],
      "metadata": {
        "colab": {
          "base_uri": "https://localhost:8080/"
        },
        "id": "4KnN74-HsGax",
        "outputId": "c8cdbccc-9ee9-48db-8b2c-32e8ad749984"
      },
      "execution_count": null,
      "outputs": [
        {
          "output_type": "stream",
          "name": "stdout",
          "text": [
            "Pokemon: Pickachu\n",
            "Type: Electric\n",
            "Weakness: Ground\n",
            "I am a Pokemon.\n",
            "I am Pickachu.\n",
            "========================\n",
            "Pokemon: Charmander\n",
            "Type: Fire\n",
            "Weakness: Water, Ground and Rock\n",
            "I am a Pokemon.\n",
            "I am Charmander.\n"
          ]
        }
      ]
    },
    {
      "cell_type": "markdown",
      "source": [
        "#Task 10"
      ],
      "metadata": {
        "id": "K0WaUIr5xDP6"
      }
    },
    {
      "cell_type": "code",
      "source": [
        "class Department:\n",
        "  def __init__(self, s):\n",
        "    self.semester = s\n",
        "    self.name = \"Default\"\n",
        "    self.id = -1\n",
        "  def student_info(self):\n",
        "    print(\"Name:\", self.name)\n",
        "    print(\"ID:\", self.id)\n",
        "  def courses(self, c1, c2, c3):\n",
        "    print(\"No courses Approved yet!\")\n",
        "\n",
        "#mycode\n",
        "class CSE(Department):\n",
        "  def __init__(self, name, id, s):\n",
        "    super().__init__(s)\n",
        "    self.name = name\n",
        "    self.id = id\n",
        "  def courses(self, c1, c2, c3):\n",
        "    print(f\"Courses Approved to this CSE student in {self.semester} semester :\\n{c1}\\n{c2}\\n{c3}\")\n",
        "class EEE(Department):\n",
        "  def __init__(self, name, id, s):\n",
        "    super().__init__(s)\n",
        "    self.name = name\n",
        "    self.id = id\n",
        "  def courses(self, c1, c2, c3):\n",
        "    print(f\"Courses Approved to this EEE student in {self.semester} semester :\\n{c1}\\n{c2}\\n{c3}\")\n",
        "#mycode end\n",
        "\n",
        "s1 = CSE(\"Rahim\", 16101328,\"Spring2016\")\n",
        "s1.student_info()\n",
        "s1.courses(\"CSE110\", \"MAT110\", \"ENG101\")\n",
        "print(\"==================\")\n",
        "s2 = EEE(\"Tanzim\", 18101326, \"Spring2018\")\n",
        "s2.student_info()\n",
        "s2.courses(\"Mat110\", \"PHY111\", \"ENG101\")\n",
        "print(\"==================\")\n",
        "s3 = CSE(\"Rudana\", 18101326, \"Fall2017\")\n",
        "s3.student_info()\n",
        "s3.courses(\"CSE111\", \"PHY101\", \"MAT120\")\n",
        "print(\"==================\")\n",
        "s4 = EEE(\"Zainab\", 19201623, \"Summer2019\")\n",
        "s4.student_info()\n",
        "s4.courses(\"EEE201\", \"PHY112\", \"MAT120\")"
      ],
      "metadata": {
        "colab": {
          "base_uri": "https://localhost:8080/"
        },
        "id": "oKlzPpOmxFLv",
        "outputId": "40ef1059-2487-4d82-98eb-c727ecd19c81"
      },
      "execution_count": null,
      "outputs": [
        {
          "output_type": "stream",
          "name": "stdout",
          "text": [
            "Name: Rahim\n",
            "ID: 16101328\n",
            "Courses Approved to this CSE student in Spring2016 semester :\n",
            "CSE110\n",
            "MAT110\n",
            "ENG101\n",
            "==================\n",
            "Name: Tanzim\n",
            "ID: 18101326\n",
            "Courses Approved to this EEE student in Spring2018 semester :\n",
            "Mat110\n",
            "PHY111\n",
            "ENG101\n",
            "==================\n",
            "Name: Rudana\n",
            "ID: 18101326\n",
            "Courses Approved to this CSE student in Fall2017 semester :\n",
            "CSE111\n",
            "PHY101\n",
            "MAT120\n",
            "==================\n",
            "Name: Zainab\n",
            "ID: 19201623\n",
            "Courses Approved to this EEE student in Summer2019 semester :\n",
            "EEE201\n",
            "PHY112\n",
            "MAT120\n"
          ]
        }
      ]
    },
    {
      "cell_type": "markdown",
      "source": [
        "#Task 11"
      ],
      "metadata": {
        "id": "lRUOuZAB0DR8"
      }
    },
    {
      "cell_type": "code",
      "source": [
        "class A:\n",
        "  def __init__(self):\n",
        "    self.temp = 4\n",
        "    self.sum = 1\n",
        "    self.y = 2\n",
        "    self.y = self.temp - 2\n",
        "    self.sum = self.temp + 3\n",
        "    self.temp -= 2\n",
        "  def methodA(self, m,  n):\n",
        "    x = 0\n",
        "    self.y = self.y + m + self.temp\n",
        "    self.temp += 1\n",
        "    x = x + 2 + n\n",
        "    self.sum = self.sum + x + self.y\n",
        "    print(x, self.y, self.sum)\n",
        "        \n",
        "class B(A):\n",
        "  def __init__(self, b=None):\n",
        "    super().__init__()\n",
        "    self.x = 1\n",
        "    self.sum = 2\n",
        "    if b == None:\n",
        "      self.y = self.temp + 3\n",
        "      self.sum = 3 + self.temp + 2\n",
        "      self.temp -= 1\n",
        "    else:\n",
        "      self.sum = b.sum\n",
        "      self.x = b.x\n",
        "  def methodB(self, m,  n):\n",
        "    y = 0\n",
        "    y = y + self.y\n",
        "    self.x = y + 2 + self.temp\n",
        "    self.methodA(self.x, y)\n",
        "    self.sum = self.x + y + self.sum\n",
        "    print(self.x, y, self.sum)\n",
        "\n",
        "a1 = A()\n",
        "b1 = B()\n",
        "b2 = B(b1)\n",
        "a1.methodA(1, 1)\n",
        "b1.methodA(1, 2)\n",
        "b2.methodB(3, 2)"
      ],
      "metadata": {
        "colab": {
          "base_uri": "https://localhost:8080/"
        },
        "id": "wn56uBu60E_l",
        "outputId": "011f8944-a343-4b4a-d38f-c023c6d94510"
      },
      "execution_count": null,
      "outputs": [
        {
          "output_type": "stream",
          "name": "stdout",
          "text": [
            "3 5 15\n",
            "4 7 18\n",
            "4 10 21\n",
            "6 2 29\n"
          ]
        }
      ]
    },
    {
      "cell_type": "markdown",
      "source": [
        "#Task 12"
      ],
      "metadata": {
        "id": "fKPpEnEn0p87"
      }
    },
    {
      "cell_type": "code",
      "source": [
        "class A:\n",
        "  temp = 4\n",
        "  def __init__(self):\n",
        "    self.sum = 0\n",
        "    self.y = 0\n",
        "    self.y = A.temp - 2\n",
        "    self.sum = A.temp + 1\n",
        "    A.temp -= 2\n",
        "  def methodA(self, m,  n):\n",
        "    x = 0\n",
        "    self.y = self.y + m + (A.temp)\n",
        "    A.temp += 1\n",
        "    x = x + 1 + n\n",
        "    self.sum = self.sum + x + self.y\n",
        "    print(x, self.y, self.sum)\n",
        "\n",
        "class B(A):\n",
        "  x = 0\n",
        "  def __init__(self,b=None):\n",
        "    super().__init__()\n",
        "    self.sum = 0\n",
        "    if b==None:\n",
        "      self.y = A.temp + 3\n",
        "      self.sum = 3 + A.temp + 2\n",
        "      A.temp -= 2\n",
        "    else:\n",
        "      self.sum = b.sum\n",
        "      B.x = b.x\n",
        "      b.methodB(2, 3)\n",
        "  def methodB(self, m,  n):\n",
        "    y = 0\n",
        "    y = y + self.y\n",
        "    B.x = self.y + 2 + A.temp\n",
        "    self.methodA(B.x, y)\n",
        "    self.sum = B.x + y + self.sum\n",
        "    print(B.x, y, self.sum)\n",
        "\n",
        "a1 = A()\n",
        "b1 = B()\n",
        "b2 = B(b1)\n",
        "b1.methodA(1, 2)\n",
        "b2.methodB(3, 2)"
      ],
      "metadata": {
        "colab": {
          "base_uri": "https://localhost:8080/"
        },
        "id": "RZPjC_vn1BRj",
        "outputId": "6dc6a684-2a89-45e7-988e-70d397b60e52"
      },
      "execution_count": null,
      "outputs": [
        {
          "output_type": "stream",
          "name": "stdout",
          "text": [
            "4 0 9\n",
            "1 3 13\n",
            "3 -2 14\n",
            "-3 -10 -8\n",
            "-4 -4 -16\n"
          ]
        }
      ]
    },
    {
      "cell_type": "markdown",
      "source": [
        "#Task 13"
      ],
      "metadata": {
        "id": "GQG_lBEN1Yrr"
      }
    },
    {
      "cell_type": "code",
      "source": [
        "class A:\n",
        "  temp = 3\n",
        "  def __init__(self):\n",
        "    self.sum = 0\n",
        "    self.y = 0\n",
        "    self.y = A.temp - 1\n",
        "    self.sum = A.temp + 2\n",
        "    A.temp -= 2\n",
        "  \n",
        "  def methodA(self, m, n):\n",
        "    x = 0\n",
        "    n[0] += 1\n",
        "    self.y = self.y + m + A.temp\n",
        "    A.temp += 1\n",
        "    x = x + 2 + n[0]\n",
        "    n[0] = self.sum + 2\n",
        "    print(f\"{x} {self.y} {self.sum}\")\n",
        " \n",
        "class B(A):\n",
        "  x = 1\n",
        "  def __init__(self, b = None):\n",
        "    super().__init__()\n",
        "    self.sum = 2\n",
        "    if b == None:  \n",
        "      self.y = self.temp + 1    \n",
        "      B.x = 3 + A.temp + self.x\n",
        "      A.temp -= 2\n",
        "    else:\n",
        "      self.sum = self.sum + self.sum\n",
        "      B.x = b.x + self.x\n",
        "  def methodB(self, m, n):\n",
        "    y = [0]\n",
        "    self.y = y[0] + self.y + m\n",
        "    B.x = self.y + 2 +  self.temp - n\n",
        "    self.methodA(self.x, y)\n",
        "    self.sum = self.x + y[0] + self.sum\n",
        "    print(f\"{self.x} {y[0]} {self.sum}\")\n",
        "\n",
        "x = [23]\n",
        "a1 = A()\n",
        "b1 = B()\n",
        "b2 = B(b1)\n",
        "a1.methodA(1, x)\n",
        "b2.methodB(3, 2)\n",
        "a1.methodA(1, x)"
      ],
      "metadata": {
        "colab": {
          "base_uri": "https://localhost:8080/"
        },
        "id": "I7ZKP8DZ1d9_",
        "outputId": "8cc49962-d36a-4b66-9e51-44d15e8f1184"
      },
      "execution_count": 1,
      "outputs": [
        {
          "output_type": "stream",
          "name": "stdout",
          "text": [
            "26 -2 5\n",
            "3 -10 4\n",
            "-5 6 5\n",
            "10 -4 5\n"
          ]
        }
      ]
    },
    {
      "cell_type": "code",
      "source": [
        "class H:\n",
        "  t = 22\n",
        "  def __init__(self):\n",
        "    H.t -= 2\n",
        "    print(H.t)\n",
        "\n",
        "a = H()\n",
        "b = H()"
      ],
      "metadata": {
        "colab": {
          "base_uri": "https://localhost:8080/"
        },
        "id": "FpLrvaObg5IH",
        "outputId": "b991e029-7c07-402d-873a-8a253e79d4a3"
      },
      "execution_count": null,
      "outputs": [
        {
          "output_type": "stream",
          "name": "stdout",
          "text": [
            "20\n",
            "18\n"
          ]
        }
      ]
    },
    {
      "cell_type": "markdown",
      "source": [
        "#Task 14"
      ],
      "metadata": {
        "id": "DXcOLk4V1oaD"
      }
    },
    {
      "cell_type": "code",
      "source": [
        "class A:\n",
        "  temp = 7\n",
        "  def __init__(self):\n",
        "    self.sum, self.y = 0, 0\n",
        "    self.y = A.temp - 1\n",
        "    self.sum = A.temp + 2\n",
        "    A.temp -= 3\n",
        "  def methodA(self, m, n):\n",
        "    x = 4\n",
        "    n[0] += 1\n",
        "    self.y = self.y + m + A.temp\n",
        "    A.temp += 2\n",
        "    x = x + 3 + n[0]\n",
        "    n[0] = self.sum + 2\n",
        "    print(f\"{x} {self.y} {self.sum}\")\n",
        "  def get_A_sum(self):\n",
        "    return self.sum\n",
        "  def update_A_y(self, val):\n",
        "    self.y = val\n",
        "class B(A):\n",
        "  x = 2\n",
        "  def __init__(self, b = None):\n",
        "    super().__init__()\n",
        "    self.sum = 2\n",
        "    if b == None:  \n",
        "      self.y = self.temp + 1    \n",
        "      B.x = 4 + A.temp + self.x\n",
        "      A.temp -= 2\n",
        "    else:\n",
        "      self.sum = self.sum + self.get_A_sum()\n",
        "      B.x = b.x + self.x\n",
        "  def methodB(self, m, n):\n",
        "    y = [0]\n",
        "    self.update_A_y(y[0] + self.y + m)\n",
        "    B.x = self.y + 4 +  self.temp - n\n",
        "    self.methodA(self.x, y)\n",
        "    self.sum = self.x + y[0] + self.get_A_sum()\n",
        "    print(f\"{self.x} {y[0]} {self.sum}\")\n",
        "\n",
        "x = [32]\n",
        "a1 = A()\n",
        "b1 = B()\n",
        "b2 = B(b1)\n",
        "a1.methodA(2, x)\n",
        "b2.methodB(2, 3)\n",
        "a1.methodA(3, x)"
      ],
      "metadata": {
        "colab": {
          "base_uri": "https://localhost:8080/"
        },
        "id": "Vc4cKvAz1qsz",
        "outputId": "7f8b9a95-b1ed-4cec-e05a-a4b48902e085"
      },
      "execution_count": null,
      "outputs": [
        {
          "output_type": "stream",
          "name": "stdout",
          "text": [
            "40 4 9\n",
            "8 -3 4\n",
            "-1 6 9\n",
            "19 7 9\n"
          ]
        }
      ]
    }
  ]
}