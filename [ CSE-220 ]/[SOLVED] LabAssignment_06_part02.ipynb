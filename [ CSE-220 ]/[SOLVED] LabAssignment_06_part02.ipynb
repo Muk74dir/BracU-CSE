{
  "nbformat": 4,
  "nbformat_minor": 0,
  "metadata": {
    "colab": {
      "provenance": []
    },
    "kernelspec": {
      "name": "python3",
      "display_name": "Python 3"
    },
    "language_info": {
      "name": "python"
    }
  },
  "cells": [
    {
      "cell_type": "markdown",
      "source": [
        "#Lab File 2\n",
        "Task 1:\n",
        "Complete the recursive function flattenList which will take a nested python list and an empty list\n",
        "as parameters. The function should convert the nested list into a new flat list sequentially. Check\n",
        "the input-output to understand the sequence pattern.\n",
        "\n",
        "\n",
        "def flattenList(given_list, output_list):\n",
        "given_list = [1, [2, [3, [4], 5], 6], 7, 8, [9, [[10, 11], 12], 13], 14, [15, [16, [17]]]]\n",
        "\n",
        "\n",
        "output_list = flattenList(given_list, []) # Initial empty list is sent for update\n",
        "\n",
        "\n",
        "output_list = [1, 2, 3, 4, 5, 6, 7, 8, 9, 10, 11, 12, 13, 14, 15, 16, 17]\n",
        "\n",
        "\n",
        "Your code must work for any depth of the nested linked list. You can not use any loop in the\n",
        "function. You can use built-in functions like append, type, etc.\n"
      ],
      "metadata": {
        "id": "3v6hHbkeiigy"
      }
    },
    {
      "cell_type": "code",
      "execution_count": 1,
      "metadata": {
        "colab": {
          "base_uri": "https://localhost:8080/"
        },
        "id": "bCDrTbJgiXV-",
        "outputId": "342e1b93-b17a-42d2-fcf6-5d0c6a0aae74"
      },
      "outputs": [
        {
          "output_type": "stream",
          "name": "stdout",
          "text": [
            "[1, 2, 3, 4, 5, 6, 7, 8, 9, 10, 11, 12, 13, 14, 15, 16, 17]\n"
          ]
        }
      ],
      "source": [
        "def flattenList(given_list,output_list=[]):\n",
        "    if given_list==[]:\n",
        "       return\n",
        "    elif type(given_list[0])!=list:\n",
        "       output_list.append(given_list[0])\n",
        "    else:\n",
        "       flattenList(given_list[0],output_list)\n",
        "    flattenList(given_list[1:],output_list)\n",
        "    return output_list\n",
        "\n",
        "given_list = [1, [2, [3, [4], 5], 6], 7, 8, [9, [[10, 11], 12], 13], 14, [15, [16, [17]]]]\n",
        "print(flattenList(given_list,[]))"
      ]
    }
  ]
}