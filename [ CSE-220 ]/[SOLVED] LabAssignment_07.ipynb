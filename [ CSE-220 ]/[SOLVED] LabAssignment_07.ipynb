{
  "nbformat": 4,
  "nbformat_minor": 0,
  "metadata": {
    "colab": {
      "provenance": []
    },
    "kernelspec": {
      "name": "python3",
      "display_name": "Python 3"
    },
    "language_info": {
      "name": "python"
    }
  },
  "cells": [
    {
      "cell_type": "markdown",
      "source": [
        "##Task 1 : Key index Searching & Sorting"
      ],
      "metadata": {
        "id": "JzNEt04l01iv"
      }
    },
    {
      "cell_type": "code",
      "execution_count": null,
      "metadata": {
        "colab": {
          "base_uri": "https://localhost:8080/"
        },
        "id": "5PxMD870YN9H",
        "outputId": "e3d90111-bc1f-4e68-9b0b-5a41c6c2d64e"
      },
      "outputs": [
        {
          "output_type": "stream",
          "name": "stdout",
          "text": [
            "[1, 0, 0, 1, 0, 0, 1, 0, 0, 1, 0, 1]\n",
            "False\n",
            "[-5, -2, 1, 4, 6]\n"
          ]
        }
      ],
      "source": [
        "class KeyIndex:\n",
        "    def __init__ (self, array):\n",
        "        self.maxi = max(array)\n",
        "        self.mini = min(array)\n",
        "        self.len = self.maxi + 1\n",
        "\n",
        "        if self.mini < 0:\n",
        "            self.extra = abs(self.mini)\n",
        "            self.len = self.maxi + 1 + self.extra\n",
        "            for i in range(len(array)):\n",
        "                array[i] += self.extra\n",
        "                \n",
        "        self.auxArray = [0]*self.len\n",
        "\n",
        "        for i in range ( len(array) ):\n",
        "            self.auxArray[array[i]] = 1\n",
        "\n",
        "    def search (self, x):\n",
        "        new_x = x\n",
        "        if self.mini < 0 : \n",
        "            new_x = x + self.extra\n",
        "\n",
        "        if new_x >= self.len or new_x <= self.mini: \n",
        "            return False \n",
        "\n",
        "        if self.auxArray[new_x] == 1:\n",
        "            return True\n",
        "        else:\n",
        "            return False\n",
        "\n",
        "    def sort (self):\n",
        "        self.sorted = []\n",
        "        for i in range(self.len):\n",
        "            if(self.auxArray[i] == 1):\n",
        "                if self.mini < 0 :\n",
        "                    self.sorted.append(i - self.extra)\n",
        "                else:\n",
        "                    self.sorted.append(i)\n",
        "        return self.sorted\n",
        "\n",
        "\n",
        "array = [-2, 4, -5, 6, 1]\n",
        "k = KeyIndex(array)\n",
        "print(k.auxArray)\n",
        "print(k.search(5))\n",
        "print(k.sort())"
      ]
    },
    {
      "cell_type": "markdown",
      "source": [
        "##Task 2 : Hashing Function"
      ],
      "metadata": {
        "id": "ZGDTLzCc12jt"
      }
    },
    {
      "cell_type": "code",
      "source": [
        "def hashindex(string):\n",
        "    vowel = \"AEIOU\"\n",
        "    for i in string: \n",
        "        conscnt = sum([1 for i in string if i not in vowel and ord(i)] )\n",
        "        digicnt = sum(int(x) for x in string if x.isdigit())\n",
        "    index = (conscnt * 24 + digicnt) % 9\n",
        "    return index\n",
        "\n",
        "def collision(string, index):\n",
        "    idx = 0\n",
        "    while index in hash:\n",
        "        index = (hashindex(string) + idx) % 9\n",
        "        idx += 1\n",
        "    return index\n",
        "\n",
        "def hashfunction(string):\n",
        "    index = hashindex(string)\n",
        "    if index in hash:\n",
        "        new_index = collision(string, index)\n",
        "        hash[new_index] = string\n",
        "    else:\n",
        "        hash[index] = string\n",
        "\n",
        "\n",
        "hash = {}\n",
        "input = [\"ST1E89B8A32\", \"Q2M6P4T5\", \"J9R8F2\", \"J9R8F2\", \"J9R8F2\", \"ST1E89B8A32\"]\n",
        "for string in input:\n",
        "    hashfunction(string)\n",
        "\n",
        "print(hash)"
      ],
      "metadata": {
        "colab": {
          "base_uri": "https://localhost:8080/"
        },
        "id": "gUpXCKaxQEye",
        "outputId": "2c2ecb2d-a4a3-4e11-9e19-d9ca069cb81c"
      },
      "execution_count": 108,
      "outputs": [
        {
          "output_type": "stream",
          "name": "stdout",
          "text": [
            "{4: 'ST1E89B8A32', 2: 'Q2M6P4T5', 1: 'J9R8F2', 3: 'J9R8F2', 5: 'J9R8F2', 6: 'ST1E89B8A32'}\n"
          ]
        }
      ]
    }
  ]
}