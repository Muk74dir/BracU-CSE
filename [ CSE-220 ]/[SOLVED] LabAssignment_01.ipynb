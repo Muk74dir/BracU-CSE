{
 "cells": [
  {
   "cell_type": "markdown",
   "metadata": {
    "id": "lJl5kEU9s6VF"
   },
   "source": [
    "**Instructions to Follow (Failing to follow these will result mark penalties).**\n",
    "\n",
    "\n",
    "1.   You can not use any built-in function except len()\n",
    "2.   You can not use any other python collections except list (e.g: tuptle, dictionaries etc.)\n",
    "3. If you need to initialize a new array using python list, you must mention the fixed size during initialization. There might be two approach. However, initializing new array in this lab is not mandatory.\n",
    "\n",
    "  i. arr = [None] * 10 #Initializing an array length 10 with values None.\n",
    "\n",
    "  ii. arr = [10, 20, 30, 40] #Initializing an array length 4 with the values.\n",
    "\n",
    "\n",
    "\n",
    "\n"
   ]
  },
  {
   "cell_type": "code",
   "execution_count": 2,
   "metadata": {
    "colab": {
     "base_uri": "https://localhost:8080/"
    },
    "id": "nAE3YxgdLMa1",
    "outputId": "3e57f84d-324f-412a-80a7-ab1c54015f67"
   },
   "outputs": [
    {
     "name": "stdout",
     "output_type": "stream",
     "text": [
      "Requirement already satisfied: fhm-unittest in c:\\programdata\\anaconda3\\lib\\site-packages (1.0.0)\n",
      "Requirement already satisfied: fuzzywuzzy in c:\\programdata\\anaconda3\\lib\\site-packages (0.18.0)\n"
     ]
    }
   ],
   "source": [
    "# You must run this cell to install dependency\n",
    "! pip3 install fhm-unittest\n",
    "! pip3 install fuzzywuzzy\n",
    "import fhm_unittest as unittest"
   ]
  },
  {
   "cell_type": "code",
   "execution_count": 5,
   "metadata": {
    "id": "tnfvwKtmypPi"
   },
   "outputs": [],
   "source": [
    "# Complete the functions defined in this cell\n",
    "\n",
    "# Test 01: Shift Left k cell\n",
    "def shift_left(source, k):\n",
    "  # TO DO\n",
    "  # Hint, You can write a function for left shift once and then use it\n",
    "    l = len(source)\n",
    "    for _ in range(k):\n",
    "        for i in range(0, l-1):\n",
    "            source[i] = source[i+1]\n",
    "        source[l-1] = 0\n",
    "    return source\n",
    "\n",
    "\n",
    "\n",
    "# Test 02: Rotate Left k cell\n",
    "def rotate_left(source, k):\n",
    "    l = len(source)\n",
    "    for _ in range(k):\n",
    "        temp = source[0]\n",
    "        for i in range(0, l-1):\n",
    "            source[i] = source[i+1]\n",
    "        source[l-1] = temp\n",
    "    return source\n",
    "\n",
    "\n",
    "# Test 03: Shift Right k cell\n",
    "def shift_right(source, k):\n",
    "    l = len(source)\n",
    "    for _ in range (k):\n",
    "        for i in range(l-1, 0, -1):\n",
    "            source[i] = source[i-1]\n",
    "        source[0] = 0\n",
    "    return source\n",
    "\n",
    "\n",
    "\n",
    "# Test 04: Rotate Right k cell\n",
    "def rotate_right(source, k):\n",
    "    l = len(source)\n",
    "    for _ in range (k):\n",
    "        temp = source[l-1]\n",
    "        for i in range(l-1, 0, -1):\n",
    "            source[i] = source[i-1]\n",
    "        source[0] = temp\n",
    "    return source\n",
    "\n",
    "\n",
    "# Test 05: Remove an element from an array\n",
    "def remove(source, idx):\n",
    "    l = len(source)\n",
    "    for i in range(idx, l-1):\n",
    "        source[i] = source[i+1]\n",
    "    return source\n",
    "\n",
    "\n",
    "\n",
    "\n",
    "# Test 06: Remove all occurrences of a particular element from an array\n",
    "def remove_all(source, element):\n",
    "    l = len(source)\n",
    "    for i in range(l):\n",
    "        if(source[i] == element):\n",
    "            for j in range(i+1, l):\n",
    "                if(source[j] != element):\n",
    "                    source[i] = source[j]\n",
    "                    source[j] = element\n",
    "                    break\n",
    "    for j in range(len(source)):\n",
    "        if(source[j] == element):\n",
    "            source[j] = 0\n",
    "    return source\n",
    "\n",
    "\n",
    "\n",
    "# Test 07: Splitting an Array\n",
    "\n",
    "\n",
    "\n",
    "# Test 08: Max Bunch Count\n",
    "def max_bunch(a):\n",
    "    l = len(a)\n",
    "    cnt = 1\n",
    "    i = 0\n",
    "    while(i < l-1):\n",
    "        if(a[i] == a[i+1]):\n",
    "            cnt += 1\n",
    "        else:\n",
    "            cnt = 1\n",
    "        i +=1\n",
    "    return cnt\n"
   ]
  },
  {
   "cell_type": "code",
   "execution_count": 21,
   "metadata": {},
   "outputs": [
    {
     "name": "stdout",
     "output_type": "stream",
     "text": [
      "///  Test 07: Splitting an Array  ///\n",
      "True\n"
     ]
    }
   ],
   "source": [
    "print(\"///  Test 07: Splitting an Array  ///\")\n",
    "test_1 = [9, 11, 5, 3] \n",
    "\n",
    "\n",
    "def split_array(a):\n",
    "    s = 0\n",
    "    for i in range(len(a)):\n",
    "        s += a[i]\n",
    "    if(s%2 != 0):\n",
    "        return False\n",
    "    else:\n",
    "        return True\n",
    "    \n",
    "\n",
    "print(split_array(test_1))"
   ]
  },
  {
   "cell_type": "code",
   "execution_count": 7,
   "metadata": {
    "colab": {
     "base_uri": "https://localhost:8080/"
    },
    "id": "mrxIQ5rBhzPj",
    "outputId": "dcf9edde-8a55-4d40-cf92-339477ec1baa"
   },
   "outputs": [
    {
     "name": "stdout",
     "output_type": "stream",
     "text": [
      "///  Test 01: Shift Left k cell  ///\n",
      "Accepted\n",
      "///  Test 02: Rotate Left k cell  ///\n",
      "Accepted\n",
      "///  Test 03: Shift Right k cell  ///\n",
      "Accepted\n",
      "///  Test 04: Rotate Right k cell  ///\n",
      "Accepted\n",
      "///  Test 05: Remove an element from an array  ///\n",
      "Accepted\n",
      "///  Test 06: Remove all occurrences of a particular element from an array  ///\n",
      "Accepted\n",
      "///  Test 07: Splitting an Array  ///\n",
      "Accepted\n",
      "Accepted\n",
      "Accepted\n",
      "///  Test 08: Max Bunch Count  ///\n",
      "Accepted\n",
      "Accepted\n"
     ]
    }
   ],
   "source": [
    "# This cell is the driver code\n",
    "# Run this cell after completion of above function.\n",
    "# You will see the status Accepted after completion if your code is correct.\n",
    "# If your function is wrong you will see wrong[correction percentage]\n",
    "# This is call unit testing if you are wondering the checking approach\n",
    "# No need to write or change any code here\n",
    "\n",
    "print(\"///  Test 01: Shift Left k cell  ///\")\n",
    "source = [10,20,30,40,50,60]\n",
    "returned_value = shift_left(source, 3) # This should return [40, 50, 60, 0, 0, 0]\n",
    "unittest.output_test(returned_value, [40, 50, 60, 0, 0, 0])\n",
    "\n",
    "\n",
    "print(\"///  Test 02: Rotate Left k cell  ///\")\n",
    "source = [10,20,30,40,50,60]\n",
    "returned_value = rotate_left(source, 3) # This should return [40, 50, 60, 10, 20, 30]\n",
    "unittest.output_test(returned_value, [40, 50, 60, 10, 20, 30])\n",
    "\n",
    "\n",
    "print(\"///  Test 03: Shift Right k cell  ///\")\n",
    "source = [10,20,30,40,50,60]\n",
    "returned_value = shift_right(source, 3) # This should return [0, 0, 0, 10, 20, 30]\n",
    "unittest.output_test(returned_value, [0, 0, 0, 10, 20, 30])\n",
    "\n",
    "\n",
    "print(\"///  Test 04: Rotate Right k cell  ///\")\n",
    "source = [10,20,30,40,50,60]\n",
    "returned_value = rotate_right(source, 3) # This should return [40, 50, 60, 10, 20, 30]\n",
    "unittest.output_test(returned_value, [40, 50, 60, 10, 20, 30])\n",
    "\n",
    "\n",
    "print(\"///  Test 05: Remove an element from an array  ///\")\n",
    "source = [10,20,30,40,50,0,0]\n",
    "returned_value = remove(source, 2) # This should return [10, 20, 40, 50, 0, 0, 0]\n",
    "unittest.output_test(returned_value, [10, 20, 40, 50, 0, 0, 0])\n",
    "\n",
    "\n",
    "print(\"///  Test 06: Remove all occurrences of a particular element from an array  ///\")\n",
    "source = [10,2,30,2,50,2,2,0,0]\n",
    "returned_value = remove_all(source, 2) # This should return [10, 30, 50, 0, 0, 0, 0, 0, 0]\n",
    "unittest.output_test(returned_value, [10, 30, 50, 0, 0, 0, 0, 0, 0])\n",
    "\n",
    "\n",
    "print(\"///  Test 07: Splitting an Array  ///\")\n",
    "test_1 = [1, 1, 1, 2, 1] # Here splitting is possible as summation of [1, 1, 1] = summation of [2,1]\n",
    "returned_value = split_array(test_1) # This should return True\n",
    "test_2 = [2, 1, 1, 2, 1] # Here splitting is not possible\n",
    "returned_value = split_array(test_2) # This should return False\n",
    "test_3 = [10, 3, 1, 2, 10] # Here splitting is possible as summation of [10, 3] = summation of [1,2,10]\n",
    "returned_value = split_array(test_3) # This should return True\n",
    "unittest.output_test(split_array(test_1), True)\n",
    "unittest.output_test(split_array(test_2), False)\n",
    "unittest.output_test(split_array(test_3), True)\n",
    "\n",
    "\n",
    "print(\"///  Test 08: Max Bunch Count  ///\")\n",
    "returned_value = max_bunch([1, 2, 2, 3, 4, 4, 4]) # This should return 3\n",
    "unittest.output_test(returned_value, 3)\n",
    "returned_value = max_bunch([1, 1, 2, 2, 1, 1, 1, 1]) # This should return 4\n",
    "unittest.output_test(returned_value, 4)\n"
   ]
  },
  {
   "cell_type": "code",
   "execution_count": 24,
   "metadata": {
    "colab": {
     "base_uri": "https://localhost:8080/"
    },
    "id": "F9arf5Z1bziT",
    "outputId": "733acba1-89f4-4e0d-8e99-f5b9054e2c81"
   },
   "outputs": [
    {
     "name": "stdout",
     "output_type": "stream",
     "text": [
      "The mean of the numbers is : 10.1818181818\n",
      "The standard deviation is : 7.96\n",
      "New array : [25, -5]\n"
     ]
    }
   ],
   "source": [
    "# Part 2\n",
    "\n",
    "def mean(source):\n",
    "    sum = 0\n",
    "    for i in range(len(source)):\n",
    "        sum += source[i]\n",
    "    return sum / len(source)\n",
    "\n",
    "def std_div(source):\n",
    "    stdval = 0\n",
    "    for j in range(len(source)):\n",
    "        stdval += (source[j] - mean(source))**2\n",
    "    return ( stdval / (len(source)-1) ) ** 0.5\n",
    "def new_array(source):\n",
    "    temp = []\n",
    "    a = std_div(source) * 1.5\n",
    "    b = mean(source)\n",
    "    for i in source:\n",
    "        if(i< b-a or i> a+b):\n",
    "            temp.append(i)\n",
    "            \n",
    "    if(len(temp) == 0):\n",
    "        return None\n",
    "    else:\n",
    "        return temp\n",
    "\n",
    "source = [10, 8, 13, 9, 14, 25, -5, 20, 7, 7, 4]\n",
    "print(\"The mean of the numbers is :\",\"{:.10f}\".format(mean(source)))\n",
    "print(\"The standard deviation is :\",\"{:.2f}\".format(std_div(source)))\n",
    "print(\"New array :\",new_array(source))"
   ]
  }
 ],
 "metadata": {
  "colab": {
   "provenance": []
  },
  "kernelspec": {
   "display_name": "Python 3 (ipykernel)",
   "language": "python",
   "name": "python3"
  },
  "language_info": {
   "codemirror_mode": {
    "name": "ipython",
    "version": 3
   },
   "file_extension": ".py",
   "mimetype": "text/x-python",
   "name": "python",
   "nbconvert_exporter": "python",
   "pygments_lexer": "ipython3",
   "version": "3.9.7"
  }
 },
 "nbformat": 4,
 "nbformat_minor": 1
}
