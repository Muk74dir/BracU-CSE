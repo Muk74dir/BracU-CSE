{
  "nbformat": 4,
  "nbformat_minor": 0,
  "metadata": {
    "colab": {
      "provenance": []
    },
    "kernelspec": {
      "name": "python3",
      "display_name": "Python 3"
    },
    "language_info": {
      "name": "python"
    }
  },
  "cells": [
    {
      "cell_type": "markdown",
      "source": [
        "#Lab File 1"
      ],
      "metadata": {
        "id": "KVUoBEWKeWRw"
      }
    },
    {
      "cell_type": "markdown",
      "source": [
        "## Task 1\n",
        "a) Implement a recursive algorithm to find factorial of n.   "
      ],
      "metadata": {
        "id": "J5jyQ8u8BZlC"
      }
    },
    {
      "cell_type": "code",
      "execution_count": null,
      "metadata": {
        "colab": {
          "base_uri": "https://localhost:8080/"
        },
        "id": "h_WOvOMzBKAr",
        "outputId": "cf037310-62a4-4f24-dfc3-b205ee48d67d"
      },
      "outputs": [
        {
          "output_type": "stream",
          "name": "stdout",
          "text": [
            "120\n"
          ]
        }
      ],
      "source": [
        "def fact(x):\n",
        "    if x == 1 or x == 0:\n",
        "        return 1\n",
        "    return x * fact(x -1)\n",
        "\n",
        "n = 5\n",
        "print(fact(n))"
      ]
    },
    {
      "cell_type": "markdown",
      "source": [
        "b) Implement a recursive algorithm to find the n-th Fibonacci number."
      ],
      "metadata": {
        "id": "kZKxkm4FCHck"
      }
    },
    {
      "cell_type": "code",
      "source": [
        "def fib (x):\n",
        "    if x == 0:\n",
        "        return 1\n",
        "    elif x == 1:\n",
        "        return 0\n",
        "    return fib(x-1) + fib(x-2)\n",
        "\n",
        "n = 8\n",
        "print(fib(n))"
      ],
      "metadata": {
        "colab": {
          "base_uri": "https://localhost:8080/"
        },
        "id": "MLCdgQkMCLlK",
        "outputId": "7a9288f8-b7c5-4290-b1f2-dc2d70658e61"
      },
      "execution_count": null,
      "outputs": [
        {
          "output_type": "stream",
          "name": "stdout",
          "text": [
            "13\n"
          ]
        }
      ]
    },
    {
      "cell_type": "markdown",
      "source": [
        "c) Print all the elements of a given array recursively.\n"
      ],
      "metadata": {
        "id": "ByPxOupQDt5_"
      }
    },
    {
      "cell_type": "code",
      "source": [
        "arra = [1, 2, 3, 4, 5, 6, 7, 8, 9, 10]\n",
        "l = len(arra)\n",
        "\n",
        "def rev(x):\n",
        "    if len(x) == 0 :\n",
        "        return []\n",
        "    return rev(x[1:]) + [x[0]]\n",
        "\n",
        "print(rev(arra))"
      ],
      "metadata": {
        "colab": {
          "base_uri": "https://localhost:8080/"
        },
        "id": "lguulW3SDx95",
        "outputId": "b1be29c1-ad88-4358-c78c-e96085e6a691"
      },
      "execution_count": null,
      "outputs": [
        {
          "output_type": "stream",
          "name": "stdout",
          "text": [
            "[10, 9, 8, 7, 6, 5, 4, 3, 2, 1]\n"
          ]
        }
      ]
    },
    {
      "cell_type": "markdown",
      "source": [
        "d) Given base and n that are both 1 or more, compute recursively (no loops) the value of base  to the n power, so powerN(3, 2) is 9 (3 squared). \n"
      ],
      "metadata": {
        "id": "E691xxSxI6rq"
      }
    },
    {
      "cell_type": "code",
      "source": [
        "def powerN(x, n):\n",
        "    if(n == 0):\n",
        "        return 1\n",
        "    return x * powerN(x, n-1)\n",
        "\n",
        "print(powerN(3, 3))"
      ],
      "metadata": {
        "colab": {
          "base_uri": "https://localhost:8080/"
        },
        "id": "XSsJCAStI_FR",
        "outputId": "10657b14-f81d-42a0-ff45-e2e2c0175aa4"
      },
      "execution_count": null,
      "outputs": [
        {
          "output_type": "stream",
          "name": "stdout",
          "text": [
            "27\n"
          ]
        }
      ]
    },
    {
      "cell_type": "markdown",
      "source": [
        "##Task 2\n",
        "a) Implement a recursive algorithm that takes a decimal number n and converts n to its corresponding (you may return as a string) binary number."
      ],
      "metadata": {
        "id": "H1Q1414KJo5W"
      }
    },
    {
      "cell_type": "code",
      "source": [
        "def deciToBin(n):\n",
        "    if n == 0: \n",
        "        return \"0\"\n",
        "    if n == 1: \n",
        "        return \"1\"\n",
        "    return deciToBin(n//2) + str(n % 2)\n",
        "n = 18\n",
        "print(deciToBin(n))"
      ],
      "metadata": {
        "colab": {
          "base_uri": "https://localhost:8080/"
        },
        "id": "WBJ5mA6NJsSV",
        "outputId": "dd250a24-178c-4ba0-8cb1-4c0685ddce4e"
      },
      "execution_count": null,
      "outputs": [
        {
          "output_type": "stream",
          "name": "stdout",
          "text": [
            "10010\n"
          ]
        }
      ]
    },
    {
      "cell_type": "markdown",
      "source": [
        "b) Implement a recursive algorithm to add all the elements of a non-dummy headed singly linked linear list. Only head of the list will be given as parameter where you may assume every node can contain only integer as its element.\n",
        "\n",
        "Note: you’ll need a Singly Node class for this code.\n"
      ],
      "metadata": {
        "id": "e1KQW9mGO6gs"
      }
    },
    {
      "cell_type": "code",
      "source": [
        "class Node:\n",
        "    def __init__(self, data):\n",
        "        self.data = data\n",
        "        self.next = None\n",
        "\n",
        "def sum_l1(h):\n",
        "    if h==None:\n",
        "        return 0\n",
        "    else:\n",
        "        return h.data + sum_l1(h.next)\n",
        "\n",
        "h=Node(10)\n",
        "h.next = Node(20)\n",
        "p=h.next\n",
        "p.next = Node(30)\n",
        "v=p.next\n",
        "v.next = Node(40)\n",
        "print(sum_l1(h))"
      ],
      "metadata": {
        "colab": {
          "base_uri": "https://localhost:8080/"
        },
        "id": "9nganxpuhSUc",
        "outputId": "6185c040-e9f3-4700-e2f2-15f5b3f9f394"
      },
      "execution_count": null,
      "outputs": [
        {
          "output_type": "stream",
          "name": "stdout",
          "text": [
            "100\n"
          ]
        }
      ]
    },
    {
      "cell_type": "markdown",
      "source": [
        "c) Implement a recursive algorithm which will print all the elements of a non-dummy headed singly linked linear list in reversed order.\n",
        "Example: if the linked list contains 10, 20, 30 and 40, the method will print\n",
        "\n",
        "40\n",
        "\n",
        "30\n",
        "\n",
        "20\n",
        "\n",
        "10\n",
        "\n",
        "Note: you’ll need a Singly Node class for this code.\n"
      ],
      "metadata": {
        "id": "jfa_MVg8hcVB"
      }
    },
    {
      "cell_type": "code",
      "source": [
        "def print_rev(h):\n",
        "    if h!=None:\n",
        "        print_rev(h.next)\n",
        "        print(h.data)\n",
        "\n",
        "h=Node(10)\n",
        "h.next = Node(20)\n",
        "p=h.next\n",
        "p.next = Node(30)\n",
        "v=p.next\n",
        "v.next = Node(40)\n",
        "print_rev(h)"
      ],
      "metadata": {
        "colab": {
          "base_uri": "https://localhost:8080/"
        },
        "id": "P4_2-TqlO9_f",
        "outputId": "62fdc323-c04e-4cb6-a0df-b9f978871571"
      },
      "execution_count": null,
      "outputs": [
        {
          "output_type": "stream",
          "name": "stdout",
          "text": [
            "40\n",
            "30\n",
            "20\n",
            "10\n"
          ]
        }
      ]
    },
    {
      "cell_type": "markdown",
      "source": [
        "##Task 3  [Medium] [8 Marks] \n",
        "Suppose, you have been given a non-negative integer which is the height of a ‘house of  cards’. To build such a house you at-least require 8 cards. To increase the level (or height)  of that house, you would require four sides and a base for each level. Therefore, for the top  level, you would require 8 cards and for each of the rest of the levels below you would  require 5 extra cards. If you were asked to build level one only, you would require just 8 cards. Of course, the input can be zero; in that case, you do not build a house at all.  Complete the recursive method below to calculate the number of cards required to build  a ‘house of cards’ of specific height given by the parameter."
      ],
      "metadata": {
        "id": "6ilBPNJbXCBd"
      }
    },
    {
      "cell_type": "code",
      "source": [
        "def hocBuilder(height):\n",
        "    if height == 0:\n",
        "        return 0\n",
        "    if height == 1: \n",
        "        return 8\n",
        "    return 5 + hocBuilder(height-1)\n",
        "n = 3\n",
        "print(hocBuilder(n))"
      ],
      "metadata": {
        "colab": {
          "base_uri": "https://localhost:8080/"
        },
        "id": "gcwmVGjVW6AI",
        "outputId": "2ea2f506-9e76-4b5b-fc08-4a153afc74f6"
      },
      "execution_count": null,
      "outputs": [
        {
          "output_type": "stream",
          "name": "stdout",
          "text": [
            "18\n"
          ]
        }
      ]
    },
    {
      "cell_type": "markdown",
      "source": [
        "##Task 4 [Hard] [ 10 + 10 = 20 Marks]\n",
        "a) Print the following pattern for the given input (you must use recursion): \n",
        "\n",
        "Sample Input: 5\n",
        "\n",
        "Sample Output: \n",
        "\n",
        "\n",
        "\n",
        "\n",
        "\n",
        "\n",
        "\n",
        "1\n",
        "\n",
        "\n",
        "\n",
        "\n",
        "\n",
        "\n",
        "1 \n",
        "2\n",
        "\n",
        "\n",
        "\n",
        "\n",
        "1 \n",
        "2 \n",
        "3\n",
        "\n",
        "\n",
        "1 \n",
        "2 \n",
        "3 \n",
        "4\n",
        "\n",
        "\n",
        "1 \n",
        "2 \n",
        "3 \n",
        "4 \n",
        "5\n",
        "\n"
      ],
      "metadata": {
        "id": "K6uB7hpOYzp_"
      }
    },
    {
      "cell_type": "code",
      "source": [
        "def print_row(n):\n",
        "    if n == 0:\n",
        "        return\n",
        "    print_row(n-1)\n",
        "    print(n, end=\" \")\n",
        "\n",
        "def print_pattern(n):\n",
        "    if n == 0:\n",
        "       return\n",
        "    print_pattern(n-1)\n",
        "    print_row(n)\n",
        "    print(\"\")\n",
        "\n",
        "n = 5\n",
        "print_pattern(n)"
      ],
      "metadata": {
        "colab": {
          "base_uri": "https://localhost:8080/"
        },
        "id": "iEVsrZfSaD8R",
        "outputId": "0088eb05-0cec-45fc-d302-26dc1c1cd7cc"
      },
      "execution_count": null,
      "outputs": [
        {
          "output_type": "stream",
          "name": "stdout",
          "text": [
            "1 \n",
            "1 2 \n",
            "1 2 3 \n",
            "1 2 3 4 \n",
            "1 2 3 4 5 \n"
          ]
        }
      ]
    },
    {
      "cell_type": "markdown",
      "source": [
        "b. Print the following pattern for the given input (you must use recursion): \n",
        "\n",
        "Sample Input: 5 \n",
        "\n",
        "\n",
        "Sample Output: "
      ],
      "metadata": {
        "id": "dLM_loCyCjzT"
      }
    },
    {
      "cell_type": "code",
      "source": [
        "def pattern_row(n):\n",
        "    if n== 0:\n",
        "        return 0  \n",
        "    pattern_row(n-1)\n",
        "    print(n, end =\" \")\n",
        "\n",
        "def pattern_col(n, x):\n",
        "    if n == 0:\n",
        "        return 0   \n",
        "    space(n-1)\n",
        "    pattern_row(x-n+1)\n",
        "    print(\"\")\n",
        "    pattern_col(n-1, x) \n",
        "\n",
        "def space(n):\n",
        "    if n==0:\n",
        "        return 0\n",
        "    space(n-1)\n",
        "    print(\" \", end= \" \")\n",
        "\n",
        "n = 5\n",
        "pattern_col(n, n)"
      ],
      "metadata": {
        "colab": {
          "base_uri": "https://localhost:8080/"
        },
        "id": "A1jB5Zi_C7_z",
        "outputId": "f2490efe-4895-44f5-b6ab-da859f73c100"
      },
      "execution_count": null,
      "outputs": [
        {
          "output_type": "stream",
          "name": "stdout",
          "text": [
            "        1 \n",
            "      1 2 \n",
            "    1 2 3 \n",
            "  1 2 3 4 \n",
            "1 2 3 4 5 \n"
          ]
        }
      ]
    },
    {
      "cell_type": "markdown",
      "source": [
        "##Task 5. [Very Hard] [12 Marks] \n",
        "\n",
        "Suppose, you are working in a company ‘X’ where your job is to calculate the profit based  on their investment.  \n",
        "If the company invests 100,000 USD or less, their profit will be based on 75,000 USD as  first 25,000 USD goes to set up the business in the first place. For the first 100,000 USD,  the profit margin is low: 4.5%. Therefore, for every 100 dollar they spend, they get a profit  of 4.5 dollar. \n",
        "For an investment greater than 100,000 USD, for the first 100,000 USD (actually on 75,000  USD as 25,000 is the setup cost), the profit margin is 4.5% where for the rest, it goes up to  8%. For example, if they invest 250,000 USD, they will get an 8% profit for the 150,000  USD. In addition, from the rest 100,000 USD, 25,000 is the setup cost and there will be a  4.5% profit on the rest 75,000. Investment will always be greater or equal to 25,000 and  multiple of 100. \n",
        "Complete the RECURSIVE methods below that take an array of integers (investments)  and an iterator (always sets to ZERO(‘0’) when the method is initially called) and prints  the profit for the corresponding investment. You must avoid loop and multiplication (‘*’)  operator. \n",
        "\n",
        "------------------------------------------------- \n",
        "Output: \n",
        "1. Investment: 25000; Profit: 0.0 \n",
        "2. Investment: 100000; Profit: 3375.0 \n",
        "3. Investment: 250000; Profit: 15375.0 \n",
        "4. Investment: 350000; Profit: 23375.0 \n"
      ],
      "metadata": {
        "id": "16GfKhYqdkgY"
      }
    },
    {
      "cell_type": "code",
      "source": [
        "import sys \n",
        "sys.setrecursionlimit(5000)\n",
        "class FinalQ: \n",
        "  def print(self,array,idx): \n",
        "    if(idx<len(array)): \n",
        "      profit = self.calcProfit(array[idx])  \n",
        "      print(f'{idx+1}. Investment: {array[idx]}; Profit: {profit}')\n",
        "      self.print(array,idx+1) \n",
        "  def calcProfit(self,investment): \n",
        "    if investment==25000:\n",
        "      return 0.0\n",
        "    if investment<=100000:\n",
        "      return 4.5 + self.calcProfit(investment-100)\n",
        "    else:\n",
        "      return 8+self.calcProfit(investment-100)\n",
        "\n",
        "array=[25000,100000,250000,350000] \n",
        "f = FinalQ() \n",
        "f.print(array,0)"
      ],
      "metadata": {
        "colab": {
          "base_uri": "https://localhost:8080/"
        },
        "id": "bt7327zF1U98",
        "outputId": "27c3cf6b-c677-4d39-a34b-66c8d38f1e84"
      },
      "execution_count": null,
      "outputs": [
        {
          "output_type": "stream",
          "name": "stdout",
          "text": [
            "1. Investment: 25000; Profit: 0.0\n",
            "2. Investment: 100000; Profit: 3375.0\n",
            "3. Investment: 250000; Profit: 15375.0\n",
            "4. Investment: 350000; Profit: 23375.0\n"
          ]
        }
      ]
    }
  ]
}