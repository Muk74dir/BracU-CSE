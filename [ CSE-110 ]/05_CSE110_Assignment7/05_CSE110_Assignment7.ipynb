{
 "cells": [
  {
   "cell_type": "code",
   "execution_count": 22,
   "id": "bd3bc43e",
   "metadata": {},
   "outputs": [
    {
     "name": "stdout",
     "output_type": "stream",
     "text": [
      "[1, 2, 2, 3, 5, 6, 10, 11, 12, 14, 15, 17, 18, 20, 29]\n"
     ]
    }
   ],
   "source": [
    "# Task 1\n",
    "\n",
    "my_list = [10,1,20,3,6,2,5,11,15,2,12,14,17,18,29]\n",
    "def bubble_sort(my_list): \n",
    "   for count in range(0,len(my_list)-1): \n",
    "       for index in range(len(my_list)-1): \n",
    "              if(my_list[index]>my_list[index+1]): \n",
    "                    temp = my_list[index]   \n",
    "                    my_list[index] = my_list[index+1]   \n",
    "                    my_list[index+1] = temp  \n",
    "   return my_list\n",
    "\n",
    "print(bubble_sort(my_list))"
   ]
  },
  {
   "cell_type": "code",
   "execution_count": 21,
   "id": "5c088feb",
   "metadata": {},
   "outputs": [
    {
     "name": "stdout",
     "output_type": "stream",
     "text": [
      "[1, 2, 2, 3, 5, 6, 10, 11, 12, 14, 15, 17, 18, 20, 29]\n"
     ]
    }
   ],
   "source": [
    "#TASK 2\n",
    "\n",
    "my_list = [10, 1, 20, 3, 6, 2, 5, 11, 15, 2, 12, 14, 17, 18, 29]\n",
    "for i in range(len(my_list)-1):\n",
    "    val = my_list[i]\n",
    "    ind = i\n",
    "    for j in range(i+1, len(my_list)):\n",
    "        if my_list[j] <= val:\n",
    "            val = my_list[j]\n",
    "            ind = j\n",
    "    temp = val\n",
    "    my_list[ind] = my_list[i]\n",
    "    my_list[i] = temp\n",
    "print(my_list)\n"
   ]
  },
  {
   "cell_type": "code",
   "execution_count": 20,
   "id": "3f738723",
   "metadata": {},
   "outputs": [
    {
     "name": "stdout",
     "output_type": "stream",
     "text": [
      "[29, 20, 18, 17, 15, 14, 12, 11, 10, 6, 5, 3, 2, 2, 1]\n"
     ]
    }
   ],
   "source": [
    "#TASK 3\n",
    "\n",
    "my_list = [10, 1, 20, 3, 6, 2, 5, 11, 15, 2, 12, 14, 17, 18, 29]\n",
    "for i in range(len(my_list)-1):\n",
    "    val = my_list[i]\n",
    "    ind = i\n",
    "    for j in range(i+1, len(my_list)):\n",
    "        if my_list[j] >= val:\n",
    "            val = my_list[j]\n",
    "            ind = j\n",
    "    temp = val\n",
    "    my_list[ind] = my_list[i]\n",
    "    my_list[i] = temp\n",
    "    \n",
    "print(my_list)"
   ]
  },
  {
   "cell_type": "code",
   "execution_count": 19,
   "id": "40e6a9fa",
   "metadata": {},
   "outputs": [
    {
     "name": "stdout",
     "output_type": "stream",
     "text": [
      "[10, 100, 11, 80, 12, 70, 20, 56, 22, 30, 58, 16, 70, 15]\n"
     ]
    }
   ],
   "source": [
    "# TASK 4\n",
    "\n",
    "sitting_list = [10, 30, 20, 70, 11, 15, 22, 16, 58, 100, 12, 56, 70, 80]\n",
    "for i in range(len(sitting_list)-1):\n",
    "    val = sitting_list[i]\n",
    "    ind = i\n",
    "    if i % 2 == 0:\n",
    "        for j in range(i + 1, len(sitting_list)):\n",
    "            if sitting_list[j] <= val and j % 2 == 0:\n",
    "                val = sitting_list[j]\n",
    "                ind = j\n",
    "    else:\n",
    "        for j in range(i + 1, len(sitting_list)):\n",
    "            if sitting_list[j] >= val and j % 2 != 0:\n",
    "                val = sitting_list[j]\n",
    "                ind = j\n",
    "    temp = val\n",
    "    sitting_list[ind] = sitting_list[i]\n",
    "    sitting_list[i] = temp\n",
    "\n",
    "    \n",
    "print(sitting_list)"
   ]
  },
  {
   "cell_type": "code",
   "execution_count": null,
   "id": "cc57a7f2",
   "metadata": {},
   "outputs": [],
   "source": [
    "# TASK 5\n",
    "\n",
    "def shortener(n):\n",
    "    for i in range(len(n)-1):\n",
    "        val = n[i]\n",
    "        ind = i\n",
    "        for j in range(i+1, len(n)):\n",
    "            if n[j] >= val:\n",
    "                val = n[j]\n",
    "                ind = j\n",
    "        temp = val\n",
    "        n[ind] = n[i]\n",
    "        n[i] = temp\n",
    "    return n\n",
    "\n",
    "\n",
    "lst = [[\"Alan\", 95, 87, 91], [\"Turing\", 92, 90, 83], [\"Elon\", 87, 92, 80], [\"Musk\", 85, 94, 90]]\n",
    "inp = input()\n",
    "CSE110 = []\n",
    "PHY111 = []\n",
    "MAT110 = []\n",
    "for i in range(len(lst)):\n",
    "    if inp == \"CSE110\":\n",
    "        CSE110.append(lst[i][1])\n",
    "        result = shortener(CSE110)\n",
    "    elif inp == \"PHY111\":\n",
    "        PHY111.append(lst[i][2])\n",
    "        result = shortener(PHY111)\n",
    "    elif inp == \"MAT110\":\n",
    "        MAT110.append(lst[i][3])\n",
    "        result = shortener(MAT110)\n",
    "\n",
    "for m in range(len(result)):\n",
    "    for n in range(len(lst)):\n",
    "        if result[m] == lst[n][3] and inp == \"MAT110\":\n",
    "            print(lst[n][0])\n",
    "        elif result[m] == lst[n][2] and inp == \"PHY111\":\n",
    "            print(lst[n][0])\n",
    "        elif result[m] == lst[n][1] and inp == \"CSE110\":\n",
    "            print(lst[n][0])"
   ]
  },
  {
   "cell_type": "code",
   "execution_count": 18,
   "id": "a525f8a3",
   "metadata": {},
   "outputs": [
    {
     "name": "stdout",
     "output_type": "stream",
     "text": [
      "4\n"
     ]
    }
   ],
   "source": [
    "# TASK 6\n",
    "\n",
    "counter = 0\n",
    "my_list = [4, 2, 3, 1, 6, 5]\n",
    "newList = [x for x in my_list]\n",
    "for i in range(len(my_list)-1):\n",
    "    val = my_list[i]\n",
    "    ind = i\n",
    "    for j in range(i+1, len(my_list)):\n",
    "        if my_list[j] <= val:\n",
    "            val = my_list[j]\n",
    "            ind = j\n",
    "    temp = val\n",
    "    my_list[ind] = my_list[i]\n",
    "    my_list[i] = temp\n",
    "    \n",
    "for i in range(len(newList)):\n",
    "    if newList[i] != my_list[i]:\n",
    "        counter += 1\n",
    "print(counter)"
   ]
  },
  {
   "cell_type": "code",
   "execution_count": 16,
   "id": "f5af113e",
   "metadata": {},
   "outputs": [
    {
     "name": "stdout",
     "output_type": "stream",
     "text": [
      "[1, 2, 1, 4]\n",
      "[5, 4, 1]\n",
      "Sorted list [1, 1, 1, 2, 4, 4, 5]\n",
      "Median = 2\n"
     ]
    }
   ],
   "source": [
    "# TASK 7\n",
    "\n",
    "def shortener(n):\n",
    "    for i in range(len(n)):\n",
    "        val = int(n[i])\n",
    "        ind = i\n",
    "        for j in range(i+1, len(n)):\n",
    "            if int(n[j]) <= val:\n",
    "                val = int(n[j])\n",
    "                ind = j\n",
    "        temp = val\n",
    "        n[ind] = n[i]\n",
    "        n[i] = temp\n",
    "    return n\n",
    "\n",
    "list_one = input()[1:-1].split(\", \")\n",
    "list_two = input()[1:-1].split(\", \")\n",
    "result = list_one + list_two\n",
    "sort = shortener(result)\n",
    "ind1 = 0\n",
    "ind2 = 0\n",
    "total = len(sort)\n",
    "if total % 2 != 0:\n",
    "    ind = (total // 2)\n",
    "    median = sort[ind]\n",
    "elif total % 2 == 0:\n",
    "    ind1 = (total // 2) - 1\n",
    "    ind2 = (total // 2) \n",
    "    median = (int(sort[ind1]) + int(sort[ind2])) / 2\n",
    "\n",
    "print(\"Sorted list\", sort)\n",
    "print(\"Median =\", median)"
   ]
  },
  {
   "cell_type": "code",
   "execution_count": 2,
   "id": "599222ac",
   "metadata": {},
   "outputs": [
    {
     "name": "stdout",
     "output_type": "stream",
     "text": [
      "list_one = [1, -8, 4, -7, -20, 26, 70, -85]\n",
      "Two pairs which have the smallest sum = 4 and -7\n"
     ]
    }
   ],
   "source": [
    "#  TASK - 8\n",
    "\n",
    "list_one = input(\"list_one = \")\n",
    "list_one = list_one[1:-1].split(', ')\n",
    "min_diff = 9999\n",
    "result = []\n",
    "for count in range(0,len(list_one)):\n",
    "    list_one[count] = int(list_one[count])\n",
    "    flag = 0\n",
    "    for index in range(count+1,len(list_one)):\n",
    "        list_one[index] = int(list_one[index])\n",
    "        if ((list_one[count] + list_one[index]) == 0) :\n",
    "            result = [list_one[count],list_one[index]]\n",
    "            flag = 1\n",
    "            break\n",
    "        else:\n",
    "            temp  = abs(0-(list_one[count]+list_one[index]))\n",
    "            if temp < min_diff:\n",
    "                min_diff = temp\n",
    "                result = [list_one[count],list_one[index]]\n",
    "    if flag==1:\n",
    "        break\n",
    "print(f\"Two pairs which have the smallest sum = {result[0]} and {result[1]}\")"
   ]
  },
  {
   "cell_type": "code",
   "execution_count": 2,
   "id": "c98c8860",
   "metadata": {},
   "outputs": [
    {
     "name": "stdout",
     "output_type": "stream",
     "text": [
      "Minimum distance = 5.0 \n",
      "Here the closest point is (-3, -4) which has a distance of 5.0 from the origin.\n"
     ]
    }
   ],
   "source": [
    "# TASK - 9\n",
    "\n",
    "\n",
    "import math\n",
    "points = [(5,3), (2,9), (-2,7), (-3,-4), (0,6), (7,-2)]\n",
    "def distance(n):\n",
    "    orgn = math.inf\n",
    "    for i in range(len(n)):\n",
    "        sum = math.pow(n[i][0], 2) + math.pow(n[i][1], 2)\n",
    "        result = math.sqrt(abs(sum))\n",
    "        if result <= orgn:\n",
    "            orgn = result\n",
    "            point = n[i]\n",
    "    return orgn, point\n",
    "\n",
    "\n",
    "print(f'Minimum distance = {distance(points)[0]} \\nHere the closest point is {distance(points)[1]} which has a distance of {distance(points)[0]} from the origin.',)\n"
   ]
  }
 ],
 "metadata": {
  "kernelspec": {
   "display_name": "Python 3 (ipykernel)",
   "language": "python",
   "name": "python3"
  },
  "language_info": {
   "codemirror_mode": {
    "name": "ipython",
    "version": 3
   },
   "file_extension": ".py",
   "mimetype": "text/x-python",
   "name": "python",
   "nbconvert_exporter": "python",
   "pygments_lexer": "ipython3",
   "version": "3.9.7"
  }
 },
 "nbformat": 4,
 "nbformat_minor": 5
}
