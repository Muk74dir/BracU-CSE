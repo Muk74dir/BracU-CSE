{
 "cells": [
  {
   "cell_type": "markdown",
   "metadata": {
    "id": "uyPy6C3yGxw7"
   },
   "source": [
    "# CSE110 Lab Assignment 1 (Branching)\n",
    "\n",
    "This assignment is to guide you to solve basic programming problems in Python. Since this is the first assignment, the first problem is solved for you with explanations. The second problem is partially solved to help you. Please go through them and try to understand each statment. If you can understand the problems and the solutions done for you, you can try to solve the rest of the tasks by yourself. \n",
    "\n",
    "**<font color='red'>Please maintain variable naming conventions for all the tasks.</font>**\\\n",
    "<font color='red'>When you run your code, please make sure your outputs exactly match the sample outputs for each of the sample inputs given. Check if your code works for other valid inputs not given in the samples.</font>\n",
    "\n",
    "## Write the Python code for the following problems:\n"
   ]
  },
  {
   "cell_type": "markdown",
   "metadata": {
    "id": "YuyYBntuGxxB"
   },
   "source": [
    "### Task 1\n",
    "\n",
    "Write the Python code of a program that reads two numbers from the user, and prints their sum, product, and difference.\n",
    "\n",
    "==========================================================\n",
    "\n",
    "*Hint: subtract the second number from the first one*\n",
    "\n",
    "==========================================================\n",
    "\n",
    "**Example 1:**\n",
    "\n",
    "**Sample Input:**\\\n",
    " 4\\\n",
    " 5\n",
    "\n",
    "**Sample Output:**\\\n",
    "Sum = 9\\\n",
    "Product = 20\\\n",
    "Difference = -1\n",
    "\n",
    "==========================================================\n",
    "\n",
    "**Example 2:**\n",
    "\n",
    "**Sample Input:**\\\n",
    " 30\\\n",
    " 2\n",
    "\n",
    "**Sample Output:**\\\n",
    "Sum = 32\\\n",
    "Product = 60\\\n",
    "Difference = 28\n",
    "\n",
    "==========================================================\n",
    "\n",
    "For your explanation, the first question's code is done below. Try relating the block of code with the lessons you have learned and try to understand the significance of each line. You're most welcome to play around with the code. This will strengthen your understanding.\n"
   ]
  },
  {
   "cell_type": "code",
   "execution_count": null,
   "metadata": {
    "colab": {
     "base_uri": "https://localhost:8080/"
    },
    "executionInfo": {
     "elapsed": 11605,
     "status": "ok",
     "timestamp": 1644520585865,
     "user": {
      "displayName": "Nabuat Zaman Nahim",
      "photoUrl": "https://lh3.googleusercontent.com/a-/AOh14GilJfaWRPq7daLbF4lvVuz1nI5vlQEwOIlBlGHF=s64",
      "userId": "09382019355754758534"
     },
     "user_tz": -360
    },
    "id": "Nm8cn6LGGxxB",
    "outputId": "2fc44a26-5ef1-4eaa-afad-bebc1a47725e"
   },
   "outputs": [],
   "source": [
    "# First, we take 2 numbers as input from the user\n",
    "# Read 2 numbers as input from the user means taking 2 numbers as input from the user using the input function\n",
    "var_1 = input('Please enter the first number: ')\n",
    "var_2 = input('Please enter the second number: ')\n",
    "\n",
    "#Since input() function converts everything to String,\n",
    "#for performing any kind of mathematical operation we need to convert them to int.\n",
    "#For this conversion, we need to use the int() function\n",
    "\n",
    "\n",
    "#But at first, we may clarify whether the inputs are actually Strings or not. \n",
    "print(type(var_1))\n",
    "print(type(var_2))\n",
    "\n",
    "\n",
    "#Then we convert the Strings to integer using the int() function\n",
    "var_3 = int(var_1)\n",
    "var_4 = int(var_2)\n",
    "\n",
    "#===============================================================\n",
    "#Input taking and conversion can be done in a single line as shown below\n",
    "#var_1 = int(input('Please enter the first number: '))\n",
    "#var_2 = int(input('Please enter the second number: '))\n",
    "\n",
    "#===============================================================\n",
    "\n",
    "#We may then perform Addition\n",
    "total = var_3 + var_4\n",
    "\n",
    "#Multiplication \n",
    "product = var_3 * var_4\n",
    "\n",
    "#Substraction \n",
    "difference = var_3 - var_4\n",
    "\n",
    "#And then print all the calculated results\n",
    "print(\"Sum =\", total)\n",
    "print(\"Product =\", product)\n",
    "print(\"Difference =\", difference)\n"
   ]
  },
  {
   "cell_type": "markdown",
   "metadata": {
    "id": "RsWYzW1HGxxM"
   },
   "source": [
    "### Task 2\n",
    "\n",
    "Write the Python code of a program that reads the radius of a circle and prints its circumference and area.\n",
    "\n",
    "==========================================================\n",
    "\n",
    "*hint(1): we may import math and then use **math.pi** for getting the value of pi.\\\n",
    "For details, we can read from https://docs.python.org/3/library/math.html*\n",
    "\n",
    "*hint(2): we can import math and use the math function for making squares with math.pow(number, power) or we can simply use the power operator. For example:  S**2.*\n",
    "\n",
    "==========================================================\n",
    "\n",
    "**Example 1:**\n",
    "\n",
    "**Sample Input:**\\\n",
    "4\n",
    "\n",
    "**Sample Output:**\\\n",
    "Area is 50.26548245743669\\\n",
    "Circumference is 25.132741228718345\n",
    "\n",
    "==========================================================\n",
    "\n",
    "**Example 2:**\n",
    "\n",
    "**Sample Input:**\\\n",
    "3.5\n",
    "\n",
    "**Sample Output:**\\\n",
    "Area is 38.48451000647496\\\n",
    "Circumference is 21.991148575128552\n",
    "\n",
    "==========================================================\n",
    "\n",
    "For your understanding, the the first part of the question(area calculation) is done below."
   ]
  },
  {
   "cell_type": "code",
   "execution_count": null,
   "metadata": {
    "colab": {
     "base_uri": "https://localhost:8080/"
    },
    "executionInfo": {
     "elapsed": 8967,
     "status": "ok",
     "timestamp": 1644521162329,
     "user": {
      "displayName": "Nabuat Zaman Nahim",
      "photoUrl": "https://lh3.googleusercontent.com/a-/AOh14GilJfaWRPq7daLbF4lvVuz1nI5vlQEwOIlBlGHF=s64",
      "userId": "09382019355754758534"
     },
     "user_tz": -360
    },
    "id": "CsvW0BrsGxxM",
    "outputId": "a386c150-fbec-47f5-c92c-49b854c6eb24",
    "scrolled": true
   },
   "outputs": [],
   "source": [
    "import math \n",
    "\n",
    "# taking input from the user, then converting it to float\n",
    "# since radius can be a floating point value\n",
    "\n",
    "radius  = float(input(\"Please enter the radius value:\")) \n",
    "\n",
    "# squares can be made using these 3 ways, as give in hints\n",
    "# all 3 ways generates the same result for area\n",
    "\n",
    "area = math.pi * radius ** 2 \n",
    "print(\"Area is:\", area)\n",
    "\n",
    "area = math.pi * math.pow(radius, 2)\n",
    "print(\"Area is:\", area)\n",
    "\n",
    "area = math.pi * radius * radius\n",
    "print(\"Area is:\", area)\n",
    "\n",
    "#==============================================================\n",
    "# TODO\n",
    "# calculate circumference\n",
    "\n",
    "#=============================================================="
   ]
  },
  {
   "cell_type": "markdown",
   "metadata": {
    "id": "_ix8TYCXGxxU"
   },
   "source": [
    "### Task 3\n",
    "\n",
    "Write the Python code of a program that reads two numbers from the user. The program should then print \"First is greater\" if the first number is greater, \"Second is greater\" if the second number is greater, and \"The numbers are equal\" otherwise.\n",
    "\n",
    "==========================================================\n",
    "\n",
    "**Sample Input 1:**\\\n",
    "7\\\n",
    "3\n",
    "\n",
    "**Sample Output 1:**\\\n",
    "First is greater\n",
    "\n",
    "==========================================================\n",
    "\n",
    "**Sample Input 2:**\\\n",
    "-33\\\n",
    "-3\n",
    "\n",
    "**Sample Output 2:**\\\n",
    "Second is greater\n",
    "\n",
    "==========================================================\n",
    "\n",
    "**Sample Input 1:**\\\n",
    "11\\\n",
    "11\n",
    "\n",
    "**Sample Output 1:**\\\n",
    "The numbers are equal\n"
   ]
  },
  {
   "cell_type": "code",
   "execution_count": null,
   "metadata": {
    "id": "0cXCOjm0GxxU"
   },
   "outputs": [],
   "source": [
    "num1 = int(input('First Number is :'))\n",
    "num2 = int(input('Second Number is :'))\n",
    "if num1 > num2 :\n",
    "    print('First is greater')\n",
    "elif num1 < num2 :\n",
    "    print('Second is greater')\n",
    "else :\n",
    "    print('The numbers are equal')"
   ]
  },
  {
   "cell_type": "markdown",
   "metadata": {
    "id": "B-lEymPxGxxZ"
   },
   "source": [
    "### Task 4\n",
    "\n",
    "Write the Python code of a program that reads two numbers, subtracts the smaller number from the larger one, and prints the result.\n",
    "\n",
    "*Hint: First, we may check which number is greater*\n",
    "\n",
    "==========================================================\n",
    "\n",
    "**Sample Input 1:**\\\n",
    "-40\\\n",
    "-4\n",
    "\n",
    "**Sample Output 1:**\\\n",
    "36\n",
    "\n",
    "**Explanation:** -4 > -40 so -4 - (-40) = -4 + 40 = 36\n",
    "\n",
    "==========================================================\n",
    "\n",
    "**Sample Input 2:**\\\n",
    "6\\\n",
    "2\n",
    "\n",
    "**Sample Output 2:**\\\n",
    "4\n",
    "\n",
    "==========================================================\n",
    "\n",
    "\n",
    "**Sample Input 3:**\\\n",
    "5\\\n",
    "5\n",
    "\n",
    "**Sample Output 3:**\\\n",
    "0\n"
   ]
  },
  {
   "cell_type": "code",
   "execution_count": 2,
   "metadata": {
    "id": "XBdXtfEtGxxa"
   },
   "outputs": [
    {
     "name": "stdout",
     "output_type": "stream",
     "text": [
      "First Number is :-40\n",
      "Second Number is :-4\n",
      "36\n"
     ]
    }
   ],
   "source": [
    "num1 = int(input(\"First Number is : \"))\n",
    "num2 =  int(input(\"Second Number is : \"))\n",
    "if num1 > num2 :\n",
    "    substract = num1 - num2\n",
    "else :\n",
    "    substract = num2 - num1\n",
    "    \n",
    "print(substract)\n",
    "\n",
    "    "
   ]
  },
  {
   "cell_type": "markdown",
   "metadata": {
    "id": "jQEW8unEGxxf"
   },
   "source": [
    "### Task 5\n",
    "\n",
    "Write the Python code of a program that reads a number, and prints \"The number is even\" or \"The number is odd\", depending on whether the number is even or odd. \n",
    "\n",
    "*hint(1): we may use the modulus (%) operator to check for even or odd*\n",
    "\n",
    "*hint(2): we can consider the number to be an integer* \n",
    "\n",
    "==========================================================\n",
    "\n",
    "**Sample Input 1:**\\\n",
    "7\n",
    "\n",
    "**Sample Output 1:**\\\n",
    "The number is odd\n",
    "\n",
    "==========================================================\n",
    "\n",
    "**Sample Input 2:**\\\n",
    "10\n",
    "\n",
    "**Sample Output 2:**\\\n",
    "The number is even\n",
    "\n",
    "==========================================================\n",
    "\n",
    "**Sample Input 3:**\\\n",
    "-44\n",
    "\n",
    "**Sample Output 3:**\\\n",
    "The number is even\n"
   ]
  },
  {
   "cell_type": "code",
   "execution_count": null,
   "metadata": {
    "id": "SsjHXfW_Gxxg"
   },
   "outputs": [],
   "source": [
    "checking_number = int(input(\"What Number You Want To Check : \"))\n",
    "if checking_number % 2 == 0 :\n",
    "    print(\"The number is even\")\n",
    "else :\n",
    "    print(\"The number is odd\")"
   ]
  },
  {
   "cell_type": "markdown",
   "metadata": {
    "id": "bXNE8TTGGxxn"
   },
   "source": [
    "### Task 6\n",
    "\n",
    "Write the Python code of a program that reads an integer as input from the user, and prints the integer if it is a multiple of **2 OR 5** and prints \"Not a multiple of 2 OR 5\" otherwise.\n",
    "\n",
    "For example, 2, 4, 5, 6, 8, 10, 12, 14, 15, 16, 18, 20, 22 … i.e. this includes multiples of 2 only, multiples of 5 only and multiples of 2 and 5 both.\n",
    "\n",
    "==========================================================\n",
    "\n",
    "*hint(1): we may use the modulus (%) operator for checking the divisibility*\n",
    "\n",
    "*hint(2): we can consider the number to be an integer* \n",
    "\n",
    "==========================================================\n",
    "\n",
    "**Sample Input 1:**\\\n",
    "5\n",
    "\n",
    "**Sample Output 1:**\\\n",
    "5\n",
    "\n",
    "==========================================================\n",
    "\n",
    "**Sample Input 2:**\\\n",
    "10\n",
    "\n",
    "**Sample Output 2:**\\\n",
    "10\n",
    "\n",
    "==========================================================\n",
    "\n",
    "**Sample Input 3:**\\\n",
    "3\n",
    "\n",
    "**Sample Output 3:**\\\n",
    "Not a multiple of 2 OR 5\n"
   ]
  },
  {
   "cell_type": "code",
   "execution_count": null,
   "metadata": {
    "id": "J2siE5HRGxxo"
   },
   "outputs": [],
   "source": [
    "checking_number = int(input(\"what number you want to check : \"))\n",
    "if checking_number % 2 == 0 or checking_number % 5 == 0 :\n",
    "    print(checking_number)\n",
    "else :\n",
    "    print(\"Not a multiple of 2 OR 5\")"
   ]
  },
  {
   "cell_type": "markdown",
   "metadata": {
    "id": "W0VUh6LyGxxr"
   },
   "source": [
    "### Task 7\n",
    "Write the Python code of a program that reads an integer, and prints the integer  it is a multiple of **either 2 or 5 but not both.** If the number is a multiple of 2 and 5 both, then print \"Multiple of 2 and 5 both\". For all other numbers, the program prints \"Not a multiple we want\".\n",
    "\n",
    "For example, 2, 4, 5, 6, 8, 12, 14, 15, 16, 18, 22 … i.e. this includes multiples of 2 only and multiples of 5 only, NOT multiples of 2 and 5 both or other numbers.\n",
    "\n",
    "==========================================================\n",
    "\n",
    "*hint(1): we may use the modulus (%) operator for checking the divisibility*\n",
    "\n",
    "*hint(2): we can consider the number to be an integer* \n",
    "\n",
    "==========================================================\n",
    "\n",
    "**Sample Input 1:**\\\n",
    "6\n",
    "\n",
    "**Sample Output 1:**\\\n",
    "6\n",
    "\n",
    "==========================================================\n",
    "\n",
    "**Sample Input 2:**\\\n",
    "15\n",
    "\n",
    "**Sample Output 2:**\\\n",
    "15\n",
    "\n",
    "==========================================================\n",
    "\n",
    "**Sample Input 3:**\\\n",
    "10\n",
    "\n",
    "**Sample Output 3:**\\\n",
    "Multiple of 2 and 5 both\n",
    "\n",
    "==========================================================\n",
    "\n",
    "**Sample Input 4:**\\\n",
    "17\n",
    "\n",
    "**Sample Output 4:**\\\n",
    "Not a multiple we want"
   ]
  },
  {
   "cell_type": "code",
   "execution_count": null,
   "metadata": {
    "id": "O_kEf_WsGxxr"
   },
   "outputs": [],
   "source": [
    "checking_number = int(input(\"Enter a Number : \"))\n",
    "if checking_number % 2 == 0 and checking_number % 5 == 0 :\n",
    "    print(\"Multiple of 2 and 5 both\")\n",
    "elif checking_number % 2 == 0 or checking_number % 5 == 0 :\n",
    "    print(checking_number)\n",
    "else :\n",
    "    print(\"Not a multiple we want\")"
   ]
  },
  {
   "cell_type": "markdown",
   "metadata": {
    "id": "w6Yoi7DfGxxw"
   },
   "source": [
    "### Task 8\n",
    "Write the Python code of a program that reads an integer, and prints the integer if it is a multiple of **2 AND 5** and prints \"Not multiple of 2 and 5 both\" otherwise.\n",
    "\n",
    "==========================================================\n",
    "\n",
    "For example, 10, 20, 30, 40, 50 … i.e. this only includes numbers which are multiples of both 2 and 5.\n",
    "\n",
    "*hint(1): we may use the modulus (%) operator for checking the divisibility*\n",
    "\n",
    "*hint(2): we can consider the number to be an integer* \n",
    "\n",
    "==========================================================\n",
    "\n",
    "**Sample Input 1:**\\\n",
    "30\n",
    "\n",
    "**Sample Output 1:**\\\n",
    "30\n",
    "\n",
    "==========================================================\n",
    "\n",
    "**Sample Input 2:**\\\n",
    "15\n",
    "\n",
    "**Sample Output 2:**\\\n",
    "Not multiple of 2 and 5 both\n",
    "\n",
    "\n",
    "==========================================================\n",
    "\n",
    "**Sample Input 3:**\\\n",
    "6\n",
    "\n",
    "**Sample Output 3:**\\\n",
    "Not multiple of 2 and 5 both"
   ]
  },
  {
   "cell_type": "code",
   "execution_count": null,
   "metadata": {
    "id": "-Zjnff92Gxxx"
   },
   "outputs": [],
   "source": [
    "checking_number = int(input(\"Enter a Number : \"))\n",
    "if checking_number % 2 == 0 and checking_number % 5 == 0 :\n",
    "    print(checking_number)\n",
    "else :\n",
    "    print(\"Not multiple of 2 and 5 both\")"
   ]
  },
  {
   "cell_type": "markdown",
   "metadata": {
    "id": "_6lrd5lZGxyJ"
   },
   "source": [
    "### Task 9\n",
    "Write the Python code of a program that finds the number of hours, minutes, and seconds in a **given number of seconds.** The number of seconds is taken as input from the user.\n",
    "\n",
    "==========================================================\n",
    "\n",
    "*hint(1): we may consider our user input to be an integer value and use // and % operators to solve the problem* \n",
    "\n",
    "*hint(2): 1 hour = 60 mins = 3600 seconds* and *1 min = 60 seconds* \n",
    "\n",
    "==========================================================\n",
    "\n",
    "**Sample Input 1:**\\\n",
    "10000\n",
    "\n",
    "**Sample Output 1:**\\\n",
    "Hours: 2  Minutes: 46  Seconds: 40\n",
    "\n",
    "**Explanation:**\\\n",
    "10000 seconds = 10000 // 3600 = 2 hours and 10000 % 3600 = 2800 seconds.\\\n",
    "Then again, 2800 // 60 = 46 minutes and 2800 % 60 = 40 seconds.\\\n",
    "And hence we have arrived at our answer.\n",
    "\n",
    "==========================================================\n",
    "\n",
    "**Sample Input 2:**\\\n",
    "500\n",
    "\n",
    "**Sample Output 2:**\\\n",
    "Hours: 0  Minutes: 8  Seconds: 20\n"
   ]
  },
  {
   "cell_type": "code",
   "execution_count": null,
   "metadata": {
    "id": "xd9l2gQvGxyN"
   },
   "outputs": [],
   "source": [
    "given_seconds = int(input(\"Enter Seconds : \"))\n",
    "one_hour = 3600\n",
    "one_minute = 60\n",
    "conv_hour = 0\n",
    "conv_min = 0\n",
    "conv_seconds = 0\n",
    "if  given_seconds >= one_hour :\n",
    "    conv_hour = given_seconds // one_hour\n",
    "    rest_min = given_seconds % one_hour\n",
    "    conv_min = rest_min // one_minute\n",
    "    rest_seconds = rest_min % one_minute\n",
    "    conv_seconds = rest_seconds\n",
    "    print(\"Hours:\",conv_hour,\"Minutes:\",conv_min,\"Seconds:\",conv_seconds)\n",
    "\n",
    "elif given_seconds < one_hour and given_seconds >= one_minute :\n",
    "    conv_min = given_seconds // one_minute\n",
    "    rest_seconds = given_seconds % one_minute\n",
    "    conv_seconds = rest_seconds % one_minute\n",
    "    print(\"Hours:\",conv_hour,\"Minutes:\",conv_min,\"Seconds:\",conv_seconds)\n",
    "\n",
    "else :\n",
    "    conv_seconds = given_seconds\n",
    "    print(\"Hours:\",conv_hour,\"Minutes:\",conv_min,\"Seconds:\",conv_seconds)\n",
    "    \n",
    "   \n",
    "    \n",
    "    "
   ]
  },
  {
   "cell_type": "markdown",
   "metadata": {
    "id": "2LC9or6kGxyD"
   },
   "source": [
    "### Task 10\n",
    "\n",
    "Write a Python program to compute and display a person’s weekly salary as determined by the following conditions:\n",
    "\n",
    "* If the hours worked is less than or equal to 40, then the person receives Tk 200 per hour.\n",
    "* If the hours worked is greater than 40, then the person receives Tk 8000 plus Tk 300 for each hour worked over 40 hours.\n",
    "\n",
    "The program should request the hours worked as an input from the user and display the salary as output. You need to make sure that user input is valid. For example, a person cannot work for -5 hours or more than 168 hours in a week. So, the valid hours range is 0 to 168. For invalid hours, print outputs as given in the samples below.\n",
    "\n",
    "==========================================================\n",
    "\n",
    "*Hint: you can consider the hour (user input) to be an integer* \n",
    "\n",
    "==========================================================\n",
    "\n",
    "**Sample Input 1:**\\\n",
    "100\n",
    "\n",
    "**Sample Output 1:**\\\n",
    "26000\n",
    "\n",
    "**Explanation:** Since, the number of hours worked is 100 > 40, therefore salary = 8000 + (100 - 40) * 300 = 26000.\n",
    "\n",
    "==========================================================\n",
    "\n",
    "**Sample Input 2:**\\\n",
    "30\n",
    "\n",
    "**Sample Output 2:**\\\n",
    "6000\n",
    "\n",
    "**Explanation:** Since, the number of hours worked is 30 < 40, therefore salary = 30 * 200 = 6000.\n",
    "\n",
    "==========================================================\n",
    "\n",
    "**Sample Input 3:**\\\n",
    "-30\n",
    "\n",
    "**Sample Output 3:**\\\n",
    "Hour cannot be negative\n",
    "\n",
    "==========================================================\n",
    "\n",
    "**Sample Input 4:**\\\n",
    "170\n",
    "\n",
    "**Sample Output 4:**\\\n",
    "Impossible to work more than 168 hours weekly"
   ]
  },
  {
   "cell_type": "code",
   "execution_count": null,
   "metadata": {
    "id": "L5JmB1bDGxyD"
   },
   "outputs": [],
   "source": [
    "worked_hours = int(input(\"How Many Hours have You Worked : \"))\n",
    "if worked_hours <= 40 :\n",
    "  if worked_hours >= 0 :\n",
    "    per_hour_tk = 200\n",
    "    payout = worked_hours * per_hour_tk\n",
    "    print(payout)\n",
    "  else :\n",
    "    print(\"Hour cannot be negative\")\n",
    "else :\n",
    "  if worked_hours <= 168 :\n",
    "    payout = 8000 + (worked_hours - 40) * 300\n",
    "    print(payout)\n",
    "  else :\n",
    "    print(\"Impossible to work more than 168 hours weekly\")\n",
    "    "
   ]
  },
  {
   "cell_type": "markdown",
   "metadata": {
    "id": "NQZL_Wh-GxyW"
   },
   "source": [
    "### Task 11\n",
    "Suppose the following expressions are used to calculate the values of L for different values of S:\n",
    "\n",
    "$L =  3000-125S^2$ \n",
    "if     $S<100$\n",
    "\n",
    "$ L =  \\frac{12000}{4+S^2/14900}$\n",
    "if     $S\\geq100$\n",
    "\n",
    "Write the Python code of a program that reads a value of S and then calculates the value of L.\n",
    "\n",
    "==========================================================\n",
    "\n",
    "*hint(1): you can import math and use math function for making squares with math.pow(number, power) or you can simply write S ** 2.*\n",
    "\n",
    "*hint(2): the value of S(user input) will be an integer* \n",
    "\n",
    "==========================================================\n",
    "\n",
    "**Sample Input 1:**\\\n",
    "120\n",
    "\n",
    "**Sample Output 1:**\\\n",
    "2416.2162162162163\n",
    "\n",
    "**Explanation:** Since S (user input) given here is 120 >= 100, so L = 12000 / (4 + (120 * 120)/14900) = 2416.2162162162163\n",
    "\n",
    "==========================================================\n",
    "\n",
    "**Sample Input 2:**\\\n",
    "3\n",
    "\n",
    "**Sample Output 2:**\\\n",
    "1875\n",
    "\n",
    "**Explanation:** Since S (user input) given here is 3 < 100, so L = 3000 - 125 * 3 * 3 = 1875\n"
   ]
  },
  {
   "cell_type": "code",
   "execution_count": null,
   "metadata": {
    "id": "nxgt9wlFGxyY"
   },
   "outputs": [],
   "source": [
    "value_of_s = int(input(\"Enter the value of S : \"))\n",
    "if value_of_s < 100 :\n",
    "  result = 3000 - 125 * ( value_of_s ** 2 )\n",
    "  print(result)\n",
    "else :\n",
    "  result = 12000 / ( 4 + (value_of_s ** 2 ) / 14900 )\n",
    "  print(result)"
   ]
  },
  {
   "cell_type": "markdown",
   "metadata": {
    "id": "WykwxxMBGxyd"
   },
   "source": [
    "### Task 12\n",
    "\n",
    "Write a Python program that takes an hour from the user as input and tells it is time for which meal.\n",
    "\n",
    "•\tThe user will input the number in a 24-hour format. So, 14 means 2 pm, 3 means 3 am, 18 means 6 pm, etc.\\\n",
    "•\tValid inputs are 0 to 23. Inputs less than 0 or more than 23 are invalid in 24-hour clock.\\\n",
    "•\tAssume, input will be whole numbers. For example, 3.5 will NOT be given as input.\n",
    "\n",
    "==========================================================\n",
    "\n",
    "**Input range: Message to be printed**\\\n",
    "4 to 6: Breakfast\\\n",
    "12 to 13: Lunch\\\n",
    "16 to 17: Snacks\\\n",
    "19 to 20: Dinner\\\n",
    "For all other valid inputs, say \"Patience is a virtue\"\\\n",
    "For all other invalid inputs, say \"Wrong time\"\n",
    "\n",
    "==========================================================\n",
    "\n",
    "For example,\\\n",
    "If the user enters 4, your program should print the message \"Breakfast\".\\\n",
    "If the user enters 5, your program should print the message \"Breakfast\".\\\n",
    "If the user enters 6, your program should print the message \"Breakfast\".\\\n",
    "If the user enters 0, your program should print the message \"Patience is a virtue\".\\\n",
    "If the user enters 1, your program should print the message \"Patience is a virtue\".\\\n",
    "If the user enters 18, your program should print the message \"Patience is a virtue\".\\\n",
    "If the user enters 23, your program should print the message \"Patience is a virtue\".\\\n",
    "If the user enters 24, your program should print the message \"Wrong Time\".\\\n",
    "If the user enters -1, your program should print the message \"Wrong Time\".\\\n",
    "If the user enters 27, your program should print the message \"Wrong time\".\n",
    "\n",
    "==========================================================\n",
    "\n",
    "Hints: You can use nested conditionals (if-else) or chained conditions (if-elif-else) to solve this problem.\n",
    "\n"
   ]
  },
  {
   "cell_type": "code",
   "execution_count": 1,
   "metadata": {
    "id": "0qbV5e33Gxye"
   },
   "outputs": [
    {
     "name": "stdout",
     "output_type": "stream",
     "text": [
      "Enter Hour : 0\n",
      "Wrong time\n"
     ]
    }
   ],
   "source": [
    "given_hour = int(input(\"Enter Hour : \"))\n",
    "if given_hour < 24 and given_hour > 0 :\n",
    "  if given_hour == 4 or given_hour == 5 or given_hour == 6 :\n",
    "    print(\"Breakfast\")\n",
    "  elif given_hour == 12 or given_hour == 13 :\n",
    "    print(\"Breakfast\")\n",
    "  elif given_hour == 16 or given_hour == 17 :\n",
    "    print(\"Breakfast\")\n",
    "  elif given_hour == 19 or given_hour == 20 : \n",
    "    print(\"Breakfast\")\n",
    "  else :\n",
    "    print(\"Patience is a virtue\")\n",
    "else : \n",
    "  print(\"Wrong time\")"
   ]
  },
  {
   "cell_type": "markdown",
   "metadata": {
    "id": "KV1hMmd2Gxx9"
   },
   "source": [
    "### Task 13\n",
    "\n",
    "Write the Python code of a program that reads a student’s mark for a single subject, and prints out the corresponding grade for that mark. The mark ranges and corresponding grades are shown in the table below. You need to make sure that the mark is valid. For example, a student cannot receive -5 or 110 marks. So, the valid marks range is 0 to 100.\n",
    "\n",
    "*hint(1): you can consider the number to be an integer* \n",
    "\n",
    "*hint(2): this problem can be solved in two ways: top-down (starts from A) and bottom-up (starts from F)*\n",
    "\n",
    "\n",
    "| Marks | Grade|\n",
    "| --- | --- | \n",
    "|90 or above| A |\n",
    "|  |  | \n",
    "|80-89| B |\n",
    "|  |  | \n",
    "|70-79| C |\n",
    "|  |  | \n",
    "|60-69| D |\n",
    "|  |  | \n",
    "|50-59| E |\n",
    "|  |  | \n",
    "|Below 50| F |\n",
    "|  |  |\n"
   ]
  },
  {
   "cell_type": "code",
   "execution_count": null,
   "metadata": {
    "id": "9sr1xTkMGxx_"
   },
   "outputs": [],
   "source": [
    "got_marks = int(input(\"Enter Your Mark : \"))\n",
    "if got_marks >= 0 and got_marks <= 100 :\n",
    "  if got_marks >= 90 and got_marks <= 100 :\n",
    "    print(\"A\")\n",
    "  elif got_marks >= 80 and got_marks < 90 :\n",
    "    print(\"B\")\n",
    "  elif got_marks >= 70 and got_marks < 80 :\n",
    "    print(\"C\")\n",
    "  elif got_marks >= 60 and got_marks < 70 :\n",
    "    print(\"D\")\n",
    "  elif got_marks >= 50 and got_marks < 60 :\n",
    "    print(\"E\")\n",
    "  else :\n",
    "    print(\"F\")\n",
    "else :\n",
    "  print(\"Invalid Mark\")"
   ]
  },
  {
   "cell_type": "markdown",
   "metadata": {
    "id": "hHzKxtvDJCy3"
   },
   "source": [
    "### Task 14\n",
    "\n",
    "You are designing a robot that can calculate the temperature and guess the season. Write a Python program that takes a number as input, representing the temperature in degrees Fahrenheit, and converts it into degrees Celsius, and then prints the season based on the following table:\n",
    "\n",
    "\n",
    "| Temperature (degrees Celsius) | Season|\n",
    "| --- | --- | \n",
    "|Less than 20 degrees| Winter |\n",
    "|  |  | \n",
    "|Between 20 degrees and 25 degrees| Autumn |\n",
    "|  |  | \n",
    "|Between 25 degrees and 30 degrees| Spring |\n",
    "|  |  | \n",
    "|Greater than 30 degrees| Summer |\n",
    "|  |  | \n",
    "\n",
    "\n",
    "Use the following formula to convert the temperature:\\\n",
    "(degrees Celsius) = ((degrees Fahrenheit) - 32) * 0.56\n",
    "\n",
    "==========================================================\n",
    "\n",
    "**Sample Input 1:**\\\n",
    "82\n",
    "\n",
    "**Sample Output 1:**\\\n",
    "28 degrees C\\\n",
    "Spring\n",
    "\n",
    "**Explanation:** The temperature in Celsius is (82 - 32) * 0.56 = 28 degrees, which is printed. This is between 25 and 30 degrees, so “Spring” is printed after that.\n",
    "\n",
    "==========================================================\n",
    "\n",
    "**Sample Input 2:**\\\n",
    "32\n",
    "\n",
    "**Sample Output 2:**\\\n",
    "0 degrees C\\\n",
    "Winter\n",
    "\n",
    "**Explanation:** The temperature in Celsius is (32 - 32) * 0.56 = 0 degrees, which is printed. This is less than 20 degrees, so “Winter” is printed after that."
   ]
  },
  {
   "cell_type": "code",
   "execution_count": null,
   "metadata": {
    "id": "PBYbvcITLYHL"
   },
   "outputs": [],
   "source": [
    "deg_fahren = int(input(\"Enter Degree in Fahrenheit : \"))\n",
    "deg_celsi = ((deg_fahren) - 32) * 0.56 \n",
    "if deg_celsi < 20 :\n",
    "  season = \"Winter\"\n",
    "  print(int(deg_celsi),\"degrees C\")\n",
    "  print(season)\n",
    "elif deg_celsi >= 20 and deg_celsi < 25 :\n",
    "  season = \"Autumn\"\n",
    "  print(int(deg_celsi),\"degrees C\")\n",
    "  print(season)\n",
    "elif deg_celsi >= 25 and deg_celsi < 30 :\n",
    "  season = \"Spring\"\n",
    "  print(int(deg_celsi),\"degrees C\")\n",
    "  print(season)\n",
    "else :\n",
    "  season = \"Summer\"\n",
    "  print(int(deg_celsi),\"degrees C\")\n",
    "  print(season)"
   ]
  },
  {
   "cell_type": "markdown",
   "metadata": {
    "id": "YTpHMi0rLY_U"
   },
   "source": [
    "### Task 15\n",
    "Suppose, your friend is building an automated car called “Besla”. He needs to fix the programming of the car so that it runs at a proper speed. Now, write a python program that takes 2 inputs (distance in meters and time in seconds). The program should then print the velocity in kilometers per hour of that car. Also, it should print whether the car is working properly based on the following chart.\n",
    "\n",
    "|Velocity|Information to be printed|\n",
    "|------|------|\n",
    "|Less than 60 km/h  |Too slow. Needs more changes.\n",
    "|Between 60 km/h to 90 km/h |Velocity is okay. The car is ready!\n",
    "|Greater than 90 km/h|Too fast. Only a few changes should suffice. \n",
    "\n",
    "==========================================\n",
    "\n",
    "**Sample Input 1:**\\\n",
    "160000\\\n",
    "7200\n",
    "\n",
    "\n",
    "**Sample Output 1:**\\\n",
    "80.0 km/h\\\n",
    "Velocity is okay. The car is ready!\n",
    "\n",
    "\n",
    "**Explanation:** After the conversion of distance and time, the velocity is (160/2) km/h = 80 km/h. So the velocity is okay\n",
    "\n",
    " ==========================================\n",
    "\n",
    "**Sample Input 2:**\\\n",
    "25400\\\n",
    "3600\n",
    "\n",
    "\n",
    "**Sample Output 2:**\\\n",
    "25.4 km/h\\\n",
    "Too slow. Needs more changes.\n",
    "\n",
    "**Explanation:** After the conversion of distance and time, the velocity is (25.4/1) km/h = 25.4 km/h. So the speed is too slow."
   ]
  },
  {
   "cell_type": "code",
   "execution_count": null,
   "metadata": {
    "id": "Gq52rezpLemr"
   },
   "outputs": [],
   "source": [
    "dis_met = int(input(\"Enter The Distance in meters : \"))\n",
    "time_sec = int(input(\"Enter Time in seconds : \"))\n",
    "kilo_per_hour = (dis_met / 1000) / (time_sec / 3600)\n",
    "if dis_met >= 0 and time_sec >= 0 :\n",
    "  if kilo_per_hour < 60 :\n",
    "    print(kilo_per_hour, \"km/h\")\n",
    "    print(\"Too slow. Needs more changes.\")\n",
    "  elif kilo_per_hour >= 60 and kilo_per_hour < 90 :\n",
    "    print(kilo_per_hour, \"km/h\")\n",
    "    print(\"Velocity is okay. The car is ready!\")\n",
    "  else :\n",
    "    print(kilo_per_hour, \"km/h\")\n",
    "    print(\"Too fast. Only a few changes should suffice.\")\n",
    "else :\n",
    "  print(\"input valid meters and time\")\n"
   ]
  },
  {
   "cell_type": "markdown",
   "metadata": {
    "id": "dJVOTwKyLfML"
   },
   "source": [
    "# Task 16\n",
    "Write a python program that takes the CGPA and no of credits completed by a student and prints whether the student is eligible for a waiver and of what percentage. \n",
    "\n",
    "To be eligible for a waiver, a student must have completed at least 30 credits and earned a CGPA greater or equal to 3.8. If not, please print \"The students is not eligible for a waiver\".\n",
    "\n",
    "**CGPA** | **Waiver percentage**\n",
    "--- | ---\n",
    "3.80 - 3.89 | 25 percent\n",
    "3.90 - 3.94 | 50 percent\n",
    "3.95 - 3.99 | 75 percent\n",
    "4.00 | 100 percent\n",
    "\n",
    "\n",
    "**Sample Input 1:** \\\n",
    "3.93 \\\n",
    "78 \\\n",
    "\n",
    "**Sample Output 1:**\\\n",
    "The student is eligible for a waiver of 50 percent.\n",
    "\n",
    "================================================================================\n",
    "\n",
    "**Sample Input 2:** \\\n",
    "3.79 \\\n",
    "24 \\\n",
    "\n",
    "**Sample Output 2:**\\\n",
    "The students is not eligible for a waiver \\\n"
   ]
  },
  {
   "cell_type": "code",
   "execution_count": null,
   "metadata": {
    "id": "wlVNvKnZLlBL"
   },
   "outputs": [],
   "source": [
    "gotten_cgpa = float(input(\"Enter Your CGPA : \"))\n",
    "credit_completed = float(input(\"Enter How Many Credits You Have Completed : \"))\n",
    "if gotten_cgpa >= 3.80 and gotten_cgpa < 3.90 :\n",
    "  wavier = \"25 percent\"\n",
    "  if credit_completed >= 30 :\n",
    "    print(\"The student is eligible for a wavier of\", wavier)\n",
    "  else :\n",
    "    print(\"The students is not eligible for a waiver\")\n",
    "elif gotten_cgpa >= 3.90 and gotten_cgpa < 3.95 :\n",
    "  wavier = \"50 percent\"\n",
    "  if credit_completed >= 30 :\n",
    "    print(\"The student is eligible for a wavier of\", wavier)\n",
    "  else :\n",
    "    print(\"The students is not eligible for a waiver\")\n",
    "elif gotten_cgpa >= 3.95 and gotten_cgpa < 4.00 :\n",
    "  wavier = \"75 percent\"\n",
    "  if credit_completed >= 30 :\n",
    "    print(\"The student is eligible for a wavier of\", wavier)\n",
    "  else :\n",
    "    print(\"The students is not eligible for a waiver\")\n",
    "else :\n",
    "  print(\"The students is not eligible for a waiver\")"
   ]
  },
  {
   "cell_type": "markdown",
   "metadata": {
    "id": "AWbbbs5mSK6O"
   },
   "source": [
    "## Optional Tasks (17 - 19) [Ungraded]"
   ]
  },
  {
   "cell_type": "markdown",
   "metadata": {
    "id": "HHaloARnTY9O"
   },
   "source": [
    "**These tasks are just for practice. No marks will be deducted for not completing them and no bonus marks will be given for solving them. Just try and practice these problems .**"
   ]
  },
  {
   "cell_type": "markdown",
   "metadata": {
    "id": "APBZn5NOGxx0"
   },
   "source": [
    "### Task 17\n",
    "\n",
    "Write the Python code of a program that reads an integer, and prints the integer if it is a multiple of **NEITHER 2 NOR 5.** \n",
    "\n",
    "For example, 1, 3, 7, 9, 11, 13, 17, 19, 21, 23, 27, 29, 31, 33, 37, 39 …\n",
    "\n",
    "==========================================================\n",
    "\n",
    "*hint(1): you may use the modulus (%) operator for checking the divisibility*\n",
    "\n",
    "*hint(2): you can consider the number to be an integer* \n",
    "\n",
    "\n",
    "==========================================================\n",
    "\n",
    "**Sample Input 1:** \\\n",
    "3\n",
    "\n",
    "**Sample Output 1:** \\\n",
    "3\n",
    "\n",
    "\n",
    "==========================================================\n",
    "\n",
    "\n",
    "**Sample Input 2:** \\\n",
    "19\n",
    "\n",
    "**Sample Output 2:** \\\n",
    "19\n",
    "\n",
    "==========================================================\n",
    "\n",
    "\n",
    "**Sample Input 3:** \\\n",
    "5\n",
    "\n",
    "**Sample Output 3:** \\\n",
    "No\n",
    "\n",
    "==========================================================\n",
    "\n",
    "\n",
    "**Sample Input 4:** \\\n",
    "12\n",
    "\n",
    "**Sample Output 4:** \\\n",
    "No\n"
   ]
  },
  {
   "cell_type": "code",
   "execution_count": null,
   "metadata": {
    "id": "3j7LKP26Gxx2"
   },
   "outputs": [],
   "source": [
    "given_num = int(input(\"Enter Number : \"))\n",
    "if given_num % 2 == 0 or given_num % 5 == 0 :\n",
    "  print(\"No\")\n",
    "else :\n",
    "    print(given_num)"
   ]
  },
  {
   "cell_type": "markdown",
   "metadata": {
    "id": "rhv6Zkj7Gxx5"
   },
   "source": [
    "### Task 18\n",
    "\n",
    "Write the Python code of a program that reads an integer, and prints the integer if it is **NOT a multiple of 2** OR **NOT a multiple of 5.**\n",
    "\n",
    "For example, 1, 2, 3, 4, 5, 6, 7, 8, 9, 11, 12, 13, 14, 15, 16, 17, 18, 19, 21, 22\n",
    "\n",
    "==========================================================\n",
    "\n",
    "*hint(1): you may use the modulus (%) operator for checking the divisibility*\n",
    "\n",
    "*hint(2): you can consider the number to be an integer* \n",
    "\n",
    "\n",
    "==========================================================\n",
    "\n",
    "**Sample Input 1:** \\\n",
    "3\n",
    "\n",
    "**Sample Output 1:** \\\n",
    "3\n",
    "\n",
    "==========================================================\n",
    "\n",
    "**Sample Input 2:** \\\n",
    "15\n",
    "\n",
    "**Sample Output 2:** \\\n",
    "15\n",
    "\n",
    "==========================================================\n",
    "\n",
    "**Sample Input 3:** \\\n",
    "20\n",
    "\n",
    "**Sample Output 3:** \\\n",
    "No\n",
    "\n",
    "==========================================================\n",
    "\n",
    "**Sample Input 4:** \\\n",
    "14\n",
    "\n",
    "**Sample Output 4:** \\\n",
    "14"
   ]
  },
  {
   "cell_type": "code",
   "execution_count": 4,
   "metadata": {
    "id": "mEjdHcbGGxx5"
   },
   "outputs": [
    {
     "name": "stdout",
     "output_type": "stream",
     "text": [
      "Enter Number : 3\n",
      "3\n"
     ]
    }
   ],
   "source": [
    "given_num = int(input(\"Enter Number : \"))\n",
    "if given_num % 2 == 0 and given_num % 5 == 0 :\n",
    "  print(\"No\")\n",
    "else :\n",
    "    print(given_num)"
   ]
  },
  {
   "cell_type": "markdown",
   "metadata": {
    "id": "_AN4Ne3drEvn"
   },
   "source": [
    "### Task 19\n",
    "Fiona has recently started acrylic painting and she is planning to order a few canvases and paints from an online stationery shop. The price of each 10 x 10 sized canvas is **120 tk** and the price of each 25 ml paint tube is **75 tk**. Depending on the total amount ordered from the shop, she will get some discounts. The table below shows the discount she will get on her total amount.\n",
    "\n",
    "\n",
    "|Total Amount (TK)|Discount (TK)|\n",
    "|------|------|\n",
    "|0 - 299|No Discount|\n",
    "|300 - 499|10|\n",
    "|500 - 749 |20|\n",
    "|750 - 999|50|\n",
    "|>= 1000|150|\n",
    "\n",
    "Write a python program and take two inputs from the user. The first input will be the number of canvases and the second input will be the number of paint tubes ordered. Based on the price of each item, calculate the total amount that Fiona needs to pay including the discount.  \n",
    "\n",
    " ================================\n",
    "\n",
    "\n",
    "**Sample Input 1:**\\\n",
    "5\\\n",
    "8\n",
    "\n",
    "\n",
    "**Sample Output 1:**\\\n",
    "Previous total: 1200\\\n",
    "New total after discount: 1050\n",
    "\n",
    "\n",
    "**Explanation:** 5 * 120 + 8 * 75 = 1200 Tk was her bill without discount.  For 1200 Tk, the discount amount is 150 Tk. So, her new bill with a discount is (1200 - 150) = 1050 Tk.\n",
    "\n",
    "================================\n",
    "\n",
    "**Sample Input 2:**\\\n",
    "0\\\n",
    "3\n",
    "\n",
    "\n",
    "**Sample Output 2:**\\\n",
    "Previous total: 225\\\n",
    "New total after discount: 225\n",
    "\n",
    "\n",
    "\n",
    "**Explanation:** 0 * 120 + 3 * 75 = 225 Tk was her bill without discount.  For 225 Tk, the discount amount is 0 Tk. So, her new bill with a discount is (225 - 0) = 225 Tk.\n"
   ]
  },
  {
   "cell_type": "code",
   "execution_count": null,
   "metadata": {
    "id": "0C_5PeeyrDtk"
   },
   "outputs": [],
   "source": [
    "canvases_ordered = int(input(\"Canvases Ordered Quantity : \"))\n",
    "tubes_ordered = int(input(\"Tubes Ordered Quantity : \"))\n",
    "total = canvases_ordered * 120 + tubes_ordered * 75 \n",
    "if total >= 0 and total < 300 :\n",
    "  discount_amu = 0 \n",
    "  print(\"Previous total: \", total)\n",
    "  print(\"New total after discount: \", total - discount_amu)\n",
    "elif total >= 300 and total < 500 :\n",
    "  discount_amu = 10 \n",
    "  print(\"Previous total: \", total)\n",
    "  print(\"New total after discount: \", total - discount_amu)\n",
    "elif total > 500 and total < 750 :\n",
    "  discount_amu = 20 \n",
    "  print(\"Previous total: \", total)\n",
    "  print(\"New total after discount: \", total - discount_amu)\n",
    "elif total > 750 and total < 1000 :\n",
    "  discount_amu = 50 \n",
    "  print(\"Previous total: \", total)\n",
    "  print(\"New total after discount: \", total - discount_amu)\n",
    "else :\n",
    "  discount_amu = 150 \n",
    "  print(\"Previous total: \", total)\n",
    "  print(\"New total after discount: \", total - discount_amu)\n",
    "  "
   ]
  }
 ],
 "metadata": {
  "colab": {
   "collapsed_sections": [],
   "name": "CSE110 Lab Assignment 1 (Branching).ipynb",
   "provenance": []
  },
  "kernelspec": {
   "display_name": "Python 3 (ipykernel)",
   "language": "python",
   "name": "python3"
  },
  "language_info": {
   "codemirror_mode": {
    "name": "ipython",
    "version": 3
   },
   "file_extension": ".py",
   "mimetype": "text/x-python",
   "name": "python",
   "nbconvert_exporter": "python",
   "pygments_lexer": "ipython3",
   "version": "3.9.7"
  }
 },
 "nbformat": 4,
 "nbformat_minor": 1
}
